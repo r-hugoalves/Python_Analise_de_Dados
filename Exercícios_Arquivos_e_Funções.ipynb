{
  "nbformat": 4,
  "nbformat_minor": 0,
  "metadata": {
    "colab": {
      "provenance": [],
      "toc_visible": true,
      "authorship_tag": "ABX9TyO8cI+rDutX7Kg4X2JbKtfg",
      "include_colab_link": true
    },
    "kernelspec": {
      "name": "python3",
      "display_name": "Python 3"
    },
    "language_info": {
      "name": "python"
    }
  },
  "cells": [
    {
      "cell_type": "markdown",
      "metadata": {
        "id": "view-in-github",
        "colab_type": "text"
      },
      "source": [
        "<a href=\"https://colab.research.google.com/github/r-hugoalves/Python_Analise_de_Dados/blob/Arquivos_Funcoes/Exerc%C3%ADcios_Arquivos_e_Fun%C3%A7%C3%B5es.ipynb\" target=\"_parent\"><img src=\"https://colab.research.google.com/assets/colab-badge.svg\" alt=\"Open In Colab\"/></a>"
      ]
    },
    {
      "cell_type": "markdown",
      "source": [
        "# Exercícios: Arquivos e funções"
      ],
      "metadata": {
        "id": "RPsvaMWJz6aD"
      }
    },
    {
      "cell_type": "markdown",
      "source": [
        "Notebook exclusivo para a resolução dos exerícios. Todo o material teórico está disponível [nesse notebook](https://colab.research.google.com/drive/175QTsWYgPRao-zmPILo-hvlzdVXJdams?usp=sharing)"
      ],
      "metadata": {
        "id": "cIfOVtWX0C2O"
      }
    },
    {
      "cell_type": "markdown",
      "source": [
        "## Preparando o ambiente"
      ],
      "metadata": {
        "id": "QQdSYnbS4lMW"
      }
    },
    {
      "cell_type": "code",
      "source": [
        "%%writefile carros.csv\n",
        "id,valor_venda,valor_manutencao,portas,pessoas,porta_malas\n",
        "1,vhigh,med,2,2,small\n",
        "2,med,vhigh,2,2,small\n",
        "3,low,vhigh,2,2,small\n",
        "4,low,high,2,2,small\n",
        "5,low,high,2,2,small\n",
        "6,low,high,4,4,big\n",
        "7,low,high,4,4,big\n",
        "8,low,med,2,2,small\n",
        "9,low,med,2,2,small\n",
        "10,low,med,2,2,small\n",
        "11,low,med,4,4,big\n",
        "12,low,low,2,2,small\n",
        "13,low,low,4,4,small\n",
        "14,low,low,4,4,med"
      ],
      "metadata": {
        "id": "P6SXJwRbz9qe",
        "colab": {
          "base_uri": "https://localhost:8080/",
          "height": 0
        },
        "outputId": "0f1ee739-dd26-4f2d-998b-0c04613790e6"
      },
      "execution_count": 1,
      "outputs": [
        {
          "output_type": "stream",
          "name": "stdout",
          "text": [
            "Writing carros.csv\n"
          ]
        }
      ]
    },
    {
      "cell_type": "code",
      "source": [
        "%%writefile musica.txt\n",
        "Roda Viva\n",
        "Chico Buarque\n",
        "\n",
        "Tem dias que a gente se sente\n",
        "Como quem partiu ou morreu\n",
        "A gente estancou de repente\n",
        "Ou foi o mundo então que cresceu\n",
        "A gente quer ter voz ativa\n",
        "No nosso destino mandar\n",
        "Mas eis que chega a roda viva\n",
        "E carrega o destino pra lá\n",
        "\n",
        "Roda mundo, roda-gigante\n",
        "Roda moinho, roda pião\n",
        "\n",
        "O tempo rodou num instante\n",
        "Nas voltas do meu coração\n",
        "A gente vai contra a corrente\n",
        "Até não poder resistir\n",
        "Na volta do barco é que sente\n",
        "O quanto deixou de cumprir\n",
        "Faz tempo que a gente cultiva\n",
        "A mais linda roseira que há\n",
        "Mas eis que chega a roda viva\n",
        "E carrega a roseira pra lá\n",
        "\n",
        "Roda mundo, roda-gigante\n",
        "Roda moinho, roda pião"
      ],
      "metadata": {
        "colab": {
          "base_uri": "https://localhost:8080/",
          "height": 0
        },
        "id": "K-xyNxY97Qev",
        "outputId": "6c62d40d-8b08-461d-ad7a-329e2df8c96a"
      },
      "execution_count": 20,
      "outputs": [
        {
          "output_type": "stream",
          "name": "stdout",
          "text": [
            "Writing musica.txt\n"
          ]
        }
      ]
    },
    {
      "cell_type": "markdown",
      "source": [
        "## **Exercício 1 - Arquivo .csv**"
      ],
      "metadata": {
        "id": "rPUPMSak7YVH"
      }
    },
    {
      "cell_type": "markdown",
      "source": [
        "### 1.1 Extraia os valores `valor_venda` e armazene em uma lista"
      ],
      "metadata": {
        "id": "pJ-KJ7fBDhoU"
      }
    },
    {
      "cell_type": "code",
      "source": [
        "valor_venda = []\n",
        "\n",
        "with open(file='./carros.csv', mode='r', encoding='utf8') as arquivo_valor_venda:\n",
        "  linha = arquivo_valor_venda.readline() # lendo o cabeçalho\n",
        "  linha = arquivo_valor_venda.readline() # lendo a primeira linha\n",
        "  \n",
        "  while linha:\n",
        "    quebrar_linha = linha.split(sep=',')\n",
        "    novo_valor = valor_venda.append(quebrar_linha[1]) # acessando a segunda coluna\n",
        "    linha = arquivo_valor_venda.readline()\n",
        "\n",
        "print(valor_venda)"
      ],
      "metadata": {
        "colab": {
          "base_uri": "https://localhost:8080/",
          "height": 0
        },
        "id": "UZnjJasoDuwk",
        "outputId": "4700d614-7c2a-4a8e-ade2-ed75b593ff02"
      },
      "execution_count": 7,
      "outputs": [
        {
          "output_type": "stream",
          "name": "stdout",
          "text": [
            "['vhigh', 'med', 'low', 'low', 'low', 'low', 'low', 'low', 'low', 'low', 'low', 'low', 'low', 'low']\n"
          ]
        }
      ]
    },
    {
      "cell_type": "markdown",
      "source": [
        "### 1.2 Extraia por meio de uma função, uma coluna do arquivo csv em uma lista"
      ],
      "metadata": {
        "id": "wVzNkzsCGAhs"
      }
    },
    {
      "cell_type": "code",
      "source": [
        "def extrai_coluna(nome_arquivo: str, indice_coluna: int) -> list:\n",
        "  coluna = []\n",
        "\n",
        "  with open(file=nome_arquivo, mode='r', encoding='utf8') as arquivo_csv:\n",
        "    # extrair a coluna do arquivo utilizando o parametro 'indice_coluna'\n",
        "    linha = arquivo_csv.readline() # lendo o cabeçalho\n",
        "    linha = arquivo_csv.readline() # lendo a primeira linha\n",
        "\n",
        "    while linha:\n",
        "      quebrar_linha = linha.split(sep=',')\n",
        "      novo_valor = coluna.append(quebrar_linha[indice_coluna]) # acessando a segunda coluna\n",
        "      linha = arquivo_csv.readline()\n",
        "  \n",
        "  return coluna"
      ],
      "metadata": {
        "id": "zZLdf-MHoIf3"
      },
      "execution_count": 23,
      "outputs": []
    },
    {
      "cell_type": "code",
      "source": [
        "# extrair a coluna valor_manutencao\n",
        "\n",
        "valor_manutencao = extrai_coluna(nome_arquivo='./carros.csv', indice_coluna= 2)\n",
        "print(valor_manutencao)\n",
        "\n",
        "print('\\n')\n",
        "\n",
        "# extrair a coluna porta_malas\n",
        "porta_malas = extrai_coluna(nome_arquivo='./carros.csv', indice_coluna=5)\n",
        "print(porta_malas)"
      ],
      "metadata": {
        "colab": {
          "base_uri": "https://localhost:8080/",
          "height": 0
        },
        "id": "DAUWlnyhqow9",
        "outputId": "d4fc5fed-830b-49eb-bc6e-541bef038445"
      },
      "execution_count": 24,
      "outputs": [
        {
          "output_type": "stream",
          "name": "stdout",
          "text": [
            "['med', 'vhigh', 'vhigh', 'high', 'high', 'high', 'high', 'med', 'med', 'med', 'med', 'low', 'low', 'low']\n",
            "\n",
            "\n",
            "['small\\n', 'small\\n', 'small\\n', 'small\\n', 'small\\n', 'big\\n', 'big\\n', 'small\\n', 'small\\n', 'small\\n', 'big\\n', 'small\\n', 'small\\n', 'med\\n']\n"
          ]
        }
      ]
    },
    {
      "cell_type": "markdown",
      "source": [
        "## **Exercício 2 - Arquivo .txt**"
      ],
      "metadata": {
        "id": "DwaNOrFZ7rsj"
      }
    },
    {
      "cell_type": "markdown",
      "source": [
        "### 2.2 Crie uma função para extrair as palavras de uma linha do arquivo txt em uma lista."
      ],
      "metadata": {
        "id": "HZ-1jRnKvC2p"
      }
    },
    {
      "cell_type": "code",
      "source": [
        "def extrai_linha_txt(nome_arquivo: str, numero_linha: int) -> list:\n",
        "\n",
        "  palavras_linha = []\n",
        "\n",
        "  with open(file='./musica.txt', mode='r', encoding='utf8') as arquivo_txt:\n",
        "    linha = arquivo_txt.readlines()\n",
        "    extracao_linha = linha[numero_linha - 1].split(sep=' ')\n",
        "    novo_valor = palavras_linha.append(extracao_linha[0:len(extracao_linha)])\n",
        "\n",
        "  return palavras_linha"
      ],
      "metadata": {
        "id": "Cjabgsc1vGEt"
      },
      "execution_count": 58,
      "outputs": []
    },
    {
      "cell_type": "code",
      "source": [
        "linha10 = extrai_linha_txt(nome_arquivo='./musica.txt', numero_linha=10)\n",
        "print(linha10)"
      ],
      "metadata": {
        "colab": {
          "base_uri": "https://localhost:8080/",
          "height": 0
        },
        "id": "VerizJaUyBhR",
        "outputId": "af4a07d3-98cd-4f46-a388-3969bffb2bf4"
      },
      "execution_count": 59,
      "outputs": [
        {
          "output_type": "stream",
          "name": "stdout",
          "text": [
            "[['Mas', 'eis', 'que', 'chega', 'a', 'roda', 'viva\\n']]\n"
          ]
        }
      ]
    }
  ]
}