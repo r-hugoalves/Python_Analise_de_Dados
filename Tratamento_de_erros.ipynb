{
  "nbformat": 4,
  "nbformat_minor": 0,
  "metadata": {
    "colab": {
      "provenance": [],
      "toc_visible": true,
      "authorship_tag": "ABX9TyPp2p8wOGVFqPK8O9A3HfJC",
      "include_colab_link": true
    },
    "kernelspec": {
      "name": "python3",
      "display_name": "Python 3"
    },
    "language_info": {
      "name": "python"
    }
  },
  "cells": [
    {
      "cell_type": "markdown",
      "metadata": {
        "id": "view-in-github",
        "colab_type": "text"
      },
      "source": [
        "<a href=\"https://colab.research.google.com/github/r-hugoalves/Python_Analise_de_Dados/blob/Tratamento_de_Erros/Tratamento_de_erros.ipynb\" target=\"_parent\"><img src=\"https://colab.research.google.com/assets/colab-badge.svg\" alt=\"Open In Colab\"/></a>"
      ]
    },
    {
      "cell_type": "markdown",
      "source": [
        "# Tratamento de Erros"
      ],
      "metadata": {
        "id": "oUdbFUUXvrAY"
      }
    },
    {
      "cell_type": "markdown",
      "source": [
        "## 1.Tipos de erros"
      ],
      "metadata": {
        "id": "FcSuidK-vrfs"
      }
    },
    {
      "cell_type": "markdown",
      "source": [
        "### **1.1 Definição**"
      ],
      "metadata": {
        "id": "aVzxTcCNwPFk"
      }
    },
    {
      "cell_type": "markdown",
      "source": [
        "* **Erros de sintaxe**: erros que ocorrem durante a escrita do código"
      ],
      "metadata": {
        "id": "bY-jPdbMxJGA"
      }
    },
    {
      "cell_type": "code",
      "source": [
        "pessoa = {'nome': 'Hugo Alves', 'idade': 21}\n",
        "\n",
        "if pessoa['idade'] > 21 # faltou os dois pontos\n",
        "  print(True)"
      ],
      "metadata": {
        "colab": {
          "base_uri": "https://localhost:8080/",
          "height": 135
        },
        "id": "Dj0lnabuxN1n",
        "outputId": "9e784f71-8f0b-44ba-e834-af7d8d4bf4f0"
      },
      "execution_count": 1,
      "outputs": [
        {
          "output_type": "error",
          "ename": "SyntaxError",
          "evalue": "ignored",
          "traceback": [
            "\u001b[0;36m  File \u001b[0;32m\"<ipython-input-1-093f262e8f72>\"\u001b[0;36m, line \u001b[0;32m3\u001b[0m\n\u001b[0;31m    if pessoa['idade'] > 21\u001b[0m\n\u001b[0m                           ^\u001b[0m\n\u001b[0;31mSyntaxError\u001b[0m\u001b[0;31m:\u001b[0m invalid syntax\n"
          ]
        }
      ]
    },
    {
      "cell_type": "markdown",
      "source": [
        "* **Erros em tempo de execução**: erros que ocorrem durante a execução do código"
      ],
      "metadata": {
        "id": "QHhRUTpex1LC"
      }
    },
    {
      "cell_type": "code",
      "source": [
        "# Divisão por zero\n",
        "\n",
        "print(1/0)"
      ],
      "metadata": {
        "colab": {
          "base_uri": "https://localhost:8080/",
          "height": 171
        },
        "id": "w10Q_UDbx0oE",
        "outputId": "b8ca3df4-134f-4d9a-cf90-ae5ed5190c84"
      },
      "execution_count": 2,
      "outputs": [
        {
          "output_type": "error",
          "ename": "ZeroDivisionError",
          "evalue": "ignored",
          "traceback": [
            "\u001b[0;31m---------------------------------------------------------------------------\u001b[0m",
            "\u001b[0;31mZeroDivisionError\u001b[0m                         Traceback (most recent call last)",
            "\u001b[0;32m<ipython-input-2-2fc232d1511a>\u001b[0m in \u001b[0;36m<module>\u001b[0;34m\u001b[0m\n\u001b[0;32m----> 1\u001b[0;31m \u001b[0mprint\u001b[0m\u001b[0;34m(\u001b[0m\u001b[0;36m1\u001b[0m\u001b[0;34m/\u001b[0m\u001b[0;36m0\u001b[0m\u001b[0;34m)\u001b[0m\u001b[0;34m\u001b[0m\u001b[0;34m\u001b[0m\u001b[0m\n\u001b[0m",
            "\u001b[0;31mZeroDivisionError\u001b[0m: division by zero"
          ]
        }
      ]
    },
    {
      "cell_type": "code",
      "source": [
        "# Concatenação incorreta\n",
        "\n",
        "print(1 + 'Hugo')"
      ],
      "metadata": {
        "colab": {
          "base_uri": "https://localhost:8080/",
          "height": 171
        },
        "id": "O2KUIicjyBwl",
        "outputId": "7691bcaa-7327-49c6-987c-82a5a8352672"
      },
      "execution_count": 3,
      "outputs": [
        {
          "output_type": "error",
          "ename": "TypeError",
          "evalue": "ignored",
          "traceback": [
            "\u001b[0;31m---------------------------------------------------------------------------\u001b[0m",
            "\u001b[0;31mTypeError\u001b[0m                                 Traceback (most recent call last)",
            "\u001b[0;32m<ipython-input-3-b48b03800984>\u001b[0m in \u001b[0;36m<module>\u001b[0;34m\u001b[0m\n\u001b[0;32m----> 1\u001b[0;31m \u001b[0mprint\u001b[0m\u001b[0;34m(\u001b[0m\u001b[0;36m1\u001b[0m \u001b[0;34m+\u001b[0m \u001b[0;34m'Hugo'\u001b[0m\u001b[0;34m)\u001b[0m\u001b[0;34m\u001b[0m\u001b[0;34m\u001b[0m\u001b[0m\n\u001b[0m",
            "\u001b[0;31mTypeError\u001b[0m: unsupported operand type(s) for +: 'int' and 'str'"
          ]
        }
      ]
    },
    {
      "cell_type": "code",
      "source": [
        "# Erro de lógica\n",
        "\n",
        "i = 0\n",
        "while True:\n",
        "  i =+ 1\n",
        "  if i > 10:\n",
        "    break\n",
        "\n",
        "print(i)"
      ],
      "metadata": {
        "colab": {
          "base_uri": "https://localhost:8080/",
          "height": 244
        },
        "id": "pTizMJKwyT1Z",
        "outputId": "fa587167-eda2-43f3-a225-45d634bffed5"
      },
      "execution_count": 6,
      "outputs": [
        {
          "output_type": "error",
          "ename": "KeyboardInterrupt",
          "evalue": "ignored",
          "traceback": [
            "\u001b[0;31m---------------------------------------------------------------------------\u001b[0m",
            "\u001b[0;31mKeyboardInterrupt\u001b[0m                         Traceback (most recent call last)",
            "\u001b[0;32m<ipython-input-6-b7be0bc2e49e>\u001b[0m in \u001b[0;36m<module>\u001b[0;34m\u001b[0m\n\u001b[1;32m      2\u001b[0m \u001b[0;32mwhile\u001b[0m \u001b[0;32mTrue\u001b[0m\u001b[0;34m:\u001b[0m\u001b[0;34m\u001b[0m\u001b[0;34m\u001b[0m\u001b[0m\n\u001b[1;32m      3\u001b[0m   \u001b[0mi\u001b[0m \u001b[0;34m=\u001b[0m \u001b[0;36m1\u001b[0m\u001b[0;34m\u001b[0m\u001b[0;34m\u001b[0m\u001b[0m\n\u001b[0;32m----> 4\u001b[0;31m   \u001b[0;32mif\u001b[0m \u001b[0mi\u001b[0m \u001b[0;34m>\u001b[0m \u001b[0;36m10\u001b[0m\u001b[0;34m:\u001b[0m\u001b[0;34m\u001b[0m\u001b[0;34m\u001b[0m\u001b[0m\n\u001b[0m\u001b[1;32m      5\u001b[0m     \u001b[0;32mbreak\u001b[0m\u001b[0;34m\u001b[0m\u001b[0;34m\u001b[0m\u001b[0m\n\u001b[1;32m      6\u001b[0m \u001b[0;34m\u001b[0m\u001b[0m\n",
            "\u001b[0;31mKeyboardInterrupt\u001b[0m: "
          ]
        }
      ]
    },
    {
      "cell_type": "markdown",
      "source": [
        "## 2.Erros de sintaxe"
      ],
      "metadata": {
        "id": "qc0eO5ivvro_"
      }
    },
    {
      "cell_type": "markdown",
      "source": [
        "### **2.1 Definição**"
      ],
      "metadata": {
        "id": "ahaYSE1-vrz7"
      }
    },
    {
      "cell_type": "markdown",
      "source": [
        "São erros que ocorrem durante a escrita do código. Nesse tipo de erro, o trecho do código não é executado"
      ],
      "metadata": {
        "id": "b2mhxm3V1hGP"
      }
    },
    {
      "cell_type": "code",
      "source": [
        "carrinho_compras = [ {'id': 3184,'preco': 37.65,'qtd': 10 }, {'id': 1203,'preco': 81.20,'qtd': 2 }, {'id': 8921,'preco': 15.90,'qtd': 2 }]"
      ],
      "metadata": {
        "id": "dnJRqGkB1qlm"
      },
      "execution_count": 7,
      "outputs": []
    },
    {
      "cell_type": "code",
      "source": [
        "# Esquecer dos dois pontos no final de estruturas de condição, repetição, etc\n",
        "\n",
        "for produto in carrinho_compras\n",
        "  "
      ],
      "metadata": {
        "colab": {
          "base_uri": "https://localhost:8080/",
          "height": 135
        },
        "id": "jwoX_Fox16Sf",
        "outputId": "6011eeb2-1b0a-4e23-ecb0-460f712e4451"
      },
      "execution_count": 8,
      "outputs": [
        {
          "output_type": "error",
          "ename": "SyntaxError",
          "evalue": "ignored",
          "traceback": [
            "\u001b[0;36m  File \u001b[0;32m\"<ipython-input-8-0a396b086f31>\"\u001b[0;36m, line \u001b[0;32m3\u001b[0m\n\u001b[0;31m    for produto in carrinho_compras\u001b[0m\n\u001b[0m                                   ^\u001b[0m\n\u001b[0;31mSyntaxError\u001b[0m\u001b[0;31m:\u001b[0m invalid syntax\n"
          ]
        }
      ]
    },
    {
      "cell_type": "code",
      "source": [
        "# Condição lógica no else da estrutura de decisão. Nesse caso, deve-se utilizar if/elif/else\n",
        "\n",
        "for produto in carrinho_compras:\n",
        "  if produto['id'] == 3184:\n",
        "    ...\n",
        "  else produto['id'] == 1203:\n",
        "    ..."
      ],
      "metadata": {
        "colab": {
          "base_uri": "https://localhost:8080/",
          "height": 135
        },
        "id": "Dex2XiZd2A2A",
        "outputId": "e9f54535-a534-41ef-cf18-5e3eee2e9faf"
      },
      "execution_count": 9,
      "outputs": [
        {
          "output_type": "error",
          "ename": "SyntaxError",
          "evalue": "ignored",
          "traceback": [
            "\u001b[0;36m  File \u001b[0;32m\"<ipython-input-9-1dfbc49a4d76>\"\u001b[0;36m, line \u001b[0;32m6\u001b[0m\n\u001b[0;31m    else produto['id'] == 1203:\u001b[0m\n\u001b[0m         ^\u001b[0m\n\u001b[0;31mSyntaxError\u001b[0m\u001b[0;31m:\u001b[0m invalid syntax\n"
          ]
        }
      ]
    },
    {
      "cell_type": "markdown",
      "source": [
        "## 3.Erros em tempo de execução"
      ],
      "metadata": {
        "id": "y71dAS6kvsJ1"
      }
    },
    {
      "cell_type": "markdown",
      "source": [
        "### **3.1 Motivação**"
      ],
      "metadata": {
        "id": "Ae0OKni_vsaI"
      }
    },
    {
      "cell_type": "markdown",
      "source": [
        "Você trabalha como analista de dados em uma empresa de telecomunicações. Você precisa fazer uma análise para o time de vendas do quanto a empresa vai receber este mês. Diariamente você recebe do time de engenharia os dados."
      ],
      "metadata": {
        "id": "bfEA-oyj3IBU"
      }
    },
    {
      "cell_type": "code",
      "source": [
        "%%writefile telecom.csv\n",
        "customerID,PaymentMethod,MonthlyCharges,TotalCharges,Churn\n",
        "7010-BRBUU,Credit card (automatic),24.1,1734.65,No\n",
        "9688-YGXVR,Credit card (automatic),88.15,3973.2,No\n",
        "9286-DOJGF,Bank transfer (automatic),74.95,2869.85,Yes\n",
        "6994-KERXL,Electronic check,55.9,238.5,No\n",
        "2181-UAESM,Electronic check,53.45,119.5,No\n",
        "4312-GVYNH,Bank transfer (automatic),49.85,3370.2,No\n",
        "2495-KZNFB,Electronic check,90.65,2989.6,No\n",
        "4367-NHWMM,Mailed check,24.9,24.9,No\n",
        "8898-KASCD,Mailed check,35.55,1309.15,No"
      ],
      "metadata": {
        "colab": {
          "base_uri": "https://localhost:8080/"
        },
        "id": "Y8VdAo9d3OmP",
        "outputId": "fa5308c9-3256-4a92-bb57-ca324ee3a41f"
      },
      "execution_count": 10,
      "outputs": [
        {
          "output_type": "stream",
          "name": "stdout",
          "text": [
            "Writing telecom.csv\n"
          ]
        }
      ]
    },
    {
      "cell_type": "code",
      "source": [
        "from functools import reduce\n",
        "def processar_faturas(nome_arquivo: str) -> float:\n",
        "\n",
        " faturas = []\n",
        " \n",
        " with open(file=nome_arquivo, mode='r', encoding='utf8') as arquivo:\n",
        "  linha = arquivo.readline()\n",
        "  linha = arquivo.readline()\n",
        "  while linha:\n",
        "    fatura = float(linha.strip().split(sep=',')[-3])\n",
        "    faturas.append(fatura)\n",
        "    linha = arquivo.readline()\n",
        "\n",
        " total_a_pagar = reduce(lambda x, y: x + y, faturas)\n",
        " total_a_pagar = round(total_a_pagar, 2)\n",
        "\n",
        " return total_a_pagar"
      ],
      "metadata": {
        "id": "WV6afug33hQo"
      },
      "execution_count": 11,
      "outputs": []
    },
    {
      "cell_type": "code",
      "source": [
        "total_a_pagar = processar_faturas(nome_arquivo='./telecom.csv')\n",
        "print(total_a_pagar)"
      ],
      "metadata": {
        "id": "__jjRWnb4rUg"
      },
      "execution_count": null,
      "outputs": []
    },
    {
      "cell_type": "markdown",
      "source": [
        "Em um certo dia, você recebe uma base de dados com a coluna de faturas trocada pela de meios de pagamento."
      ],
      "metadata": {
        "id": "C-lBD8oI4tg1"
      }
    },
    {
      "cell_type": "code",
      "source": [
        "%%writefile telecom.csv\n",
        "customerID,MonthlyCharges,PaymentMethod,TotalCharges,Churn\n",
        "7010-BRBUU,24.1,Credit card (automatic),1734.65,No\n",
        "9688-YGXVR,88.15,Credit card (automatic),3973.2,No\n",
        "9286-DOJGF,74.95,Bank transfer (automatic),2869.85,Yes\n",
        "6994-KERXL,55.9,Electronic check,238.5,No\n",
        "2181-UAESM,53.45,Electronic check,119.5,No\n",
        "4312-GVYNH,49.85,Bank transfer (automatic),3370.2,No\n",
        "2495-KZNFB,90.65,Electronic check,2989.6,No\n",
        "4367-NHWMM,24.9,Mailed check,24.9,No\n",
        "8898-KASCD,35.55,Mailed check,1309.15,No"
      ],
      "metadata": {
        "colab": {
          "base_uri": "https://localhost:8080/"
        },
        "id": "SNEs3Vgg40pX",
        "outputId": "dd3a92a6-8293-440b-9f48-6b05be991fce"
      },
      "execution_count": 6,
      "outputs": [
        {
          "output_type": "stream",
          "name": "stdout",
          "text": [
            "Writing telecom.csv\n"
          ]
        }
      ]
    },
    {
      "cell_type": "markdown",
      "source": [
        "### **3.2 Definição**"
      ],
      "metadata": {
        "id": "hiZUERqZvsvn"
      }
    },
    {
      "cell_type": "markdown",
      "source": [
        "São erros que ocorrem durante a execução do código. O trecho do código é executado até o erro 'estourar'.\n",
        "\n",
        "Uma maneira de trablhar em cima do erro, é usar a função `print` para obter os resultados parciais e analisar os casos separadamente."
      ],
      "metadata": {
        "id": "2G-QnCbk5k7w"
      }
    },
    {
      "cell_type": "markdown",
      "source": [
        "### **3.3 Manipulação**"
      ],
      "metadata": {
        "id": "eobEXjxxvs6O"
      }
    },
    {
      "cell_type": "markdown",
      "source": [
        "Podemos manipular o erro com a estrutura: `try-catch-finally-else`"
      ],
      "metadata": {
        "id": "x-sN-16XRqsB"
      }
    },
    {
      "cell_type": "code",
      "source": [
        "# anos = [2019, 2020, 2021]\n",
        "anos = {2019, 2020, 2021}\n",
        "try:\n",
        " ano_atual = anos[3]\n",
        " print(ano_atual)\n",
        "except IndexError:\n",
        " print(\n",
        " 'Lista de anos é menor que o valor escolhido. ' + 'Espera-se um valor entre 0 e ' + str(len(anos) - 1))\n",
        "except Exception as exc:\n",
        " print(exc)\n",
        "finally:\n",
        "  ..."
      ],
      "metadata": {
        "id": "85df4aSJRpj9"
      },
      "execution_count": 1,
      "outputs": []
    },
    {
      "cell_type": "markdown",
      "source": [
        "Podemos também, passar o erro para frente com a estrutura `raise` "
      ],
      "metadata": {
        "id": "bBSE7c4AR8Qy"
      }
    },
    {
      "cell_type": "code",
      "source": [
        "anos = [2019, 2020, 2021]\n",
        "# anos = {2019, 2020, 2021}\n",
        "\n",
        "try:\n",
        " ano_atual = anos[3]\n",
        " print(ano_atual)\n",
        "except IndexError as exc:\n",
        " raise Exception('Lista de anos é menor que o valor escolhido. ' +'Espera-se um valor entre 0 e ' + str(len(anos) - 1))\n",
        "except Exception as exc:\n",
        " raise exc"
      ],
      "metadata": {
        "id": "-ptHQeEnSBmU"
      },
      "execution_count": null,
      "outputs": []
    },
    {
      "cell_type": "markdown",
      "source": [
        "### **3.4 Revisitando a motivação**"
      ],
      "metadata": {
        "id": "2INyFQjPvtDW"
      }
    },
    {
      "cell_type": "code",
      "source": [
        "from functools import reduce\n",
        "\n",
        "def processar_faturas(nome_arquivo: str):\n",
        "\n",
        " faturas = []\n",
        "\n",
        " with open(file=nome_arquivo, mode='r', encoding='utf8') as arquivo:\n",
        "  linha = arquivo.readline()\n",
        "  linha = arquivo.readline()\n",
        " while linha:\n",
        "   try:\n",
        "    fatura = float(linha.strip().split(sep=',')[-3])\n",
        "   except ValueError as exc:\n",
        "      raise ValueError(f'Falha ao processar as faturas devido ao seguinte erro: {exc}')\n",
        "   else:\n",
        "     faturas.append(fatura)\n",
        "     linha = arquivo.readline()\n",
        "\n",
        " total_a_pagar = reduce(lambda x, y: x + y, faturas)\n",
        " total_a_pagar = round(total_a_pagar, 2)\n",
        " return total_a_pagar"
      ],
      "metadata": {
        "id": "tqKOkiPFS5rD"
      },
      "execution_count": 10,
      "outputs": []
    },
    {
      "cell_type": "code",
      "source": [
        "try:\n",
        " total_a_pagar = processar_faturas(nome_arquivo='./telecom.csv')\n",
        "except Exception as exc:\n",
        " print(exc)\n",
        "else:\n",
        " print(total_a_pagar)"
      ],
      "metadata": {
        "colab": {
          "base_uri": "https://localhost:8080/"
        },
        "id": "-kqciVGUTLOi",
        "outputId": "88d96648-461f-4d3f-b42b-8af7cc4aa227"
      },
      "execution_count": 11,
      "outputs": [
        {
          "output_type": "stream",
          "name": "stdout",
          "text": [
            "Falha ao processar as faturas devido ao seguinte erro: could not convert string to float: 'Credit card (automatic)'\n"
          ]
        }
      ]
    },
    {
      "cell_type": "markdown",
      "source": [
        "## 4.Exercícios"
      ],
      "metadata": {
        "id": "oLpeTiWyvtg-"
      }
    },
    {
      "cell_type": "markdown",
      "source": [
        "Para a resolução dos exercícios foi criado um notebook específico que pode ser acessado clicando [aqui](https://colab.research.google.com/drive/1k7xC6BN-Uo8I50xzubw0GcAvlUmF34jN?usp=sharing)"
      ],
      "metadata": {
        "id": "zbb1HeSWTzPm"
      }
    }
  ]
}