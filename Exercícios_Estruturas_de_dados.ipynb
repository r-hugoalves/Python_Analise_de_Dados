{
  "nbformat": 4,
  "nbformat_minor": 0,
  "metadata": {
    "colab": {
      "provenance": [],
      "authorship_tag": "ABX9TyPWKIOpsUpAoa3Btj65Oz0e",
      "include_colab_link": true
    },
    "kernelspec": {
      "name": "python3",
      "display_name": "Python 3"
    },
    "language_info": {
      "name": "python"
    }
  },
  "cells": [
    {
      "cell_type": "markdown",
      "metadata": {
        "id": "view-in-github",
        "colab_type": "text"
      },
      "source": [
        "<a href=\"https://colab.research.google.com/github/r-hugoalves/Python_Analise_de_Dados/blob/Estrutura_de_Dados/Exerc%C3%ADcios_Estruturas_de_dados.ipynb\" target=\"_parent\"><img src=\"https://colab.research.google.com/assets/colab-badge.svg\" alt=\"Open In Colab\"/></a>"
      ]
    },
    {
      "cell_type": "markdown",
      "source": [
        "# Exercícios: Estruturas de dados"
      ],
      "metadata": {
        "id": "Mqb4s7BeOnSw"
      }
    },
    {
      "cell_type": "markdown",
      "source": [
        "Notebook exclusivo para a resolução dos exerícios. Todo o material teórico está disponível [nesse notebook](https://colab.research.google.com/drive/1T4KfsgRUriNpLAuRl2t_4RvInTz_qQ6z?usp=sharing)"
      ],
      "metadata": {
        "id": "3PIBh4JzOqBa"
      }
    },
    {
      "cell_type": "markdown",
      "source": [
        "## 1.Listas"
      ],
      "metadata": {
        "id": "lhC6gGMWPy_f"
      }
    },
    {
      "cell_type": "markdown",
      "source": [
        "Criei uma lista chamada filmes com o nome dos 10 primeiros filmes mais bem avaliados no site no [IMDB](https://www.imdb.com/chart/top/). Imprima o resultado"
      ],
      "metadata": {
        "id": "4_wiFtI5QoQI"
      }
    },
    {
      "cell_type": "code",
      "source": [
        "filmes = [\n",
        "          'Um sonho de liberdade', \n",
        "          'O Poderoso Chefão', \n",
        "          'Batman: O Cavaleiro das Trevas',\n",
        "          'O Poderoso Chefão II', \n",
        "          '12 Homens e uma Sentença',\n",
        "          'A Lista de Schindler',\n",
        "          'O Senhor dos Anéis: O Retorno do Rei',\n",
        "          'Pulp Fiction: Tempo de Violência', \n",
        "          'O Senhor dos Anéis: A Sociedade do Anel', \n",
        "          'Três Homens em Conflito'\n",
        "]\n",
        "\n",
        "print(filmes)"
      ],
      "metadata": {
        "colab": {
          "base_uri": "https://localhost:8080/",
          "height": 0
        },
        "id": "-MomLaMhQvK0",
        "outputId": "31954899-35fc-411d-ea1a-93a58f51f0de"
      },
      "execution_count": 4,
      "outputs": [
        {
          "output_type": "stream",
          "name": "stdout",
          "text": [
            "['Um sonho de liberdade', 'O Poderoso Chefão', 'Batman: O Cavaleiro das Trevas', 'O Poderoso Chefão II', '12 Homens e uma Sentença', 'A Lista de Schindler', 'O Senhor dos Anéis: O Retorno do Rei', 'Pulp Fiction: Tempo de Violência', 'O Senhor dos Anéis: A Sociedade do Anel', 'Três Homens em Conflito']\n"
          ]
        }
      ]
    },
    {
      "cell_type": "markdown",
      "source": [
        "Simule a movimentação do ranking. Utilize os métodos `insert` e `pop` para trocar a posição do primeiro e do segundo filme da lista. Imprima o resultado."
      ],
      "metadata": {
        "id": "I_eWiFL9QybQ"
      }
    },
    {
      "cell_type": "code",
      "source": [
        "filmes.pop(1)\n",
        "print(filmes)\n",
        "\n",
        "filmes.insert(0, 'O Poderoso Chefão')\n",
        "print(filmes)"
      ],
      "metadata": {
        "colab": {
          "base_uri": "https://localhost:8080/",
          "height": 0
        },
        "id": "aS_jpPQxgwAx",
        "outputId": "a411a273-b985-4a13-ccd6-c2c6c891edbf"
      },
      "execution_count": 3,
      "outputs": [
        {
          "output_type": "stream",
          "name": "stdout",
          "text": [
            "['Um sonho de liberdade', 'Batman: O Cavaleiro das Trevas', 'O Poderoso Chefão II', '12 Homens e uma Sentença', 'A Lista de Schindler', 'O Senhor dos Anéis: O Retorno do Rei', 'Pulp Fiction: Tempo de Violência', 'O Senhor dos Anéis: A Sociedade do Anel', 'Três Homens em Conflito']\n",
            "['O Poderoso Chefão', 'Um sonho de liberdade', 'Batman: O Cavaleiro das Trevas', 'O Poderoso Chefão II', '12 Homens e uma Sentença', 'A Lista de Schindler', 'O Senhor dos Anéis: O Retorno do Rei', 'Pulp Fiction: Tempo de Violência', 'O Senhor dos Anéis: A Sociedade do Anel', 'Três Homens em Conflito']\n"
          ]
        }
      ]
    },
    {
      "cell_type": "markdown",
      "source": [
        "## 2.Conjuntos"
      ],
      "metadata": {
        "id": "JRWByhrNP1la"
      }
    },
    {
      "cell_type": "markdown",
      "source": [
        "Aconteceu um erro no seu ranking. Simule a duplicação dos três últimos filmes da\n",
        "lista. Imprima o resultado"
      ],
      "metadata": {
        "id": "PAGt4p_SQ5FZ"
      }
    },
    {
      "cell_type": "code",
      "source": [
        "filmes = [\n",
        "          'Um sonho de liberdade', \n",
        "          'O Poderoso Chefão', \n",
        "          'Batman: O Cavaleiro das Trevas',\n",
        "          'O Poderoso Chefão II', \n",
        "          '12 Homens e uma Sentença',\n",
        "          'A Lista de Schindler',\n",
        "          'O Senhor dos Anéis: O Retorno do Rei',\n",
        "          'Pulp Fiction: Tempo de Violência', \n",
        "          'Pulp Fiction: Tempo de Violência', \n",
        "          'Pulp Fiction: Tempo de Violência', \n",
        "          'O Senhor dos Anéis: A Sociedade do Anel',\n",
        "          'O Senhor dos Anéis: A Sociedade do Anel',\n",
        "          'O Senhor dos Anéis: A Sociedade do Anel', \n",
        "          'Três Homens em Conflito',\n",
        "          'Três Homens em Conflito',\n",
        "          'Três Homens em Conflito'\n",
        "]\n",
        "\n",
        "print(filmes)"
      ],
      "metadata": {
        "colab": {
          "base_uri": "https://localhost:8080/",
          "height": 0
        },
        "id": "eV5qF1tLQ7O2",
        "outputId": "88b929b2-a66b-4d78-a249-af7d2174c15a"
      },
      "execution_count": 5,
      "outputs": [
        {
          "output_type": "stream",
          "name": "stdout",
          "text": [
            "['Um sonho de liberdade', 'O Poderoso Chefão', 'Batman: O Cavaleiro das Trevas', 'O Poderoso Chefão II', '12 Homens e uma Sentença', 'A Lista de Schindler', 'O Senhor dos Anéis: O Retorno do Rei', 'Pulp Fiction: Tempo de Violência', 'Pulp Fiction: Tempo de Violência', 'Pulp Fiction: Tempo de Violência', 'O Senhor dos Anéis: A Sociedade do Anel', 'O Senhor dos Anéis: A Sociedade do Anel', 'O Senhor dos Anéis: A Sociedade do Anel', 'Três Homens em Conflito', 'Três Homens em Conflito', 'Três Homens em Conflito']\n"
          ]
        }
      ]
    },
    {
      "cell_type": "markdown",
      "source": [
        "Utiliza a conversão set e list para remover os valores duplicados. Imprima o\n",
        "resultado."
      ],
      "metadata": {
        "id": "68U2-owMQ7nP"
      }
    },
    {
      "cell_type": "code",
      "source": [
        "print(set(list(filmes)))"
      ],
      "metadata": {
        "colab": {
          "base_uri": "https://localhost:8080/",
          "height": 0
        },
        "id": "7UuSsq_WRBtC",
        "outputId": "a5614544-dc47-4a3b-f7c1-578ad1e02cb5"
      },
      "execution_count": 9,
      "outputs": [
        {
          "output_type": "stream",
          "name": "stdout",
          "text": [
            "{'O Senhor dos Anéis: A Sociedade do Anel', 'Pulp Fiction: Tempo de Violência', 'O Poderoso Chefão', 'O Senhor dos Anéis: O Retorno do Rei', 'Um sonho de liberdade', 'A Lista de Schindler', 'O Poderoso Chefão II', 'Três Homens em Conflito', '12 Homens e uma Sentença', 'Batman: O Cavaleiro das Trevas'}\n"
          ]
        }
      ]
    },
    {
      "cell_type": "markdown",
      "source": [
        "## 3.Dicionários"
      ],
      "metadata": {
        "id": "8R7LcXbSP3Y0"
      }
    },
    {
      "cell_type": "markdown",
      "source": [
        "Repita os exercícios da parte 1 (listas). Os elementos da lista filmes devem ser\n",
        "dicionários no seguinte formato: ```{'nome': <nome-do-filme>, 'ano': <ano\n",
        "do filme>, 'sinopse': <sinopse do filme>}```\n",
        "\n",
        "\n",
        "\n",
        "\n"
      ],
      "metadata": {
        "id": "pR92wc8nRIIb"
      }
    },
    {
      "cell_type": "code",
      "source": [
        "filmes = {\n",
        "    'primeira_posição':{\n",
        "        'nome': 'Um sonho de Liberdade',\n",
        "        'ano': 1994, \n",
        "        'sinopse': 'Dois homens presos se reúnem ao longo de vários anos, encontrando consolo e eventual redenção através de atos de decência comum'\n",
        "    },\n",
        "    'segunda_posição':{\n",
        "        'nome': 'O Poderoso Chefão',\n",
        "        'ano': 1972, \n",
        "        'sinopse':'O patriarca idoso de uma dinastia do crime organizado transfere o controle de seu império clandestino para seu filho relutante.' \n",
        "    },\n",
        "    'terceira_posição':{\n",
        "        'nome': 'Batman: O Cavaleiro das Trevas',\n",
        "        'ano': 2008, \n",
        "        'sinopse': 'Quando a ameaça conhecida como O Coringa surge de seu passado, causa estragos e caos nas pessoas de Gotham. O Cavaleiro das Trevas deve aceitar um dos maiores testes para combater a injustiça.'\n",
        "    },\n",
        "    'quarta_posição':{\n",
        "        'nome': 'O Poderoso Chefão II',\n",
        "        'ano': 1974, \n",
        "        'sinopse': 'Em 1950, Michael Corleone, agora à frente da família, tenta expandir o negócio do crime a Las Vegas, Los Angeles e Cuba. Paralelamente, é revelada a história de Vito Corleone, e de como saiu da Sicília e chegou a Nova Iorque.'\n",
        "    },\n",
        "    'quinta_posição':{\n",
        "        'nome': '12 Homens e uma Sentença',\n",
        "        'ano': 1957, \n",
        "        'sinopse': 'Um jurado que se aposenta tenta evitar um erro judicial forçando seus colegas a reconsiderarem as evidências.'\n",
        "    },\n",
        "    'sexta_posição':{\n",
        "        'nome': 'A Lista de Schindler' ,\n",
        "        'ano': 1993, \n",
        "        'sinopse': 'Depois de testemunhar a perseguição dos judaicos na Polônia ocupada pelos alemães durante a Segunda Guerra Mundial, o industrial Oskar Schindler se começa a preocupar com sua força de trabalho judaica.'\n",
        "    },\n",
        "    'sétima_posição':{\n",
        "        'nome': 'O Senhor dos Anéis: O Retorno do Rei',\n",
        "        'ano': 2003, \n",
        "        'sinopse': 'Gandalf e Aragorn lideram o Mundo dos Homens contra o exército de Sauron para desviar o olhar de Frodo e Sam quando eles se aproximam á Montanha da Perdição com o Um Anel'\n",
        "    },\n",
        "    'oitava_posição':{\n",
        "        'nome': 'Pulp Fiction: Tempo de Violência',\n",
        "        'ano': 1994, \n",
        "        'sinopse': 'As vidas de dois assassinos da máfia, um boxeador, um gângster e sua esposa, e um par de bandidos se entrelaçam em quatro histórias de violência e redenção.'\n",
        "    },\n",
        "    'nona_posição':{\n",
        "        'nome': 'O Senhor dos Anéis: A Sociedade do Anel',\n",
        "        'ano': 2001, \n",
        "        'sinopse': 'Um manso hobbit do Condado e oito companheiros partem em uma jornada para destruir o poderoso Um Anel e salvar a Terra-média das Trevas.'\n",
        "    },\n",
        "    'décima_posição':{\n",
        "        'nome': 'Três Homens em Conflito',\n",
        "        'ano': 1966, \n",
        "        'sinopse': 'Um impostor se junta com dois homens para encontrar fortuna num remoto cemitério.'\n",
        "    }\n",
        "}\n",
        "\n",
        "print(filmes)"
      ],
      "metadata": {
        "colab": {
          "base_uri": "https://localhost:8080/",
          "height": 0
        },
        "id": "9e7QCT_-RUVR",
        "outputId": "c0c345a8-c929-4a33-fcb5-f80e58c35dd2"
      },
      "execution_count": 11,
      "outputs": [
        {
          "output_type": "stream",
          "name": "stdout",
          "text": [
            "{'primeira_posição': {'nome': 'Um sonho de Liberdade', 'ano': 1994, 'sinopse': 'Dois homens presos se reúnem ao longo de vários anos, encontrando consolo e eventual redenção através de atos de decência comum'}, 'segunda_posição': {'nome': 'O Poderoso Chefão', 'ano': 1972, 'sinopse': 'O patriarca idoso de uma dinastia do crime organizado transfere o controle de seu império clandestino para seu filho relutante.'}, 'terceira_posição': {'nome': 'Batman: O Cavaleiro das Trevas', 'ano': 2008, 'sinopse': 'Quando a ameaça conhecida como O Coringa surge de seu passado, causa estragos e caos nas pessoas de Gotham. O Cavaleiro das Trevas deve aceitar um dos maiores testes para combater a injustiça.'}, 'quarta_posição': {'nome': 'O Poderoso Chefão II', 'ano': 1974, 'sinopse': 'Em 1950, Michael Corleone, agora à frente da família, tenta expandir o negócio do crime a Las Vegas, Los Angeles e Cuba. Paralelamente, é revelada a história de Vito Corleone, e de como saiu da Sicília e chegou a Nova Iorque.'}, 'quinta_posição': {'nome': '12 Homens e uma Sentença', 'ano': 1957, 'sinopse': 'Um jurado que se aposenta tenta evitar um erro judicial forçando seus colegas a reconsiderarem as evidências.'}, 'sexta_posição': {'nome': 'A Lista de Schindler', 'ano': 1993, 'sinopse': 'Depois de testemunhar a perseguição dos judaicos na Polônia ocupada pelos alemães durante a Segunda Guerra Mundial, o industrial Oskar Schindler se começa a preocupar com sua força de trabalho judaica.'}, 'sétima_posição': {'nome': 'O Senhor dos Anéis: O Retorno do Rei', 'ano': 2003, 'sinopse': 'Gandalf e Aragorn lideram o Mundo dos Homens contra o exército de Sauron para desviar o olhar de Frodo e Sam quando eles se aproximam á Montanha da Perdição com o Um Anel'}, 'oitava_posição': {'nome': 'Pulp Fiction: Tempo de Violência', 'ano': 1994, 'sinopse': 'As vidas de dois assassinos da máfia, um boxeador, um gângster e sua esposa, e um par de bandidos se entrelaçam em quatro histórias de violência e redenção.'}, 'nona_posição': {'nome': 'O Senhor dos Anéis: A Sociedade do Anel', 'ano': 2001, 'sinopse': 'Um manso hobbit do Condado e oito companheiros partem em uma jornada para destruir o poderoso Um Anel e salvar a Terra-média das Trevas.'}, 'décima_posição': {'nome': 'Três Homens em Conflito', 'ano': 1966, 'sinopse': 'Um impostor se junta com dois homens para encontrar fortuna num remoto cemitério.'}}\n"
          ]
        }
      ]
    }
  ]
}