{
  "nbformat": 4,
  "nbformat_minor": 0,
  "metadata": {
    "colab": {
      "provenance": [],
      "toc_visible": true,
      "authorship_tag": "ABX9TyO1nh31GgwiY67xr7yNUS/f",
      "include_colab_link": true
    },
    "kernelspec": {
      "name": "python3",
      "display_name": "Python 3"
    },
    "language_info": {
      "name": "python"
    }
  },
  "cells": [
    {
      "cell_type": "markdown",
      "metadata": {
        "id": "view-in-github",
        "colab_type": "text"
      },
      "source": [
        "<a href=\"https://colab.research.google.com/github/r-hugoalves/Python_Analise_de_Dados/blob/Scripting/Scripting.ipynb\" target=\"_parent\"><img src=\"https://colab.research.google.com/assets/colab-badge.svg\" alt=\"Open In Colab\"/></a>"
      ]
    },
    {
      "cell_type": "markdown",
      "source": [
        "# Scripting"
      ],
      "metadata": {
        "id": "RWHOQKa4-lWb"
      }
    },
    {
      "cell_type": "markdown",
      "source": [
        "## Criando arquivos de script Python"
      ],
      "metadata": {
        "id": "SKckkiRS-ofM"
      }
    },
    {
      "cell_type": "markdown",
      "source": [
        "Script para extrair a taxa CDI do site da B3"
      ],
      "metadata": {
        "id": "WRdhhFleEAEt"
      }
    },
    {
      "cell_type": "markdown",
      "source": [
        "\n",
        "\n",
        "```\n",
        "import os\n",
        "import json\n",
        "from random import random\n",
        "from datetime import datetime\n",
        "\n",
        "import requests\n",
        "\n",
        "URL = 'https://www2.cetip.com.br/ConsultarTaxaDi/ConsultarTaxaDICetip.aspx'\n",
        "\n",
        "# Criando a variável data e hora \n",
        "\n",
        "data_e_hora = datetime.now()\n",
        "data = datetime.strftime(data_e_hora, '%Y/%m/%d')\n",
        "hora = datetime.strftime(data_e_hora, '%H:%M:%S')\n",
        "\n",
        "# Captando a taxa CDI do site da B3\n",
        "\n",
        "try:\n",
        "  response = requests.get(URL)\n",
        "  response.raise_for_status()\n",
        "except requests.HTTPError as exc:\n",
        "  print(\"Dado não encontrado, continuando.\")\n",
        "  cdi = None\n",
        "except Exception as exc:\n",
        "  print(\"Erro, parando a execução.\")\n",
        "  raise exc\n",
        "else:\n",
        "  dado = json.loads(response.text)\n",
        "  cdi = float(dado['taxa'].replace(',', '.')) + (random() - 0.5)\n",
        "\n",
        "# Verificando se o arquivo \"taxa-cdi.csv\" existe\n",
        "\n",
        "if os.path.exists('./taxa-cdi.csv') == False:\n",
        "\n",
        "  with open(file='./taxa-cdi.csv', mode='w', encoding='utf8') as fp:\n",
        "    fp.write('data,hora,taxa\\n')\n",
        "\n",
        "# Salvando dados no arquivo \"taxa-cdi.csv\"\n",
        "\n",
        "with open(file='./taxa-cdi.csv', mode='a', encoding='utf8') as fp:\n",
        "  fp.write(f'{data},{hora},{cdi}\\n')\n",
        "\n",
        "print(\"Sucesso\")\n",
        "```\n",
        "\n"
      ],
      "metadata": {
        "id": "yO951nD1ETiN"
      }
    },
    {
      "cell_type": "code",
      "source": [
        "# Executando o script\n",
        "\n",
        "!python extrair-cdi.py"
      ],
      "metadata": {
        "colab": {
          "base_uri": "https://localhost:8080/",
          "height": 0
        },
        "id": "o45bkPkhEe2T",
        "outputId": "b2edda92-f68d-4d34-dd25-ccc0f608799f"
      },
      "execution_count": 11,
      "outputs": [
        {
          "output_type": "stream",
          "name": "stdout",
          "text": [
            "Sucesso\n"
          ]
        }
      ]
    },
    {
      "cell_type": "markdown",
      "source": [
        "Script para gerar um grafico da taxa CDI do site da B3."
      ],
      "metadata": {
        "id": "Gm2n2uX9IB6Q"
      }
    },
    {
      "cell_type": "markdown",
      "source": [
        "```\n",
        "import csv\n",
        "from sys import argv\n",
        "\n",
        "import seaborn as sns\n",
        "\n",
        "# Extraindo as colunas hora e taxa\n",
        "\n",
        "horas = []\n",
        "taxas = []\n",
        "\n",
        "with open(file='./taxa-cdi.csv', mode='r', encoding='utf8') as fp:\n",
        "  linha = fp.readline()\n",
        "  linha = fp.readline()\n",
        "  while linha:\n",
        "    linha_separada = linha.split(sep=',')\n",
        "    hora = linha_separada[1]\n",
        "    horas.append(hora)\n",
        "    taxa = float(linha_separada[2])\n",
        "    taxas.append(taxa)\n",
        "    linha = fp.readline()\n",
        "\n",
        "# Salvando no grafico\n",
        "\n",
        "grafico = sns.lineplot(x=horas, y=taxas)\n",
        "grafico.get_figure().savefig(f\"{argv[1]}.png\")\n",
        "```\n",
        "\n"
      ],
      "metadata": {
        "id": "DG7eiWtFIF6c"
      }
    },
    {
      "cell_type": "code",
      "source": [
        "!python cdi-grafico.py dia-02"
      ],
      "metadata": {
        "id": "NbuLzrO8IDQL"
      },
      "execution_count": 12,
      "outputs": []
    },
    {
      "cell_type": "code",
      "source": [],
      "metadata": {
        "id": "W-8EyuZqLB_h"
      },
      "execution_count": null,
      "outputs": []
    },
    {
      "cell_type": "markdown",
      "source": [
        "# Exercício"
      ],
      "metadata": {
        "id": "SLX11kbB03o3"
      }
    },
    {
      "cell_type": "code",
      "source": [
        "!pip install pandas==1.2.4 seaborn==0.11.1 requests==2.25.1"
      ],
      "metadata": {
        "id": "mye1_-Zf09bt"
      },
      "execution_count": null,
      "outputs": []
    },
    {
      "cell_type": "code",
      "source": [
        "# Executando o script extracao.py\n",
        "\n",
        "!python extracao.py"
      ],
      "metadata": {
        "colab": {
          "base_uri": "https://localhost:8080/",
          "height": 0
        },
        "id": "xsxYhYT21GsP",
        "outputId": "fa0f3c56-8134-4c16-c2db-dc49f099e094"
      },
      "execution_count": 3,
      "outputs": [
        {
          "output_type": "stream",
          "name": "stdout",
          "text": [
            "Sucesso\n"
          ]
        }
      ]
    },
    {
      "cell_type": "code",
      "source": [
        "# Executando o script visualizao.py para geração do gráfico 'exercicio-grafico-cdi'\n",
        "\n",
        "!python visualizacao.py exercicio-grafico-cdi"
      ],
      "metadata": {
        "colab": {
          "base_uri": "https://localhost:8080/",
          "height": 0
        },
        "id": "AmGUXKXb1xPe",
        "outputId": "7f38bc99-c61d-48d0-affa-cd30f782ee19"
      },
      "execution_count": 5,
      "outputs": [
        {
          "output_type": "stream",
          "name": "stdout",
          "text": [
            "Gráfico gerado!\n"
          ]
        }
      ]
    },
    {
      "cell_type": "markdown",
      "source": [
        "Agora, vamos combinar os dois scripts `extracao.py` e` visualizacao.py`em um só, chamado: `analise.py`"
      ],
      "metadata": {
        "id": "J3xRT_DD2nP1"
      }
    },
    {
      "cell_type": "code",
      "source": [
        "# Executando o script analise.py\n",
        "\n",
        "!python analise.py grafico-analise-cdi"
      ],
      "metadata": {
        "colab": {
          "base_uri": "https://localhost:8080/",
          "height": 0
        },
        "id": "0r6dNW7A2zRQ",
        "outputId": "5e4a438a-e9bd-4dee-d807-bde18a7e12e5"
      },
      "execution_count": 7,
      "outputs": [
        {
          "output_type": "stream",
          "name": "stdout",
          "text": [
            "Dados extraídos com sucesso!\n",
            "Gerando o gráfico...\n",
            "Gráfico gerado com sucesso!\n"
          ]
        }
      ]
    },
    {
      "cell_type": "markdown",
      "source": [
        "Foi utilizado o seguinte script: \n",
        "\n",
        "```\n",
        "import os\n",
        "import time\n",
        "import json\n",
        "from random import random\n",
        "from datetime import datetime\n",
        "import csv\n",
        "from sys import argv\n",
        "\n",
        "import requests\n",
        "import pandas as pd\n",
        "import seaborn as sns\n",
        "\n",
        "################################################################\n",
        "            #Primeiro, vamos extrair os dados\n",
        "################################################################\n",
        "\n",
        "URL = 'https://www2.cetip.com.br/ConsultarTaxaDi/ConsultarTaxaDICetip.aspx'\n",
        "\n",
        "# Criando a variável data e hora \n",
        "\n",
        "for _ in range(0, 10):\n",
        "\n",
        "  data_e_hora = datetime.now()\n",
        "  data = datetime.strftime(data_e_hora, '%Y/%m/%d')\n",
        "  hora = datetime.strftime(data_e_hora, '%H:%M:%S')\n",
        "\n",
        "  # Captando a taxa CDI do site da B3\n",
        "\n",
        "  try:\n",
        "    response = requests.get(URL)\n",
        "    response.raise_for_status()\n",
        "  except requests.HTTPError as exc:\n",
        "    print(\"Dado não encontrado, continuando.\")\n",
        "    cdi = None\n",
        "  except Exception as exc:\n",
        "    print(\"Erro, parando a execução.\")\n",
        "    raise exc\n",
        "  else:\n",
        "    dado = json.loads(response.text)\n",
        "    cdi = float(dado['taxa'].replace(',', '.')) + (random() - 0.5)\n",
        "\n",
        "  # Verificando se o arquivo \"taxa-cdi.csv\" existe\n",
        "\n",
        "  if os.path.exists('./taxa-cdi.csv') == False:\n",
        "\n",
        "    with open(file='./taxa-cdi.csv', mode='w', encoding='utf8') as fp:\n",
        "      fp.write('data,hora,taxa\\n')\n",
        "\n",
        "  # Salvando dados no arquivo \"taxa-cdi.csv\"\n",
        "\n",
        "  with open(file='./taxa-cdi.csv', mode='a', encoding='utf8') as fp:\n",
        "    fp.write(f'{data},{hora},{cdi}\\n')\n",
        "\n",
        "  time.sleep(2 + (random() - 0.5))\n",
        "\n",
        "print(\"Dados extraídos com sucesso!\")\n",
        "print('Gerando o gráfico...')\n",
        "\n",
        "################################################################\n",
        "            #Com os dados extraídos, vamos gerar o gráfico\n",
        "################################################################\n",
        "\n",
        "# Extraindo as colunas hora e taxa\n",
        "\n",
        "df = pd.read_csv('./taxa-cdi.csv')\n",
        "\n",
        "# Salvando no grafico\n",
        "\n",
        "grafico = sns.lineplot(x=df['hora'], y=df['taxa'])\n",
        "_ = grafico.set_xticklabels(labels=df['hora'], rotation=90)\n",
        "grafico.get_figure().savefig(f\"{argv[1]}.png\")\n",
        "\n",
        "print('Gráfico gerado com sucesso!')\n",
        "```\n",
        "\n"
      ],
      "metadata": {
        "id": "iMF1T6X35FOh"
      }
    }
  ]
}