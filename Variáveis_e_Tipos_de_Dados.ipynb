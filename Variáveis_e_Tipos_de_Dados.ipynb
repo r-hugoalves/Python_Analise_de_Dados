{
  "nbformat": 4,
  "nbformat_minor": 0,
  "metadata": {
    "colab": {
      "provenance": [],
      "toc_visible": true,
      "authorship_tag": "ABX9TyODl3e/hFjAlSTwyxr7M/Mg",
      "include_colab_link": true
    },
    "kernelspec": {
      "name": "python3",
      "display_name": "Python 3"
    },
    "language_info": {
      "name": "python"
    }
  },
  "cells": [
    {
      "cell_type": "markdown",
      "metadata": {
        "id": "view-in-github",
        "colab_type": "text"
      },
      "source": [
        "<a href=\"https://colab.research.google.com/github/r-hugoalves/Python_Analise_de_Dados/blob/Variaveis_Tipos_Dados/Vari%C3%A1veis_e_Tipos_de_Dados.ipynb\" target=\"_parent\"><img src=\"https://colab.research.google.com/assets/colab-badge.svg\" alt=\"Open In Colab\"/></a>"
      ]
    },
    {
      "cell_type": "markdown",
      "source": [
        "#Python: Variáveis e Tipos de Dados\n"
      ],
      "metadata": {
        "id": "OyH1TibZ4qEE"
      }
    },
    {
      "cell_type": "markdown",
      "source": [
        "## Tópicos\n",
        "\n",
        "\n",
        "*   Variáveis\n",
        "*   Números\n",
        "*   Strings\n",
        "*   Booleanos\n",
        "*   Exercícios"
      ],
      "metadata": {
        "id": "OxuIsv0A5p5W"
      }
    },
    {
      "cell_type": "markdown",
      "source": [
        "## 1.Variáveis"
      ],
      "metadata": {
        "id": "Z7UjjW1L6Ad1"
      }
    },
    {
      "cell_type": "markdown",
      "source": [
        "### **1.1 Definição**"
      ],
      "metadata": {
        "id": "h_gBdY1e7BCX"
      }
    },
    {
      "cell_type": "markdown",
      "source": [
        "Mecanismo de armazenamento volátil de dados, ou seja, são dados salvos em pequenos pedaços da memória RAM do sistema computacional em uso (notebook, mobile, console de vídeo game, smartwatch, etc.)."
      ],
      "metadata": {
        "id": "nsFzYVrI7E3k"
      }
    },
    {
      "cell_type": "code",
      "source": [
        "idade = 21\n",
        "print(idade)\n",
        "\n",
        "nome = 'Hugo'\n",
        "print(nome)"
      ],
      "metadata": {
        "id": "OFZZ1RqE7iTN"
      },
      "execution_count": null,
      "outputs": []
    },
    {
      "cell_type": "markdown",
      "source": [
        "### **1.2 Tipos Nativos**"
      ],
      "metadata": {
        "id": "sYYI3sdY78so"
      }
    },
    {
      "cell_type": "markdown",
      "source": [
        "**Tipos numéricos:** inteiros (int) e decimais (float)"
      ],
      "metadata": {
        "id": "Jj6_LA9Q8YGy"
      }
    },
    {
      "cell_type": "code",
      "source": [
        "#Int\n",
        "preco = 1000\n",
        "tipo_preco = type(preco)\n",
        "\n",
        "print(preco)\n",
        "print(tipo_preco)\n",
        "\n",
        "#Float\n",
        "juros = 0.05\n",
        "tipo_juros = type(juros)\n",
        "\n",
        "print(juros)\n",
        "print(tipo_juros)"
      ],
      "metadata": {
        "id": "VX7bZIve7nQO"
      },
      "execution_count": null,
      "outputs": []
    },
    {
      "cell_type": "markdown",
      "source": [
        "**Tipos de texto:** strings (str)"
      ],
      "metadata": {
        "id": "QijGD5Sl9ODp"
      }
    },
    {
      "cell_type": "code",
      "source": [
        "primeiro_nome = \"Hugo\"\n",
        "\n",
        "print(primeiro_nome)\n",
        "print(type(primeiro_nome))\n",
        "\n",
        "pais = 'Brasil'\n",
        "\n",
        "print(pais)\n",
        "print(type(pais))"
      ],
      "metadata": {
        "id": "bvLILEoh9Sbv"
      },
      "execution_count": null,
      "outputs": []
    },
    {
      "cell_type": "markdown",
      "source": [
        "**Tipos lógicos:** booleanos (bool)"
      ],
      "metadata": {
        "id": "VNrYXQ6b9jsq"
      }
    },
    {
      "cell_type": "code",
      "source": [
        "usuario_maior_de_idade = False\n",
        "\n",
        "print(usuario_maior_de_idade)\n",
        "print(type(usuario_maior_de_idade))"
      ],
      "metadata": {
        "id": "3LxfvYlC9fE8"
      },
      "execution_count": null,
      "outputs": []
    },
    {
      "cell_type": "markdown",
      "source": [
        "**Tipo vazio:** (NoneType)"
      ],
      "metadata": {
        "id": "oGpZitDw9_RM"
      }
    },
    {
      "cell_type": "code",
      "source": [
        "telefone_fixo = None\n",
        "\n",
        "print(telefone_fixo)\n",
        "print(type(telefone_fixo))"
      ],
      "metadata": {
        "id": "YKOeOzBm97Q9"
      },
      "execution_count": null,
      "outputs": []
    },
    {
      "cell_type": "markdown",
      "source": [
        "## 2.Números"
      ],
      "metadata": {
        "id": "C0fEje4d-joZ"
      }
    },
    {
      "cell_type": "markdown",
      "source": [
        "### **2.1 Motivação**"
      ],
      "metadata": {
        "id": "3IIRv5Cj-tvH"
      }
    },
    {
      "cell_type": "markdown",
      "source": [
        "Você precisa calcular o ticket médio `tkt` do seu restaurante. A métrica calculada pela soma do valor das vendas `svv` de um mesmo dia dividido pela quantidade de vendas `sqv`, também de um mesmo dia\n",
        "\n",
        "Ou seja: ***tkt = svv/sqv***\n",
        "![tabela.png](data:image/png;base64,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)\n"
      ],
      "metadata": {
        "id": "MKx8bITH-yDe"
      }
    },
    {
      "cell_type": "markdown",
      "source": [
        "Baseado na fórmula apresentada e na planilha, como podemos fazer este cálculo usando Pyhton?"
      ],
      "metadata": {
        "id": "EsWv2ztaAX8E"
      }
    },
    {
      "cell_type": "markdown",
      "source": [
        "### **2.2 Definição**\n"
      ],
      "metadata": {
        "id": "c_m09WHEAg5Q"
      }
    },
    {
      "cell_type": "markdown",
      "source": [
        "Armazenam valores numéricos:\n",
        "\n",
        "\n",
        "*   10, 55, 88 (inteiros)\n",
        "*   0.333 ; 3.14 (decimais)\n",
        "*   1 + 2j, 2 + 3j (complexos)\n",
        "\n",
        "São dos tipos:\n",
        "\n",
        "*   int (inteiros)\n",
        "*   float (decimais)\n",
        "*   complex (complexos)\n"
      ],
      "metadata": {
        "id": "zneDyGMzA4pQ"
      }
    },
    {
      "cell_type": "code",
      "source": [
        "print(type(45))\n",
        "print(type(3.14))\n",
        "print(type(1 + 2j))"
      ],
      "metadata": {
        "id": "tmWaiS3WBQfS"
      },
      "execution_count": null,
      "outputs": []
    },
    {
      "cell_type": "markdown",
      "source": [
        "### **2.3 Operações**"
      ],
      "metadata": {
        "id": "B6HaK0JBBanM"
      }
    },
    {
      "cell_type": "markdown",
      "source": [
        "As operações dos tipos numéricos são as quatro operações matemáticas fundamentais: \n",
        "\n",
        "*  `+` (adição)\n",
        "*  `-` (subtração)\n",
        "*  `*` (multiplicação)\n",
        "*  `/` (divisão)\n",
        "\n",
        "Além de operações mais avançadas, tais como: \n",
        "\n",
        "* ´//´ (divisão inteira)\n",
        "* `**` (potencia ou exponenciação)\n",
        "* `%` (resto de divisão)"
      ],
      "metadata": {
        "id": "--Qlf_LiBgwh"
      }
    },
    {
      "cell_type": "code",
      "source": [
        "qtd_items_carrinho_compra = 0\n",
        "\n",
        "qtd_items_carrinho_compra = qtd_items_carrinho_compra + 1\n",
        "print(qtd_items_carrinho_compra)\n",
        "\n",
        "qtd_items_carrinho_compra = qtd_items_carrinho_compra + 1\n",
        "print(qtd_items_carrinho_compra)"
      ],
      "metadata": {
        "id": "mRmjzLFYBYfD"
      },
      "execution_count": null,
      "outputs": []
    },
    {
      "cell_type": "markdown",
      "source": [
        "Outra forma de escrever: "
      ],
      "metadata": {
        "id": "SEIXRFieCRUg"
      }
    },
    {
      "cell_type": "code",
      "source": [
        "qtd_items_carrinho_compra = 0\n",
        "\n",
        "qtd_items_carrinho_compra += 1\n",
        "print(qtd_items_carrinho_compra)\n",
        "\n",
        "qtd_items_carrinho_compra += 1\n",
        "print(qtd_items_carrinho_compra)"
      ],
      "metadata": {
        "id": "llc8s2ETCNwh"
      },
      "execution_count": null,
      "outputs": []
    },
    {
      "cell_type": "markdown",
      "source": [
        "**Exemplo:** total a pagr de um produto"
      ],
      "metadata": {
        "id": "NxygFmfkCxDr"
      }
    },
    {
      "cell_type": "code",
      "source": [
        "preco = 47\n",
        "quantidade = 0.250\n",
        "\n",
        "total_a_pagar = quantidade * preco\n",
        "\n",
        "print(total_a_pagar)"
      ],
      "metadata": {
        "id": "cKbNjwgGC0Fe"
      },
      "execution_count": null,
      "outputs": []
    },
    {
      "cell_type": "markdown",
      "source": [
        "Mais um exemplo: "
      ],
      "metadata": {
        "id": "RGvJzgxrDKvV"
      }
    },
    {
      "cell_type": "code",
      "source": [
        "a = 3\n",
        "b = 2\n",
        "c = a / b\n",
        "\n",
        "print(c)\n",
        "print(type(c))\n",
        "\n",
        "d = a // b\n",
        "\n",
        "print(d)\n",
        "print(type(d))"
      ],
      "metadata": {
        "id": "aJhOgWg8C208"
      },
      "execution_count": null,
      "outputs": []
    },
    {
      "cell_type": "markdown",
      "source": [
        "### **2.4 Conversão**"
      ],
      "metadata": {
        "id": "9KBMRZpoDYp_"
      }
    },
    {
      "cell_type": "markdown",
      "source": [
        "Podemos converter os tipos numéricos entre si utilizando o método nativo int , float e complex:"
      ],
      "metadata": {
        "id": "eoAGfgp6Dfy4"
      }
    },
    {
      "cell_type": "code",
      "source": [
        "print(int(3.9))\n",
        "\n",
        "print(float(10))\n",
        "\n",
        "print(complex(1))"
      ],
      "metadata": {
        "id": "lecc3FcEDORO"
      },
      "execution_count": null,
      "outputs": []
    },
    {
      "cell_type": "markdown",
      "source": [
        "###**2.5 Revisitando a motivação**"
      ],
      "metadata": {
        "id": "rg0KHe9rDzsg"
      }
    },
    {
      "cell_type": "markdown",
      "source": [
        "Ticket médio diário do dia 19/01"
      ],
      "metadata": {
        "id": "tOLG1XjcEC7Z"
      }
    },
    {
      "cell_type": "code",
      "source": [
        "svv_19 = 153.98\n",
        "sqv_19 = 3\n",
        "\n",
        "tkt_19 = svv_19 / sqv_19\n",
        "\n",
        "print(tkt_19)"
      ],
      "metadata": {
        "id": "YSJfuSURD3_B"
      },
      "execution_count": null,
      "outputs": []
    },
    {
      "cell_type": "markdown",
      "source": [
        "Ticket médio diário do dia 20/01"
      ],
      "metadata": {
        "id": "Lj70MCmREGrQ"
      }
    },
    {
      "cell_type": "code",
      "source": [
        "svv_20 = 337.01\n",
        "sqv_20 = 7\n",
        "\n",
        "tkt_20 = svv_20 / sqv_20\n",
        "\n",
        "print(tkt_20)"
      ],
      "metadata": {
        "id": "fTzP3YNtEE-_"
      },
      "execution_count": null,
      "outputs": []
    },
    {
      "cell_type": "markdown",
      "source": [
        "Ticket médio diário do dia 23/01"
      ],
      "metadata": {
        "id": "5QtehGehELeh"
      }
    },
    {
      "cell_type": "code",
      "source": [
        "svv_23 = 295.33\n",
        "sqv_23 = 5\n",
        "tkt_23 = svv_23 / sqv_23\n",
        "print(tkt_23)"
      ],
      "metadata": {
        "id": "cciJIdpwENX6"
      },
      "execution_count": null,
      "outputs": []
    },
    {
      "cell_type": "markdown",
      "source": [
        "Ticket médio"
      ],
      "metadata": {
        "id": "QZef6qb2ERsu"
      }
    },
    {
      "cell_type": "code",
      "source": [
        "tkt = (tkt_19 + tkt_20 + tkt_23) / 3\n",
        "print(tkt)"
      ],
      "metadata": {
        "id": "glXSknvPESpG"
      },
      "execution_count": null,
      "outputs": []
    },
    {
      "cell_type": "markdown",
      "source": [
        "## 3.Strings"
      ],
      "metadata": {
        "id": "vc5WUS4cueia"
      }
    },
    {
      "cell_type": "markdown",
      "source": [
        "### **3.1 Motivação**"
      ],
      "metadata": {
        "id": "FTp5wHLnu3BR"
      }
    },
    {
      "cell_type": "markdown",
      "source": [
        "A empresa que você trabalha adquiriu uma startup de logística. Você precisa identificar todos endereços que são comum a ambas. Na sua empresa, você armazena a latitude e longitude dos endereços em duas variáveis `lat` e `lon` , já a startup adquirida em uma única variável `latlon`"
      ],
      "metadata": {
        "id": "DBsvhr7rvYQ0"
      }
    },
    {
      "cell_type": "code",
      "source": [
        "# sua empresa\n",
        "lat = '-22.005320'\n",
        "lon = '-47.891040'\n",
        "\n",
        "# startup adquirida\n",
        "latlon = '-22.005320;-47.891040'"
      ],
      "metadata": {
        "id": "RdPeFhYKvYtV"
      },
      "execution_count": 1,
      "outputs": []
    },
    {
      "cell_type": "markdown",
      "source": [
        "### **3.2 Definição**"
      ],
      "metadata": {
        "id": "3MxqXcmwv2f-"
      }
    },
    {
      "cell_type": "markdown",
      "source": [
        "Armazenam textos:\n",
        "* `c`, `EBAC`, `Python`, `Hugo Alves`, `21 anos` (texto)\n",
        "\n",
        "E são do tipo: **`str`**"
      ],
      "metadata": {
        "id": "4Kz1qLXDv8hK"
      }
    },
    {
      "cell_type": "code",
      "source": [
        "nome_pet = 'Kaira'\n",
        "\n",
        "print(nome_pet)\n",
        "print(type(nome_pet))"
      ],
      "metadata": {
        "id": "1AhsLXcvv7xt"
      },
      "execution_count": null,
      "outputs": []
    },
    {
      "cell_type": "code",
      "source": [
        "string_vazia = ''\n",
        "\n",
        "print(string_vazia)\n",
        "print(type(string_vazia))"
      ],
      "metadata": {
        "id": "u2BIEo-dwX2d"
      },
      "execution_count": null,
      "outputs": []
    },
    {
      "cell_type": "markdown",
      "source": [
        "### **3.3 Operações**"
      ],
      "metadata": {
        "id": "-LEDY2a1wwAu"
      }
    },
    {
      "cell_type": "markdown",
      "source": [
        "#### **Cocatenação**"
      ],
      "metadata": {
        "id": "VWHF43IO8NDg"
      }
    },
    {
      "cell_type": "code",
      "source": [
        "nome = 'Hugo'\n",
        "sobrenome = 'Rodrigues Alves'\n",
        "\n",
        "apresentacao = 'Olá, meu nome é ' + nome + ' ' + sobrenome + '.'\n",
        "print(apresentacao)"
      ],
      "metadata": {
        "id": "1wKGsRyFwsxr"
      },
      "execution_count": null,
      "outputs": []
    },
    {
      "cell_type": "markdown",
      "source": [
        "Uma outra forma de fazermos cocatenar é usando a formatação, confome o exemplo abaixo"
      ],
      "metadata": {
        "id": "8MJoiUqf822e"
      }
    },
    {
      "cell_type": "code",
      "source": [
        "nome = 'Hugo'\n",
        "sobrenome = 'Rodrigues Alves'\n",
        "\n",
        "apresentacao = f'Olá, meu nome é {nome} {sobrenome}'\n",
        "print(apresentacao)"
      ],
      "metadata": {
        "id": "f4V1gDc78nqn"
      },
      "execution_count": null,
      "outputs": []
    },
    {
      "cell_type": "markdown",
      "source": [
        "#### **Slicing**"
      ],
      "metadata": {
        "id": "EguKGSXx91NY"
      }
    },
    {
      "cell_type": "code",
      "source": [
        "#Fatiamento fixo\n",
        "\n",
        "# h u g o _ m u n d o @  h  o  t  m  a  i  l  .  c  o  m\n",
        "# 0 1 2 3 4 5 6 7 8 9 10 11 12 13 14 15 16 17 18 19 20 21\n",
        "\n",
        "email = 'hugo_mundo@hotmail.com'\n",
        "\n",
        "print('0: ' + email[0])\n",
        "print('12: ' + email[12])\n",
        "\n",
        "# OU\n",
        "\n",
        "print('-1: ' + email[-1])\n",
        "print('-2: ' + email[-2])"
      ],
      "metadata": {
        "id": "AuXp7ClS93Se"
      },
      "execution_count": null,
      "outputs": []
    },
    {
      "cell_type": "code",
      "source": [
        "#Fatiamento por intervalo\n",
        "\n",
        "# h u g o _ m u n d o @  h  o  t  m  a  i  l  .  c  o  m\n",
        "# 0 1 2 3 4 5 6 7 8 9 10 11 12 13 14 15 16 17 18 19 20 21\n",
        "\n",
        "email = 'hugo_mundo@hotmail.com'\n",
        "\n",
        "email_usuario = email[0:10]\n",
        "email_provedor = email[10:22]\n",
        "\n",
        "print(email_usuario)\n",
        "print(email_provedor)"
      ],
      "metadata": {
        "id": "jeR4NUyN-PuR"
      },
      "execution_count": null,
      "outputs": []
    },
    {
      "cell_type": "markdown",
      "source": [
        "### **3.4 Métodos**"
      ],
      "metadata": {
        "id": "8mdeGHkNADou"
      }
    },
    {
      "cell_type": "code",
      "source": [
        "# Maiúsculo: string.upper()\n",
        "\n",
        "endereco = 'Rua da Mantiqueira, 44, São Paulo, Brasil'\n",
        "print(endereco.upper())"
      ],
      "metadata": {
        "id": "oHlUXFlT_Qj5"
      },
      "execution_count": null,
      "outputs": []
    },
    {
      "cell_type": "code",
      "source": [
        "# posicao: string.find(substring)\n",
        "# Aqui tem um ponto interessante:\n",
        "  # Se a substring que eu procuro não estiver na string origem, retornará '-1'\n",
        "  # Se a substring que eu procuro estiver na string origem, retornará a posicao do primeiro caractere\n",
        "\n",
        "encontrou_palavra = endereco.find('Mantiqueira')\n",
        "print(encontrou_palavra)\n",
        "\n",
        "nao_encontrou = endereco.find('Avenida')\n",
        "print(nao_encontrou)"
      ],
      "metadata": {
        "id": "892n4E-mA2o3"
      },
      "execution_count": null,
      "outputs": []
    },
    {
      "cell_type": "code",
      "source": [
        "# Substituição: string.replace(antigo, novo)\n",
        "\n",
        "print(endereco.replace('Rua', 'R.'))"
      ],
      "metadata": {
        "id": "wszWIV2OA8PD"
      },
      "execution_count": null,
      "outputs": []
    },
    {
      "cell_type": "markdown",
      "source": [
        "### **3.5 Conversão**"
      ],
      "metadata": {
        "id": "pgLrAsaTCRmc"
      }
    },
    {
      "cell_type": "code",
      "source": [
        "idade = 21\n",
        "print(type(idade))\n",
        "\n",
        "idade = str(idade)\n",
        "print(type(idade))"
      ],
      "metadata": {
        "id": "d4xdVIlpBvKm"
      },
      "execution_count": null,
      "outputs": []
    },
    {
      "cell_type": "code",
      "source": [
        "faturamento = 'R$ 25 mi'\n",
        "\n",
        "valor_faturamento = int(faturamento[3:5])\n",
        "print(valor_faturamento)\n",
        "print(type(valor_faturamento))"
      ],
      "metadata": {
        "id": "WDe-6c8JCfJ0"
      },
      "execution_count": null,
      "outputs": []
    },
    {
      "cell_type": "markdown",
      "source": [
        "### **3.6 Revisitando a motivação**"
      ],
      "metadata": {
        "id": "PLoeZ34fDBaq"
      }
    },
    {
      "cell_type": "markdown",
      "source": [
        "A resolução se baseará hein: mapear o formato que veio da startup é padronizar no que já existe na nossa empresa"
      ],
      "metadata": {
        "id": "dxeuxJqpDSFV"
      }
    },
    {
      "cell_type": "markdown",
      "source": [
        "#### Resolução"
      ],
      "metadata": {
        "id": "OCB7poJXD8zj"
      }
    },
    {
      "cell_type": "code",
      "source": [
        "formato_sttp = '-22.005320;-47.891040'\n",
        "\n",
        "divisor = formato_sttp.find(';')\n",
        "#print(divisor)\n",
        "\n",
        "lat_empresa = formato_sttp[0:divisor]\n",
        "print(lat_empresa)\n",
        "\n",
        "lon_empresa = formato_sttp[divisor+1:len(formato_sttp)]\n",
        "print(lon_empresa)"
      ],
      "metadata": {
        "id": "R0Yr5GEiC63c"
      },
      "execution_count": null,
      "outputs": []
    },
    {
      "cell_type": "markdown",
      "source": [
        "## 4.Booleanos"
      ],
      "metadata": {
        "id": "k67IZjh4HheB"
      }
    },
    {
      "cell_type": "markdown",
      "source": [
        "### 4.1 Motivação"
      ],
      "metadata": {
        "id": "ZU0kSwnpHwu4"
      }
    },
    {
      "cell_type": "markdown",
      "source": [
        "Em websites (redes sociais, e-commerce, corporativos, etc.) é comum o uso de sistemas de controle de acesso, o famoso login. Em geral, nestes sistemas um usuário fornece dois dados: `usuario` e `senha`"
      ],
      "metadata": {
        "id": "Eg6ID6-lHzjX"
      }
    },
    {
      "cell_type": "code",
      "source": [
        "usuario = 'hugo.alves'\n",
        "senha = 'hugo123'"
      ],
      "metadata": {
        "id": "USA58HGyHma4"
      },
      "execution_count": 53,
      "outputs": []
    },
    {
      "cell_type": "markdown",
      "source": [
        "Do lado do servidor, o backend do website tem armazenado os dados de usuário e senha fornecidas pelo usuário no momento do cadastro: `usuario_cadastro` e `senha_cadastro`"
      ],
      "metadata": {
        "id": "VakjgQ5HID3H"
      }
    },
    {
      "cell_type": "code",
      "source": [
        "usuario_cadastro = 'hugo.alves'\n",
        "senha_cadastro = '123hugo'"
      ],
      "metadata": {
        "id": "d3Y4tU4EIJtj"
      },
      "execution_count": 55,
      "outputs": []
    },
    {
      "cell_type": "markdown",
      "source": [
        "Como comparamos se as strings ( usuario , usuario_cadastro ) e (senha , senha_cadastro) são iguais para conceder ou bloquear o acesso do usuário?"
      ],
      "metadata": {
        "id": "pfdpWQBqIUzr"
      }
    },
    {
      "cell_type": "markdown",
      "source": [
        "### **4.2 Definição**"
      ],
      "metadata": {
        "id": "3dfqALg0IcGF"
      }
    },
    {
      "cell_type": "markdown",
      "source": [
        "Armazenam valores lógicos: \n",
        "\n",
        "* `True` (verdadeiro)\n",
        "* `False` (falso)\n",
        "\n",
        "E são do tipo: **`bool`**"
      ],
      "metadata": {
        "id": "121yQGQ6IfuP"
      }
    },
    {
      "cell_type": "markdown",
      "source": [
        "São resultados de comparações lógicas. Os operadores de comparação lógica são:\n",
        "\n",
        "* `>` (maior)\n",
        "* `<` (menor)\n",
        "* `==` (igual)\n",
        "* `>=` (maior ou igual)\n",
        "* `<=` (menor ou igual)\n",
        "* `!=` (diferente)"
      ],
      "metadata": {
        "id": "Xzk-hazDIsSn"
      }
    },
    {
      "cell_type": "code",
      "source": [
        "# Caixa eletrônico\n",
        "\n",
        "saldo_em_conta = 200\n",
        "valor_do_saque = 100\n",
        "\n",
        "pode_executar_saque = valor_do_saque <= saldo_em_conta\n",
        "print(pode_executar_saque)"
      ],
      "metadata": {
        "id": "SOu6XG2qITaK"
      },
      "execution_count": null,
      "outputs": []
    },
    {
      "cell_type": "code",
      "source": [
        "# Cartão de crédito\n",
        "\n",
        "codigo_de_seguranca = '852'\n",
        "codigo_de_seguranca_cadastro = '010'\n",
        "\n",
        "pode_efetuar_pagamento = codigo_de_seguranca == codigo_de_seguranca_cadastro\n",
        "print(pode_efetuar_pagamento)"
      ],
      "metadata": {
        "id": "9gPr58cAJ8qg"
      },
      "execution_count": null,
      "outputs": []
    },
    {
      "cell_type": "markdown",
      "source": [
        "### **4.3 Operações**"
      ],
      "metadata": {
        "id": "AA2DjdLtKIhD"
      }
    },
    {
      "cell_type": "markdown",
      "source": [
        "As operações de variáveis booleanas são:\n",
        "\n",
        "* `|` (operador ou)\n",
        "* `& `(operador e)\n",
        "* `not` (operador não)\n",
        "\n",
        "O conjunto de resultados de operações lógicas geralmente é resumido em uma tabela chamada \"tabela da verdade\":"
      ],
      "metadata": {
        "id": "SV8bUJGXKO8F"
      }
    },
    {
      "cell_type": "markdown",
      "source": [
        "![image.png](data:image/png;base64,iVBORw0KGgoAAAANSUhEUgAAAfQAAADaCAIAAADfZScvAAAgAElEQVR4nO3dd0AUR9sA8NndKxTvkOPoKKIUsYCUYEEFxAKI0SgK9pqY2Fts0ZioeVFjMFGixugbNTGfNQrIIYqIolEBFbuxYIsizRB4OeGO2/3+QOSAu+N6WZ/fX7K3uzfz7Myzs7N7K0ZRFAIAAEAvuKELAAAAQPsguQMAAA1BcgcAABqC5A4AADQEyR0AAGgIkjsAANAQJHcAAKAhSO4AAEBDkNwBAICGILkDAAANQXIHAAAaguQOAAA0BMkdAABoiGHoAiDJ66f3X1ZUFBUjZ+9OXk4czNAF0hJh4YOCly+ePKu0bONma4YQwgkG28qxjZMVy9BFMzQ1D7mo5M7FC9ceFJaLiFZ27bp0D/ZvY9l4U2HhgydlNeS7v3GCweLYuTjzzBR9hfEfKXX7iOLt6qKFmDxXLyfLZptVShDBbdOxrRWGmgUWxxnMVnxnF75FS4NDI42tClWXorgBikoLHr4SkkgeguPk6coj5BdK65kQM/Qrf9+cWRb+yYFXEoQwZtd5yX/M9lJQfRMizl0bMfa/j2sbL8UIS6eAITNXLIvrwjFMuYyA6oecqri5f92qH/64Xix611oxgus+4OOVqz7tbV+/ucyYYzib791vzPxlM/q5MGXt3PiPlLp9RPF29fUm7CO/PbJlmNO7PE2V7pvUe2W2CLH7rc/ZOZIjL7CMVk5dQj6aOnv6YM9GCVLGdzReavDYqlD1t8tbboDkg8Th0Qk3xHK/lBW8+vzecXy5KVv7mdDQ0zLCC4IzxRKEEEKU+F562n2JgQukdRiby+fz+Xwe14yBUZKqFzn7V077IqX0vX2NvsqHvDLvh8njV+7PLxZRCCPYXF5rCyaGUZKKBycSPh77xYmipqHEGOZWfD6fz7exMmcisqbkdtrmGRO+zChTHHNjPVLq9hElt5MUpa9dsf+xyh2Pqv3fi/zUxLkj49ZmtRgj44ytklVXuQGqQweZ0MDJvTI77VwpiQgHJwcCIfGDdMEdmmV3huuYny/k5OTk5OVfP//b7CAujpCk5HTymX8NXTIDUfWQV+duWb4tv4JEOMd75JqDF27k5129mSvY8llPWwZG1RQcXrX2eJMcQbjE7biQk5OTk3vt5sU/vhrkzMAo0dOjP+5/qOibjPVIqdtHlN+OfH1uwxe//CV/0FmPcBq24WhycnLSH/t//nbhyG62TAyRlbf3LF2dqjhNG2tslam6kg0Qd41LOJpc59i2CZ5MhBDO7f/lH2+XJR9dG2Utf6ZFF5nQsMm9MltwtoxEDJdBXy8ayMWR+FG64GbLbcxEMe16ThsZxMQQQqRIXGvoAaFhqHrIy0/uOVwgphDO6/fFz/FjA+yYCCGM6xX1+faEMW4MDJGlGXuPPJE31YnzfMctHufDQIgS/3X9plC5QhrTkVK3j6i0HVlx+YdlW69Xt7BPjGXt2qlLly5duwWFj5i5fv/vK0JscIQkJad2H34sf7a5EWOKLUItV13pBsjit+/U5a32fDOEEEIMjvO7Zd6KJtx1kgkNmtz/zRJkl5OIsAsODw4JC7LEUO2TUwIF01YmjirPu/JAQiGcE9S/N48ud45VouohF125kFtBIkQ4DZ4kNTeKEEKcnhNGdGFgiBLd+vOCghkXzMyMjSGEECVROpUYz5FSt4+ouh1VdX378u9zq1QpG6vDmPmjPZkIUaLbFy+2MOnV8E1GE9v6AimquhYaoBJ0kwkNmdzLzwjOV5AItwkOCzDj9Q3pZoah2menUq+JDFgobav9++R3ixcuXLhw/syJQyJmHHhp0T50xqZ1Y9sa+m6HQah6yKnSZ8/+JRHCWB19uzZ9vgJ36dqJjyNESV48fVorc3uEqLJLuw9fEyOEGK7eHeXd+EPISI+Uun1Ehe0Y7SZuWtvfFqdq7v2ybP25f1XJUoRXQDcbAiFK8vLZ3/IOATLS2CpTdc0boDJ0lAkNF1yq7HTaxUoS4a17hAaZI4wfEuLDwlDt3xmpebTK7i9yko4ePXo0KS37TnENxuZwWVUlJf8z+OWoAah+yKnqNzUUQghjWVqym32KWViaY3VrVUvHU1IoWBk7fPjw4cOHRvTuN3Hn7WoK4dbBE2O7KHz+wPiOlLp9RMXtcKeYNSuiHAgkfrz/izXppSqUEGvVygJDCFEikUhRoIwvtnVaqrp6DVA1OsuEBnvOnSo7nXapkkKI4cyrzc3MRIhiOToQ6Glt4enUy8t69TEzVMm0C7cbsm737G4MRNUKywpyjmxNPHrylxuX7vx7YO/HXjIfzaMtNQ75u9xRXV7+P4R4TXZYXl5JIoQwC04r6ct7qqbofn6R1F4s2w+cFf9NXBuFQxnjO1Lq9hHVt8Pso1et/vPGzIPPXiR9vapzrNL38iRlZeUkQghvxeEoOHMaX2zfUVx19RqgSnSXCQ2V3KmSU2mX/0chhMQ3d8+dtlvqI0nRGcHFN33CzA1UNO3CLfiuHdzdmQgh5NHR5wPnf26O3Ha/Im/vvpyJq4ON5Vcy+qDOIcdad2hvS/z5QiK+k5NXGTuw0WPR4rt5+f+QCGHsdh3aSWcIwjZ87vKh7YiaW/vW7LxcQSLcoUdkQEvTu0Z3pNTtI2pth9n0X7Z2TN60vY+KTqzZrGwR3+Rl5/5LIoSZt3Nvoyi5G1tspSmqunoNUBU6zIQGmpahXqWn5QophBDOdfb0esvTmYsjhCTFZwQXlHyuweQwCQJDCJHlr/9R8vECmlDvkLP8QoNtCYTI0pM/7b4p/UgD+eLYtiOPahHCLANCg62kN8Is23aPio6OHrFg6TgvFoaoyss7t2VVqlhgQx8pdfuI2n2L2/vzdVM7Kfwxb+Mvev3n9xuOvpAghHO69+vVSoW6GTq2TcmvuloNUAW6zISGGblTL0+eyHtDIYzd44vUfZOd64MqzvsmcsyugtrSs2nZlf0HGfyngVpA1VSWFBUWEghRovLHlw5u2veXGCGM6e79fk3KqHvILUKmTPRL3ZBXVZWf+MmU8rkzRvbxsqp5mpe884efT5WQCGO6jfhkiKPsjMTymTIr6sicY0WSl0mJeyeGzOyoYHRpZEdK3YBp0rcsAub+Z8alsZuuyZkMp6oKso8eeUZQtcKyJ/mnkwVXCmsohJl1HP/pYPk/vURGF1sZ5FZdowbYIp1mQoMkd/LvE2lXayiEsTqHhEqHhekTFuywu+BvyeuzguzKQVE0yO6SwsOz+h5uvAwz6zBqzmh3erxnQTnqH3LCc9r6VTcnrkj7W1R06Zfll36R+gwjeEFzNy7qJbedYLxBs6YGnIrPqaq+sTcxNXbLh/JzkHEdKXUDpmHfYnWdvm7uxZHxFytkjaglJWcTl55ttAgzc4v++ofZfoonho0rtrLJq7pGDbAFus2EhpiWIZ+fSL8uohBieIWENX4YiuUfVncRVJ4tMPiv17QNw5kWvLY+/Set+e3/vgozhid89UbZQy5zY8It5ofDu5cN93cww98FDWNadxw4c8uhX2Z0U/R8I8Lbj50/su63Jqe27lLy2TLDHyl1+4jmfYvpMTl+SaiNwsSAYQTT0qZNlz4j523+49j3IzuoMGtu+NjKJa/qGjVARXScCQ3+4jAAlEVVFf5158GLchHeyrZ9p06uVkZySQ/eEybWACG5AwAADb2Xv5MEAAC6g+QOAAA0BMkdAABoCJI7AADQECR3AACgIUjuAABAQ5DcAQCAhiC5AwAADUFyBwAAGoLkDgAANATJHQAAaEjuK38zMzP1WQ4AAABq6Nevn8zlMHIHAAAagrdCAgAADcHIHQAAaAiSOwAA0BAkdwAAoCFI7gAAQEOQ3AEAgIYguQMAAA1BcgcAABqC5A4AADQEyR0AAGgIkjsAANAQJHcAAKAhSO4AAEBDkNwBAICG5L7PXRFRacHDV0JS7ucEx8nTlUcICx88KatpWA0nGCyOnYszzwyTXvvtajjbpp2Ho4X015Q8elj0hsSZvDaeThysYdXm34gzeZ28nNSpi0y0r6DeaTeiKoRUUURdvZwsNa2YrhhlE3T1dLLEmn9igkTlL0v+RzZ7IS7GsrKz4zClFwkL799++sbF39eR1WRlSiwSUxiDxVQ4QiYrCi6fy/nr5T8iNq9N5159A9pIh1BeOXBznpONuUpVak6dV/6SDxKHRyfcEMtdgRW8+vzecVZ5ayPG/vdxbePvw9l8735j5i+b0c+lLobi3LrVGO0m70tf+UFDYCX3vh82dPNtMW47ckf2+n6shlWbfyNuH/vwYryqFZGH9hXUO6Ui+us4K1n1bx5RFUKqMKI7L8aHaqV62mecTXDn2fjQpinOJImyloVMO1DU7BTG7DTnWNI8b+LdAvLZrjGD/pPLDt+Q8dMIPtZsH0c7fJn96wRb2Wc86nXO9mXLtp5+IsRZFmxUIxRJcI7XkIXrvh7vw1FYDtxq6I/XNg3SsJZqjdxVgzHMua0tmQhR4qqKijc1JbfTNs+4+yrx0H/629BiGKC1CuauX7pXVrdCuP3I+K+1VFpTQPsmo20QMDUwvUevndW7lfQinOvhIj0OJx+lHM+XEETlxeT0V8PHOqoSS/Lvg0tmJPxpPXjF3gUje7a1xKsL85K2rI4/uPpTkpe8afC7U4WMcmAsJz81ayVFneSOu8YlHA2tu2QkXxxePGfvfTHO7b9i95zAut0RHCdrDNWfjgiXuB1vhwvk6+u/fTFr7ckXoqdHf9w/JWymByHnOxQinIbF/zilo9S2OJOnzo7kMHAFZVbPlSl/A+OnVESRvpuMq0Z10inj7GOm3Qibwqy9QiMi5Yy6EUIISe6kCO6wes2cLN7xc0rq89HT2ip/j5J8mnroXEWbsVs3TAqqu9oxcwyMXftD+YOoDaeSsioHx3CVLoea1Bq5s/jtO/Hr/kmys8zqdsRx7tSli/Q1m6xpO57vuMXjkjPXXxWL/7p+U4g8OOp8P8aydu3UpYvuWpphK6jz6hkA7ZuMtkHADE+cnyJ4aNZj0pjYmqu71qamPJoy00Pp7C75t7yCQgw2u1HSxt2m7LkcJybM1TooKtL70zKYmVlddSlJLS3/gz/aV1DvIKIqgoBphSg3Oe2Zea/IcL7jwIhA5p3UlNsS5bdmtu/ixSULDqz9VvCwUuooMC24VlaWLH1Mlulhzl0aVXZp9+FrYoQQw9W7o7qPKpAlZ7+f85LbsIBoM3jp8mgXbZRQQ9qooMzqLY12eT8fW9Vhk6FnTCFgyqIkNdXV1Q1pFscJJotZ/7fwfPKpV62CF/XjYRjVPzIo/ktBSv7srgHKXsxwI+Z/PjB/VfrO2ZG/23v6+vn6+QUG9Qnp6WXTZA/UP/dOpx6XnnPHCAe/QYFOmsZaD8ldUihYGXvNAiEkERY9KXhVWUsh3Dp4YmwXtSYDEUJkVcHF9AKpBcxOXjO1UFI1abuCMqv3Xo3A9NRk6BNTCJgaRBfX9O28RmoB4TJhb8ZXPevmvSqzkk+XcvsMDrNCCGH88Mge8cvTjuUsCAg2U3L/RPvYH5M6Je3Zczg9+1rOibsX0/ZvxdgOH8QuXrN0mEfDXsR39y+fs196S8x8UEJY4FBlv0gePSR3qqbofn5Rw9+YZfuBs+K/iWuj9okJ5wWNnRLq2LA9zg+006iMGtF2BWVWj04jphbpqcnQJ6YQMDUw3YctmhQodWmDW3p2eDuqpsoyUrL+wT1dOfevXEEIIYrX3g07k5F0YWlwuPJXQxiv67D5G4fNR+Lyx7eu5GSfPHogOffXJR/XWqesDamfdmcFLU7aEtP4qSY2V9PMjvSS3Anb8LnLh7Yjam7tW7PzcgWJcIcekQG8d3XB8br5weo3bxqNDMjq6hoKIYQwvEmjwrmdoz/+9ANjudmj7QoaWfUMoKWIqt5maB5T2vcxXcDsug0bPUbmUypUyamUC5WkKC9x4shEqeV4ZlJWRfhgroxNFGO2dvMLd/MLHxUXsnD43OSTqTlrQ8LrP2RY8Ph8vvZn4fVwLsYs23aPio6OHrFg6TgvFoaoyss7t2VV1n/McLDn4xhCZNm1S3dFDZtJnl7MfS5BCBG29g7qXlzqBe0rqHctRBRC2hQ0Qa0iXwhSLgst+yzef1TK3ln+RPm55FOlysxOUcWX/m/rtkN5rxuvjNmFhfqYoRphtW5K3og+b6iyfKbMijoy51iR5GVS4t6JITM7EgghzLFf/26bcnOE4vu7Fy7gLp0e3c0RL719cuf6bddrKISx3MP6N3lUl6oqyD565JnUQszcbXiUvx7rIpOWKiizesER/vb0uipWhuyIqtFmZMc0yt9ev/XROd32sfekEZJPjqdcFTmOmDYpyFd6dqT9lIjf52Yq93MmjF1yYVdCVkaN56/zfBvmcajizMzr1UxPn046KXljen1aBuMNmjU14FR8TlX1jb2JqbFbPuRjCOFu45bPzJj0XU55dYFgwyeCDdJbtOo8eeXHTe8KSUrOJi49K70Et481guSupQrKrN7O/v72tPjlt2pkR1T1NiM7pvRL7rrtY+9HI5TcT069Ves0enD3JvPenD6Rfa0FJ1IEz0dPfftzJqro6pFfkfTbehDO840a7Muzipg98+Cl+MSJH90ZERPu357Prim9fzHl//64VO4xeUOcW8MGMvaBsduHxvZuo2FF9PwoJN5+7PyR+8fvKagtPbV117WIJf4shJCZz2e7fndIiN9y+M+nlZK66xgMN3cMHPrp0sVju+njeX9toX0F9U52RCGkcjUJ2IdL/BGCeClPfCtJ8BfVZvzggGbnMU6fqL685OPHUx5NnelRt/Kj5A1fJTdaidlpTkCkL49gek3ZccBh63c/HTnw7elfJBRCGNPKLWj4qu/njwuQnrWXsQ/caqid5sldnReH6Y6o9OGte09LhcjM2tmrs5e9Bd3ei0H7CuofhFQ1EC+9k1SVFhZXSNg8e8fWZnoMt3EldwAAAFrxHtweAQCA9w8kdwAAoCFI7gAAQEOQ3AEAgIYguQMAAA1BcgcAABqC5A4AADQEyR0AAGgIkjsAANAQJHcAAKAhSO4AAEBDkNwBAICG5L7yVygU6rMcAAAA1GBhYSFzOYzcAQCAhiC5AwAADUFyBwAAGoLkDgAANATJHQAAaAiSOwAA0BAkdwAAoCFI7gAAQEOQ3AEAgIYguQMAAA1BcgcAABqC5A4AADQEyR0AAGhI7lshFRGVPn5UJCTlfk5wHD3a8ghh4cOnr2saVsMJBotj6+zEM8Ok1367Gs7mubo7Sr/eTFRS8Kj4DYkzeS4ejhysYdXm34gzed6ejurURR5ReWFpFUk1XYwxubZ2HGbj8j+4+/yNUzcfR1aTlSmxSExhDBZT4SmUrHicez7v/qtyMcvauVOP3n4ullLxkVcO3Mza0cZcpSoZknabjAptRlGTaevpaKlpxXQImqDuvBexxSiq2Z4RQgpf+Us+3B43YvMtsdydsnquzNg52urquqGT9z6pbfx9ONumY0jsrM8/CXWui6H4St1qDNfxvyQvC2gIrOSvxNhRW++Icf7wxIy1oayGVZt/I24XcytrtcKaqkZ07suBMw4XN0sKTO8ZBw7O6ki8W0A+3z3pw2+vsMO+Ob5lGB9rto/k9stO7RprizXdEUIIIep13s5VX+4481SIsyzYqEYokuAcz6g5q1eM6cpRWA7cKnrT2Q0DmrY3Y6VUk9k12krWAW7eZFRoMwqbzNas1X21Uj2dMIUmeHHDAA1raRj0iq28V/6qNXJXDcYw51pZMBCiaoWVFW9qSu+c3Drvr6KE377uZyM7KHJc+W7l77K6KcLthq9eoaXSSmN2HLVqes9Ggzuc6+4sfaImCwRpNyQEUXk5NePV0DhHVSpEvjiyct7mS60jluycM7x7G0u8uvDq8e3/2Xgkfg5pfWhD5Lu2JKMcGMvRVw/HzkC01mRMnpE3QTVrZRxoH1t1EgTeNmb9/j5119jky2MrFu17IMa5/Zb89Jl/3e4IjqM1hupPR4RzTOLb4RX5+sb/fbVg/emXomfJPx2eEDLdnZDzHXJUVIsluK3P1C96ukgdA5xhKXr63/PYlN7ualRHPqy1R5+Bg+SclhFCCEnuCtLvsXpMHy/+7y+CE3+PmtxG+ZsY5LMTf5yvcIn9/pvxgXUjcDNH/5hVG/99+FFCZmp2ZeRHXKXLYeyUajJIJ03m7R4dh6zeNMFTalucyWurUZ30Apqg7tA+tmqN/lh8N29+3T9Jdja7bketnLw7d5aeJpA1z8nzGb1gdOrZ7/LF4gc3bwuRO0f1b8dYFnYdnNyMYdwqviFIf2QWNG5UTE3+nvUnBAUTp7srffgl/5ZXUojBZjU6qni7CT+fjRET5mpExogZtskghLFat/Xu3JnZ8pomBpqg7ph6bPX+tAzGZrMxhBCiJLWyZ/tNh+hK6snn5t0HhvIdwgf4M++dENyRKL81062TB5d8fGT9phOPKqVCwbTgWllZsmg1SNIInZqMtkET1B2Tj62ex79UWc5vx66LEUKMtl6e6j2qQL5+eDR+v9SdZNyu74DYEGsdnKcoiai6urrhOOA4wWQx6/8W/pl6uqhVj3khPAyjwgYGblyTLrjxWRc/ZYeH3IGz5524sTZj98JhB9d7dPXt6uvrHxjcu7unTZM9UOX3s9IE0tHCCIduA/wd34cHWbXRZBAiS88nLpwjNVwiXCIWLYpyNvoIQhPUHbrHVg/JXfIqffX46+YIIcmb4mePiyprKYRb9xwb01mt2VNEvSm982ep1ALC1U03Dz2ILq8bELBO+pucx+5M/aJ73UxC5bnUM2XcXhF9rRBCGD90YNDGVSdT8ub49TRTcv+EW8z3Bzse37fvaMaF63mn7l0+eWjHRrZ9QMyCLxcOcW/Yi/jeoVWLDklviZn3Xx/iH63sF5kabTcZhMiqx5czHkstYHp7TjeBywBogrpD+9jqIblTNcUPbhQ3/I1ZuoV/uvqrkS5qnpgwK9fwjzx5mNSCzq10cpXD7DBk7jh/qVMqbunh9va0S5WdEWSX4+5tOQ+vXUMIIcq6nSt2NvP4xYU9w5QfX2K8LkNmxw+ZjcTlT25fy/vzdPLh1Cu/r5hZ2/rwqj71A01W4IKD3w3jNaojm2vC3aol2m4yCOG8wLgJfR0atsdt/G1NYNQJTVB3aB9bPSR3gh82c/HgtrjozoF1u3MrSITbBw30a6gLjtdNqFZXv2k0lCKrq2sohBDC8Ea9EG/l2H1Eby99PMRp6zNkVKzM29hUSabgUiUpurr947HbpQt39vi5irBIroxNFGO2btctrF23sBExvZeO/jw140Tesj5h9TcbGebWfD7//ZkCbanJqNxmEM7xjpw8LcDkbqgatgmu6hNW/yENmyDtY6uPFGnp8sGgqAAm6u/y5M8JP98TVebu/vnc0NWhdWcuhr2dDY49RuTr6zn3RL196hOa5FnOlb8lCCHC1s5e3atxXSFfpgtyhZbBC7bODmp43ON/Wes+23FBkFkaMazlQ0UV5xw6dp0ROOIjf+mTNmYX0reLWeolYbX8n3PSXgtNxjTbjJbpownqpOAmgCax1ecNVVbXCdMHHVuUUiwpPL7997F9pnsRCCHMITTMJ/FKnlD84LdlS7gLp0b6OOBldzN2J/x8s4ZCGKtD37BGzzZTwrJbp/OLpRZhLF7n3m11cUdVDvJpmiBf5DBs0rhAH+nLJ7cJAw5+fla53ztg7NKLezZnZ9a475rl03ChRxVnZd2sZrp39TaVX5/qkuwmo3qbQVTVkwvJx55LNxoz1x4Rfvb6rY/26KUJ6qTkxo8usdXr0zIYb8CnE/0yN+ZVVd/at/3EiITBfAwhvN3oz6efmf5DXnn14/SEWekJ0lu08h6/dHLj22jkPw+Svn/QaL82AQt66jG5Sx6knrhT6zgq4oMmE2Oc4IHBrdNPCdL/HjXp7e8dqOL8pN9Ro7dE4NZdB0X58KwGfPbJkdyN2z+Juzf0o9Bu7WzYNWUPcwQHk3L+dR//TUy7hurI2AfGdus7vJf6c9CmQnaTUbnNIElp9vaV2dJLcLuYraab3LXQBCNbboING8hpgjG9XHRUQQOiTWz1/Cgk7hY3+6PDU/c9ri3L3LEnf8BCPxZCyKzrx9t+sd+8cduxS88qJXWTqBhu7uAfPW3h/DhfY/sthfj28fT7lMvoCL9mg2tO8KDe1qlpaYKCCdPrfi0rLkhN+Ca10UpM7xl+UT48xPScmLjXfscPu44d2XTmVwmFEMa0ahc4dPm3s0b7SU/rydgHbhVt+2Evl/dgdC+7yZham9EypZrgJMVNcJAPj9C0CdIxudMntuq8OEx3RKWPbt9/ViZEZtZOHt6e9hZNL37+e/6hgs21/foBvZFUlb4qqZSwre0cWpvR6qaV7rXYZoAyoAnqjq5jK+/FYcaV3FtE0+QOAABqkpfcaT9pCwAA7yMTG7kDAACQBiN3AAB4j0ByBwAAGoLkDgAANATJHQAAaAiSOwAA0BAkdwAAoCFI7gAAQEOQ3AEAgIYguQMAAA1BcgcAABqS+/oBAAAApgtG7gAAQEOQ3AEAgIYguQMAAA1BcgcAABqC5A4AADQEyR0AAGgIkjsAANAQJHcAAKAhSO4AAEBDkNwBAICGILkDAAANQXIHAAAaguQOAAA0BMkdAABoiKHmdqLylyX/I5u9LRhjWdnZcZhSS4SF928/fePi7+vIaroyJRaJKYzBYio8w5AVBZfP5fz18h8Rm9emc6++AW0ssZbLgZvznGzMVapSY0pXUEENjbqCeqeNiCoXUppEFJqgjohKCx6+EpJyPyc4Tp6uPEJY+OBJWU3DajjBYHHsXJx5Zpj02m9Xw9k27TwcLaS/puTRw6I3JM7ktfF04mANqzb/RpzJc/V0ssSaf6IJNd/nLspaFjLtQFGzYjI7zTmWNM+bqP+bfLZrzKD/5LLDN2T8NIKPNd/H0Q5fZv86wVZ2rZF+wsgAABJtSURBVKjXOduXLdt6+okQZ1mwUY1QJME5XkMWrvt6vA9HYTlwq6E/Xt40qFlu0HoFFdXQqCuod4oienyed8MCjdoMjSJqCk3w2qZBGtbSAMgHicOjE26I5a7ACl59fu84q7y1EWP/+7i20UcYzuZ79xszf9mMfi5151dxbt1qjHaT96Wv/KDhpCu59/2woZtvi3HbkTuy1/djNaza/Btx+9idZ+NDtdz41B25I4QQ03v02lm9W0kvwrkeLlJjBPJRyvF8CUFUXkxOfzV8rKNKZyby74NLZiT8aT14xd4FI3u2tcSrC/OStqyOP7j6U5KXvGnwu2YsoxwYy8lPk6rJ3XGTCmpUQ8NXUO/kRFT6b4ioNCNvgmrWyqRgDHNua0smQpS4qqLiTU3J7bTNM+6+Sjz0n/42Wh5qa5kmzRmz9gqNiJQzIkAIIcmdFMEdVq+Zk8U7fk5JfT56WlsVpvjJp6mHzlW0Gbt1w6SgujOamWNg7Nofyh9EbTiVlFU5OIarbDnU1fKONamhEVRQ7yCiKoKAaR/uGpdwNLRuWoZ8cXjxnL33xTi3/4rdcwLr0iHBcbLGUP2lCuESt+PtkJx8ff23L2atPflC9PToj/unhM30IOR8h0KE07D4H6d0lNoWZ/JcmfI3UJMuxyri/BTBQ7Mek8bE1lzdtTY15dGUmR7KNzzJv+UVFGKw2Y0aFO42Zc/lODFhztF6cdWgUQ1NoYJ6BxFVEQRMdSx++078un+S7CwzhBBCDI5zpy5dpOdFZE2N83zHLR6XnLn+qlj81/WbQuShVogwlrVrpy5dtJ/Nm9Dh0zKi3OS0Z+a9IsP5jgMjApl3UlNuS1TYnNm+ixeXLDiw9lvBw0qp+wJMC66VlSXLGMYQmtXQBCqodxBRFUHA9AwzM6s7FVKSWmP/36c1GrlTkprq6uqGJoDjBJPFfPu38HzyqVetghf142EY1T8yKP5LQUr+7K4BSp+vuBHzPx+Yvyp95+zI3+09ff18/fwCg/qE9PSyabIL6p97p1OPS88HYoSD36BAJ43PXAorqHENjaCCegcRVREEzJhQZZd2H74mRggxXL07Wqq5F7Lk7PdzXnIbFhBtBi9dGu2i7VhqktxFF9f07bxGagHhMmFvxlc9WQghVJmVfLqU22dwmBVCCOOHR/aIX552LGdBQLCZsvsn2sf+mNQpac+ew+nZ13JO3L2Ytn8rxnb4IHbxmqXDPBp2I767f/mc/dJbYuaDEsIChyr9TepUUAs1NHgF9Q4iqiIImMFJCgUrY69ZIIQkwqInBa8qaymEWwdPjO2i1oQ7QoisKriYXiC1gNnJa6YOLgM0elrGfdiiSYFSpy/c0rND3RmfKstIyfoH93Tl3L9yBSGEKF57N+xMRtKFpcHhKpzwMF7XYfM3DpuPxOWPb13JyT559EBy7q9LPq61TlkbUj/fxQpanLQlpvGdazZXC61OQQW1VUPDVlDvIKIqgoAZHFVTdD+/qOFvzLL9wFnx38S1UXugjfOCxk4JdWzYHucH2ungEkijp2Xsug0bPUbWHXSq5FTKhUpSlJc4cWSi1HI8MymrInwwt/kWLWG2dvMLd/MLHxUXsnD43OSTqTlfhoTX3/5gWPD4fL4OnpaRW0Ht19AgFdQ7iKiKDBuwtSHh9R+aSsC0j7ANn7t8aDui5ta+NTsvV5AId+gRGcB7Fwocr5uDr37zptHom6yurqEQQgjDmyRunNs5+uNPP9D5DVWdPC1DvhCkXBZa9lm8c0FP9rullafXTN16LvlUaVTTn6bIQhVf2n/4GiMoNiaQJ7U2ZhcW6mOWfEFYLf8HZnqghRoadwX1DiKqIn0ETCcFNzWYZdvuUdEfMNHANo+zY7fdFVVe3rkta3h8v7qrGoaDPR/HChBZdu3SXVFf3/rhg+TpxdznEoQQYWvvoO4EjmZ0kdzJJ8dTroocR0ybFOQrfeHWfkrE73MzlfylBcYuubArISujxvPXeb4N15hUcWbm9Wqmp08nQ/6UUBs1NOoK6h1EVEV6CZhOSm6yWD5TZkUdmXOsSPIyKXHvxJCZHQmEEObYr3+3Tbk5QvH93QsXcJdOj+7miJfePrlz/bbrNRTCWO5h/Zs8Dk9VFWQfPfJMaiFm7hYc4W+v5akZHSR3yf3k1Fu1TqMHd28yJcfpE9nXWnAiRfB89NT6X1pQRVeP/Iqk38iAcJ5vVLQvzypi9syDl+ITJ350Z0RMuH97Prum9P7FlP/741K5x+QNcW4NgZCxD4zdPnRkb/VnxbRXQ5OsoN5pqc28PxHVQhMc3HITbNhATsBie7fRUQWNEcYbNGtqwKn4nKrqG3sTU2O3fMjHEMLdxi2fmTHpu5zy6gLBhk8EG6S3aNV58sqPm955lZScTVx6VnoJbh+7s7+/vRG9fkA28a0kwV9Um/GDA5oVldMnqi8v+fjxlEeT639pIX6UvOGr5EZrMTvNCYj25SGm15QdBxy2fvfTkQPfnv5FQiGEMa3cgoav+n7+uADpGUUZ+8Cthtp91LuNboZqytZQXuGMvoJ6p602895EVKmATVXcBCN9eYSmAXu/kjtCePux80fuH7+noLb01NZd1z5c4o8QQmY+n+363SEhfsvhP59WSuom3jHc3DFw6KdLF4/tZrDfgqn54jD9klSVFhZXSNg8e8fWZnS8p0P7CuodRFRFEDAtEJU+vHXvaakQmVk7e3X2srcwbCBNIrkDAABQjYlMMQIAAFAFJHcAAKAhSO4AAEBDkNwBAICGILkDAAANQXIHAAAaguQOAAA0BMkdAABoCJI7AADQECR3AACgIUjuAABAQ3LfCikUCvVZDgAAAGqwsLCQuRxG7gAAQEOQ3AEAgIYguQMAAA1BcgcAABqC5A4AADQEyR0AAGgIkjsAANAQJHcAAKAhSO4AAEBDkNwBAICGILkDAAANQXIHAAAaguQOAAA0BMkdAABoSO4rf1sgKi8srSKpposxJtfWjsOUWiIsfHD3+Runbj6OrKYrU2KRmMIYLKbCMwxZ8Tj3fN79V+VilrVzpx69/VwssZbLgZtZO9qYq1QlKaLSx4+KhKTczwmOo0dbHiEsfPj0dU3DajjBYHFsnZ14Zpj02m9Xw9k8V3dH6ZdzikoKHhW/IXEmz8XDkYM1rNr8G3Emz9vTUd36GJ52I6pCSBVFtK2no6WmFdMhpfuYgk5mvH3MgIyye7f1cLTEmn+iCTWTu+hSwugZh4ubFZPpPePAwVkdifq/yecHl4z69go77JvjW4bxG5ddlL1m4Izk9stO7RprK7tW1Ou8nau+3HHmqRBnWbBRjVAkwTmeUXNWrxjTlaOwHLhV9KazGwY0O58oh3x2eEnc5ltiuSuweq7M2Dna6u6eOZP3Pqlt9BGGs206hsTO+vyTUOe6Dih+uxrDdfwvycsCGnql5PGBxXFb74hx/vDEjLWhrIZVm38jbhdzK2u1etUxAkpFdJeyEVUhpAojujVrdV+tVE8nlO1jijqZrvvYxQ0DNKylARhn9956cnVfNfOVPOqO3BFCiNlx1KrpPRuNfXCuu7PUGIEsEKTdkBBE5eXUjFdD4xxVOjORL46snLf5UuuIJTvnDO/exhKvLrx6fPt/Nh6Jn0NaH9oQ+a4ZyygHxnL01aRqKsEY5lwrCwZCVK2wsuJNTemdk1vn/VWU8NvX/Wy0fC5+T0BE67XcxzTqZJr2MTVrZVJMtzFqkgGx1h59Bg6SMyJACCHJXUH6PVaP6ePF//1FcOLvUZPbqDDFTz478cf5CpfY778ZH1h3RjNz9I9ZtfHfhx8lZKZmV0Z+xFW2HKrC28as39+n7rqNfHlsxaJ9D8Q4t9+Snz7zr4sXwXG0xlD9WIZwjkl8e84mX9/4v68WrD/9UvQs+afDE0KmuxNyvkMhwnHI6k0TPKW2xZk8japkYEpFFOk7om01qpNetNy2NelkBuxjBmSc3bstU/4GatLl8FZ8Q5D+yCxo3KiYmvw9608ICiZOd1e+4Un+La+kEIPNatSg8HYTfj4bIybMOVovrhQW382bX/dPkp3NRgghxGjl5N25s/SFk6y5M57P6AWjU89+ly8WP7h5W4jc1Sonxmrd1rtzZ+0fboOBiOqIRp3MkH3MgN6XxqjDp2VEV1JPPjfvPjCU7xA+wJ9574TgjkSFzZlunTy45OMj6zedeFQpdTeHacG1srJkGe0YAmOz2RhCCFGS2mY3oYAaIKLyadbJTLWPGZApNUaNRu6URFRdXd3QBHCcYLKYb/8W/pl6uqhVj3khPAyjwgYGblyTLrjxWRc/pc9X3IGz5524sTZj98JhB9d7dPXt6uvrHxjcu7unTZNdUOX3s9IE0vOBGOHQbYC/owGe86TKcn47dl2MEGK09fJU91kMsvR84sI5UqMCwiVi0eIoZ22U0NToMKKLopyN/lFghX1M405mkn3MgEyrMWqS3EWX1w0IWCe1gHAeuzP1i+4shBCqPJd6pozbK6KvFUII44cODNq46mRK3hy/nmbK7p9wi/n+YMfj+/YdzbhwPe/UvcsnD+3YyLYPiFnw5cIh7g27Ed87tGrRIektMfP+60P8o5X+Js1IXqWvHn/dHCEkeVP87HFRZS2FcOueY2M6qzUjhxAiqx5fzngstYDp7TldCyU1FXqKqLGPvFALfUwLncxU+pgBmW5j1OhpmQ5D5o7zlzp94ZYebnVnfKrsjCC7HHdvy3l47RpCCFHW7Vyxs5nHLy7sGabCCQ/jdRkyO37IbCQuf3L7Wt6fp5MPp175fcXM2taHV/WpP/WxAhcc/G4Yr9FFJJurv1ZH1RQ/uFEsVWhLt/BPV3810kXtMzHOC4yb0NehYXvcxt9WozKaFj1F1ARGnQr6mLY6mUn0MQMy3cao0dMytj5DRsXKuoNOlWQKLlWSoqvbPx67XWo5fvb4uYqwSG7zLVrCbN2uW1i7bmEjYnovHf15asaJvGV9wupvfzDMrfl8vsFmCAl+2MzFg9viojsH1u3OrSARbh800K+hI+B43SRddfWbRqdnsrq6hkIIIQxvcmRxjnfk5GkB9Lv9p6SWIqp6SE01ovL7mPY7WfM+tqpPWP2HBu5jBmS63VsngxfyZbogV2gZvGDvfik7P+1GlF8QZJYqdQFCFecc3PHzH1dfN14bswvp28UMiYTV8n9gpm+YpcsHg6KioobNWRjnycIQVZm7++dzlfUfM+ztbHAMIfL19Zx7oobNJM9yrvwtQQgRtnb26l7h0VMLEYWQIq10shb7mG5KbmJMt3vr4lFI8mmaIF/kMGzSuEAf6Qs3twkDDn5+VslfWmDs0ot7Nmdn1rjvmuXTcI1JFWdl3axmunf11vKvubSB1XXC9EHHFqUUSwqPb/99bJ/pXgRCCHMIDfNJvJInFD/4bdkS7sKpkT4OeNndjN0JP9+soRDG6tA3rMnzslTVkwvJx55LLcTMXIdG+Om3OkZAdkTVCKnMiPaI8LPXb320RxudrMU+ppOSmyzddu8eA/3stTzU1kFylzxIPXGn1nFUxAdNpuQ4wQODW6efEqT/PWpS/S8tqOL8pN9RoxdU4NZdB0X58KwGfPbJkdyN2z+Juzf0o9Bu7WzYNWUPcwQHk3L+dR//TUy7hkDI2AfGdus7vJf6s2JqwngDPp3ol7kxr6r61r7tJ0YkDOZjCOHtRn8+/cz0H/LKqx+nJ8xKT5DeopX3+KWTm96akZRmb1+ZLb0Et4t5H5O7nIiqHlKZEd1qusldlU4mp49FttzHGjaQ08diernoqILGSKfde2s/P3sjev2AbOLbx9PvUy6jI/yaFZUTPKi3dWpamqBgQv0vLcQFqQnfpDZai+k9wy/Kh4eYnhMT99rv+GHXsSObzvwqoRDCmFbtAocu/3bWaD/pGUUZ+8Ctom0/7OWi/9E97hY3+6PDU/c9ri3L3LEnf8BCPxZCyKzrx9t+sd+8cduxS88qJXUXwRhu7uAfPW3h/Dhfuv5YRCtkR/Q9D6lSnWzSdPe6lWX3sUE+PELTPvZ+JfdmjXHwQj+EjLctYhQle3ZOKBTquSjySapKX5VUStjWdg6tzUz6no6o9NHt+8/KhMjM2snD29PewqRrYxQgpFpBnz5mQAZqixYWFjKXm0RyBwAAIJu85G4Cj/oCAABQFSR3AACgIUjuAABAQ5DcAQCAhiC5AwAADUFyBwAAGoLkDgAANATJHQAAaAiSOwAA0BAkdwAAoCFI7gAAQEOQ3AEAgIbkvjgMAACA6YKROwAA0BAkdwAAoCFI7gAAQEOQ3AEAgIYguQMAAA39P2jjv4NWPoMEAAAAAElFTkSuQmCC)"
      ],
      "metadata": {
        "id": "lcpEUKlCKk6u"
      }
    },
    {
      "cell_type": "markdown",
      "source": [
        "### **4.4 Conversão**"
      ],
      "metadata": {
        "id": "KYihxKQOKvvE"
      }
    },
    {
      "cell_type": "code",
      "source": [
        "idade = 19\n",
        "tipo_sangue = 'O-'\n",
        "filhos = 0\n",
        "telefone_fixo = None\n",
        "telefone_fixo = ''\n",
        "\n",
        "print(bool(idade))\n",
        "print(bool(tipo_sangue))\n",
        "print(bool(filhos))\n",
        "print(bool(telefone_fixo))\n",
        "print(bool(telefone_fixo))"
      ],
      "metadata": {
        "id": "NC6_yQDeKBEd"
      },
      "execution_count": null,
      "outputs": []
    },
    {
      "cell_type": "markdown",
      "source": [
        "### **4.5 Revisitando a motivação**"
      ],
      "metadata": {
        "id": "BWIyIw9kK8vA"
      }
    },
    {
      "cell_type": "code",
      "source": [
        "liberar_acesso = ((usuario == usuario_cadastro) & (senha == senha_cadastro))\n",
        "print(liberar_acesso)\n"
      ],
      "metadata": {
        "id": "Qh4w94X7K1rB"
      },
      "execution_count": null,
      "outputs": []
    },
    {
      "cell_type": "markdown",
      "source": [
        "OU:"
      ],
      "metadata": {
        "id": "2_8iqAaDLxf_"
      }
    },
    {
      "cell_type": "code",
      "source": [
        "usuario_igual = usuario == usuario_cadastro\n",
        "senha_igual = senha == senha_cadastro\n",
        "\n",
        "conceder_acesso = (usuario_igual & senha_igual)\n",
        "print(conceder_acesso)"
      ],
      "metadata": {
        "id": "xhZ7T7klLa9E"
      },
      "execution_count": null,
      "outputs": []
    },
    {
      "cell_type": "code",
      "source": [],
      "metadata": {
        "id": "8EOtFO-pL4Is"
      },
      "execution_count": null,
      "outputs": []
    },
    {
      "cell_type": "markdown",
      "source": [
        "## 5.Exercícios"
      ],
      "metadata": {
        "id": "dAdNvkSJL_bt"
      }
    },
    {
      "cell_type": "markdown",
      "source": [
        "Para os exercícios, foi criado um notebook específico, que está disponível através do link: \n",
        "\n",
        "[Exercícios: Variáveis e Tipos de Dados](https://colab.research.google.com/drive/1_fY8BMbSEwsK9AC_Z0Q4pUKMllwVwM7-?usp=sharing-)"
      ],
      "metadata": {
        "id": "LAupoSAhEmgo"
      }
    },
    {
      "cell_type": "code",
      "source": [],
      "metadata": {
        "id": "sDJUDPQ8Erz8"
      },
      "execution_count": null,
      "outputs": []
    }
  ]
}