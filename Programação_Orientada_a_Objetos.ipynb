{
  "nbformat": 4,
  "nbformat_minor": 0,
  "metadata": {
    "colab": {
      "provenance": [],
      "toc_visible": true,
      "authorship_tag": "ABX9TyMkyHYhdw4n/ppBYGsOOb9Y",
      "include_colab_link": true
    },
    "kernelspec": {
      "name": "python3",
      "display_name": "Python 3"
    },
    "language_info": {
      "name": "python"
    }
  },
  "cells": [
    {
      "cell_type": "markdown",
      "metadata": {
        "id": "view-in-github",
        "colab_type": "text"
      },
      "source": [
        "<a href=\"https://colab.research.google.com/github/r-hugoalves/Python_Analise_de_Dados/blob/Programacao_Orientada_a_Objetos/Programa%C3%A7%C3%A3o_Orientada_a_Objetos.ipynb\" target=\"_parent\"><img src=\"https://colab.research.google.com/assets/colab-badge.svg\" alt=\"Open In Colab\"/></a>"
      ]
    },
    {
      "cell_type": "markdown",
      "source": [
        "# Programação Orientada a Objetos"
      ],
      "metadata": {
        "id": "E4VOmC1l5G3I"
      }
    },
    {
      "cell_type": "markdown",
      "source": [
        "## 1.Classe"
      ],
      "metadata": {
        "id": "-Rp3EjXY5Mrl"
      }
    },
    {
      "cell_type": "markdown",
      "source": [
        "### **1.1 Definição**"
      ],
      "metadata": {
        "id": "Dm5IdghI5Mjl"
      }
    },
    {
      "cell_type": "markdown",
      "source": [
        "Uma representação de um elemento, real ou não. Uma receita para criar objetos (instâncias).\n",
        "\n",
        "\n",
        "\n",
        "```\n",
        "class NomeClasse(object):\n",
        "\n",
        " def __init__(self, params):\n",
        " self.atributo1 = ...\n",
        " self.atributo2 = ...\n",
        "\n",
        " def metodo1(self, params):\n",
        " ...\n",
        "\n",
        " def metodo2(self, params):\n",
        " ...\n",
        "```\n",
        "\n"
      ],
      "metadata": {
        "id": "QDlfbA086LxZ"
      }
    },
    {
      "cell_type": "code",
      "source": [
        "class Pessoa(object):\n",
        "\n",
        "  def __init__(self):\n",
        "    pass #indica que a função é vazia"
      ],
      "metadata": {
        "id": "QciyhSGC8a6C"
      },
      "execution_count": null,
      "outputs": []
    },
    {
      "cell_type": "markdown",
      "source": [
        "### **1.2 Atributos**"
      ],
      "metadata": {
        "id": "Z0AJaxcj5MaX"
      }
    },
    {
      "cell_type": "markdown",
      "source": [
        "Uma variável que pertence à classe e armazena um valor. Eles representam as características da classe. "
      ],
      "metadata": {
        "id": "upfz8n8X8po9"
      }
    },
    {
      "cell_type": "code",
      "source": [
        "class Pessoa(object):\n",
        "\n",
        "  def __init__(self, nome: str, idade: int, documento: str):\n",
        "    self.nome = nome\n",
        "    self.idade = idade\n",
        "    self.documento = documento"
      ],
      "metadata": {
        "id": "CuXduuFi8pSv"
      },
      "execution_count": null,
      "outputs": []
    },
    {
      "cell_type": "markdown",
      "source": [
        "### **1.3 Métodos**"
      ],
      "metadata": {
        "id": "G1b3qdN_5MQ6"
      }
    },
    {
      "cell_type": "markdown",
      "source": [
        "Representam ações da classe"
      ],
      "metadata": {
        "id": "SMYroNBe9jwS"
      }
    },
    {
      "cell_type": "code",
      "source": [
        "from time import sleep\n",
        "\n",
        "class Pessoa(object):\n",
        "\n",
        "  def __init__(self, nome: str, idade: int, documento: str = None):\n",
        "    self.nome = nome\n",
        "    self.idade = idade\n",
        "    self.documento = documento\n",
        "  \n",
        "  def dormir(self, horas: int) -> None:\n",
        "    for hora in range(1, horas+1):\n",
        "      print(f'Dormindo por {hora} horas')\n",
        "      sleep(1)\n",
        "  \n",
        "  def falar(self, texto: str) -> None:\n",
        "    print(texto)\n",
        "  \n",
        "  def __str__(self) -> str:\n",
        "    return f'{self.nome}, {self.idade} anos e documento número {self.documento}'"
      ],
      "metadata": {
        "id": "mmwb1VE89mTm"
      },
      "execution_count": null,
      "outputs": []
    },
    {
      "cell_type": "markdown",
      "source": [
        "## 2. Objetos"
      ],
      "metadata": {
        "id": "p-HKgTnu5MJK"
      }
    },
    {
      "cell_type": "markdown",
      "source": [
        "### **2.1 Definição**"
      ],
      "metadata": {
        "id": "lsmZvqFl5MAj"
      }
    },
    {
      "cell_type": "markdown",
      "source": [
        "Uma instância de uma classe. Dá vida a receita (classe)\n",
        "\n",
        "```\n",
        "class NomeClasse(object):\n",
        " ...\n",
        "\n",
        "objeto = NomeClasse()\n",
        "\n",
        "objeto.atributo\n",
        "objeto.metodo()\n",
        "```\n",
        "\n"
      ],
      "metadata": {
        "id": "9Lw_pc4_6Nl5"
      }
    },
    {
      "cell_type": "code",
      "source": [
        "hugo = Pessoa(nome='Hugo Alves', idade=21, documento='123')\n",
        "marcelo = Pessoa(nome='Marcelo Almeida', idade=23, documento='312')\n",
        "larissa = Pessoa(nome='Larissa Oliveira', idade=7)"
      ],
      "metadata": {
        "id": "kq_-FrrnBmfV"
      },
      "execution_count": null,
      "outputs": []
    },
    {
      "cell_type": "markdown",
      "source": [
        "### **2.2 Manipulação**"
      ],
      "metadata": {
        "id": "nK3FqXLw5Lcm"
      }
    },
    {
      "cell_type": "markdown",
      "source": [
        "* Atributos"
      ],
      "metadata": {
        "id": "Rqqf9x00Deyt"
      }
    },
    {
      "cell_type": "code",
      "source": [
        "print(hugo.nome)"
      ],
      "metadata": {
        "id": "IrkyCvi1CbEH"
      },
      "execution_count": null,
      "outputs": []
    },
    {
      "cell_type": "code",
      "source": [
        "def maior_de_idade(idade: int) -> bool:\n",
        "  return idade >=18\n",
        "\n",
        "if maior_de_idade(idade=larissa.idade):\n",
        "  print(f'{larissa.nome} é maior de idade')\n",
        "else:\n",
        "  print(f'{larissa.nome} não é maior de idade')"
      ],
      "metadata": {
        "id": "Ffux8aUnCdx4"
      },
      "execution_count": null,
      "outputs": []
    },
    {
      "cell_type": "code",
      "source": [
        "score_credito = { '123': 750, '456': 812, '789': 327}\n",
        "\n",
        "score = score_credito[hugo.documento]\n",
        "print(score)"
      ],
      "metadata": {
        "id": "x9Mb-2iiDFzq"
      },
      "execution_count": null,
      "outputs": []
    },
    {
      "cell_type": "markdown",
      "source": [
        "* Métodos"
      ],
      "metadata": {
        "id": "q6yO4TaCDgrD"
      }
    },
    {
      "cell_type": "code",
      "source": [
        "hugo.dormir(horas=8)\n",
        "hugo.falar(texto='Olá, meus caros')\n",
        "print(hugo)"
      ],
      "metadata": {
        "colab": {
          "base_uri": "https://localhost:8080/"
        },
        "id": "_G_-Dz-WDkrm",
        "outputId": "0c686941-dbfe-4a96-fa44-226a6d0df504"
      },
      "execution_count": null,
      "outputs": [
        {
          "output_type": "stream",
          "name": "stdout",
          "text": [
            "Dormindo por 1 horas\n",
            "Dormindo por 2 horas\n",
            "Dormindo por 3 horas\n",
            "Dormindo por 4 horas\n",
            "Dormindo por 5 horas\n",
            "Dormindo por 6 horas\n",
            "Dormindo por 7 horas\n",
            "Dormindo por 8 horas\n",
            "Olá, meus caros\n",
            "Hugo Alves, 21 anos e documento número 123\n"
          ]
        }
      ]
    },
    {
      "cell_type": "markdown",
      "source": [
        "### **2.3 Exemplos**"
      ],
      "metadata": {
        "id": "Pny0B69E5LTu"
      }
    },
    {
      "cell_type": "code",
      "source": [
        "class ArquivoCSV(object):\n",
        "\n",
        "  def __init__(self, arquivo: str):\n",
        "    self.arquivo = arquivo\n",
        "    self.conteudo = self._extrair_conteudo()\n",
        "    self.colunas = self._extrair_nome_colunas()\n",
        "\n",
        "  def _extrair_conteudo(self):\n",
        "    conteudo = None\n",
        "    with open(file=self.arquivo, mode='r', encoding='utf8') as arquivo:\n",
        "      conteudo = arquivo.readlines()\n",
        "    return conteudo\n",
        "  \n",
        "  def _extrair_nome_colunas(self):\n",
        "    return self.conteudo[0].strip().split(sep=',')\n",
        "  \n",
        "  def extrair_coluna(self, indice_coluna: str):\n",
        "    coluna = []\n",
        "    for linha in self.conteudo:\n",
        "      conteudo_linha = linha.strip().split(sep=',')\n",
        "      coluna.append(conteudo_linha[indice_coluna])\n",
        "    coluna.pop(0)\n",
        "    return coluna"
      ],
      "metadata": {
        "id": "GXKqaobzFFXy"
      },
      "execution_count": null,
      "outputs": []
    },
    {
      "cell_type": "code",
      "source": [
        "%%writefile banco.csv\n",
        "age,job,marital,education,default,balance,housing,loan\n",
        "30,unemployed,married,primary,no,1787,no,no\n",
        "33,services,married,secondary,no,4789,yes,yes\n",
        "35,management,single,tertiary,no,1350,yes,no\n",
        "30,management,married,tertiary,no,1476,yes,yes\n",
        "59,blue-collar,married,secondary,no,0,yes,no\n",
        "35,management,single,tertiary,no,747,no,no\n",
        "36,self-employed,married,tertiary,no,307,yes,no\n",
        "39,technician,married,secondary,no,147,yes,no\n",
        "41,entrepreneur,married,tertiary,no,221,yes,no\n",
        "43,services,married,primary,no,-88,yes,yes"
      ],
      "metadata": {
        "id": "Fm2w2EeDGbCF"
      },
      "execution_count": null,
      "outputs": []
    },
    {
      "cell_type": "code",
      "source": [
        "arquivo_banco = ArquivoCSV(arquivo='./banco.csv')\n",
        "\n",
        "print(arquivo_banco.colunas)\n",
        "\n",
        "print(arquivo_banco.extrair_coluna(indice_coluna=1))\n",
        "print(arquivo_banco.extrair_coluna(indice_coluna=3))\n"
      ],
      "metadata": {
        "id": "OT5aAydSH39i"
      },
      "execution_count": null,
      "outputs": []
    },
    {
      "cell_type": "markdown",
      "source": [
        "## 3.Heranças"
      ],
      "metadata": {
        "id": "JOjbfaLb5LKx"
      }
    },
    {
      "cell_type": "markdown",
      "source": [
        "### **3.1 Definição**"
      ],
      "metadata": {
        "id": "MAdDjiv_5K3l"
      }
    },
    {
      "cell_type": "markdown",
      "source": [
        "Uma especialização da classe.\n",
        "\n",
        "```\n",
        "class NomeClasse(object):\n",
        "\n",
        " def __init__(self, params):\n",
        " ...\n",
        "\n",
        "class NomeClasseEspecializada(NomeClasse):\n",
        "\n",
        " def __init__(self, params):\n",
        "  super().__init__(self, params)\n",
        "  self.atributo3 = ...\n",
        "  self.atributo4 = ...\n",
        "\n",
        " def metodo3(self, params):\n",
        " ...\n",
        " \n",
        " def metodo4(self, params):\n",
        " ...\n",
        "```\n",
        "\n"
      ],
      "metadata": {
        "id": "swWboxc56RkV"
      }
    },
    {
      "cell_type": "code",
      "source": [
        "# Repetindo a definição da Classe Pessoa\n",
        "\n",
        "from time import sleep\n",
        "\n",
        "class Pessoa(object):\n",
        "\n",
        "  def __init__(self, nome: str, idade: int, documento: str = None):\n",
        "    self.nome = nome\n",
        "    self.idade = idade\n",
        "    self.documento = documento\n",
        "  \n",
        "  def dormir(self, horas: int) -> None:\n",
        "    for hora in range(1, horas+1):\n",
        "      print(f'Dormindo por {hora} horas')\n",
        "      sleep(1)\n",
        "  \n",
        "  def falar(self, texto: str) -> None:\n",
        "    print(texto)\n",
        "  \n",
        "  def __str__(self) -> str:\n",
        "    return f'{self.nome}, {self.idade} anos e documento número {self.documento}'"
      ],
      "metadata": {
        "id": "ogiG2FAUPizd"
      },
      "execution_count": null,
      "outputs": []
    },
    {
      "cell_type": "code",
      "source": [
        "# Criando a Classe Universidade\n",
        "\n",
        "class Universidade(object):\n",
        "  def __init__(self, nome: str):\n",
        "    self.nome = nome"
      ],
      "metadata": {
        "id": "TIKii7w7PuWL"
      },
      "execution_count": null,
      "outputs": []
    },
    {
      "cell_type": "code",
      "source": [
        "# Especializando a Classe Pessoa na Classe Estudante\n",
        "\n",
        "class Estudante(Pessoa):\n",
        "  def __init__(self, nome: str, idade: int, documento: str, universidade: Universidade):\n",
        "    super().__init__(nome=nome, idade=idade, documento=documento)\n",
        "    self.universidade = universidade"
      ],
      "metadata": {
        "id": "GwaxdHhzQFIn"
      },
      "execution_count": null,
      "outputs": []
    },
    {
      "cell_type": "markdown",
      "source": [
        "### **3.1 Manipulação**"
      ],
      "metadata": {
        "id": "H84CqNwT5Ko2"
      }
    },
    {
      "cell_type": "code",
      "source": [
        "ufabc = Universidade(nome='Universidade Federal do ABC (UFABC)')\n",
        "hugo = Estudante(nome='Hugo Alves', idade = 21, documento='123', universidade=ufabc)\n",
        "\n",
        "print(hugo)\n",
        "print(hugo.universidade.nome)"
      ],
      "metadata": {
        "colab": {
          "base_uri": "https://localhost:8080/"
        },
        "id": "EF3aSG86Q5YZ",
        "outputId": "49886013-4582-44d8-a3f3-1da639957448"
      },
      "execution_count": null,
      "outputs": [
        {
          "output_type": "stream",
          "name": "stdout",
          "text": [
            "Hugo Alves, 21 anos e documento número 123\n",
            "Universidade Federal do ABC (UFABC)\n"
          ]
        }
      ]
    },
    {
      "cell_type": "markdown",
      "source": [
        "## 4.Exercícios"
      ],
      "metadata": {
        "id": "fu5DSiFaTFE1"
      }
    },
    {
      "cell_type": "markdown",
      "source": [
        "Para os exercícios foi criado um notebook específico, que pode ser acessado clicando [aqui](https://colab.research.google.com/drive/1w_3xHiRmHSlBbjW0zVYlC7InBGPGR61c?usp=sharing)"
      ],
      "metadata": {
        "id": "alTAqsmfTPZD"
      }
    }
  ]
}