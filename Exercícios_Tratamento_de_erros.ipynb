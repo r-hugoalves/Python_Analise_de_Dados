{
  "nbformat": 4,
  "nbformat_minor": 0,
  "metadata": {
    "colab": {
      "provenance": [],
      "toc_visible": true,
      "authorship_tag": "ABX9TyPtVacoFBs7qD/DwKKcpDDk",
      "include_colab_link": true
    },
    "kernelspec": {
      "name": "python3",
      "display_name": "Python 3"
    },
    "language_info": {
      "name": "python"
    }
  },
  "cells": [
    {
      "cell_type": "markdown",
      "metadata": {
        "id": "view-in-github",
        "colab_type": "text"
      },
      "source": [
        "<a href=\"https://colab.research.google.com/github/r-hugoalves/Python_Analise_de_Dados/blob/Tratamento_de_Erros/Exerc%C3%ADcios_Tratamento_de_erros.ipynb\" target=\"_parent\"><img src=\"https://colab.research.google.com/assets/colab-badge.svg\" alt=\"Open In Colab\"/></a>"
      ]
    },
    {
      "cell_type": "markdown",
      "source": [
        "# Exercícios: Tratamento de erros"
      ],
      "metadata": {
        "id": "1w_eg0hjX9hk"
      }
    },
    {
      "cell_type": "markdown",
      "source": [
        "Notebook específico para a resolução de exercícios. Todo o material teórico se encontra [aqui](https://colab.research.google.com/drive/1bJeP6fB3QL8elGjIZUsYjXgzL5qz9XZH?usp=sharing)"
      ],
      "metadata": {
        "id": "3V6zVXgiYBWN"
      }
    },
    {
      "cell_type": "markdown",
      "source": [
        "## Exercício 1\n",
        "\n",
        "Identifique o erro de sintaxe nos trechos de código abaixo e corrija-os para que o trecho de código funcione"
      ],
      "metadata": {
        "id": "WR9ILpFtYTT-"
      }
    },
    {
      "cell_type": "markdown",
      "source": [
        "### 1.1"
      ],
      "metadata": {
        "id": "3KtcXtOdYTN-"
      }
    },
    {
      "cell_type": "code",
      "source": [
        "credito = {'123': 750, '456': 812, '789': 980}\n",
        "\n",
        "for chave, valor in credito.items():\n",
        "  print(f'Para o documento {chave}, o valor do escore de crédito é {valor}.\")"
      ],
      "metadata": {
        "id": "3BjRZ4hLc2NQ"
      },
      "execution_count": 14,
      "outputs": []
    },
    {
      "cell_type": "markdown",
      "source": [
        "O problema aqui é que as aspas não estão de acordo, ou devem ser duplas ou simples. \n",
        "\n",
        "Por isso, a linha de código correto seria:\n",
        "\n",
        "`print(f'Para o documento {chave}, o valor do escore de crédito é {valor}.')`\n",
        "\n",
        "Ou: \n",
        "\n",
        "`print(f\"Para o documento {chave}, o valor do escore de crédito é {valor}.\")`"
      ],
      "metadata": {
        "id": "SRBl_LDwdRQ2"
      }
    },
    {
      "cell_type": "markdown",
      "source": [
        "### 1.2"
      ],
      "metadata": {
        "id": "F3KZdDWwYTHC"
      }
    },
    {
      "cell_type": "code",
      "source": [
        "def pi() --> float:\n",
        "  return 3.14159265359\n",
        "\n",
        "pi = pi()\n",
        "print(pi)"
      ],
      "metadata": {
        "id": "WBBLM4oMc3uI"
      },
      "execution_count": 14,
      "outputs": []
    },
    {
      "cell_type": "markdown",
      "source": [
        "O erro ocorre na definição do retorno da função, o código correto seria:\n",
        "\n",
        "`def pi() -> float:`"
      ],
      "metadata": {
        "id": "2XETNtSSdfQL"
      }
    },
    {
      "cell_type": "markdown",
      "source": [
        "### 1.3"
      ],
      "metadata": {
        "id": "ZbahhVboYTAF"
      }
    },
    {
      "cell_type": "code",
      "source": [
        "emails = ['andre.perez@gmail.com', 'andre.perez@live.com', 'andre.perez@yahoo.com']\n",
        "provedor_da_google = lambda email: 'gmail in email\n",
        "\n",
        "emails_google = filter(provedor_da_google, emails)\n",
        "print(list(emails_google))"
      ],
      "metadata": {
        "id": "aRIVH2sDc5QN"
      },
      "execution_count": 14,
      "outputs": []
    },
    {
      "cell_type": "markdown",
      "source": [
        "Aqui o erro é causado por não fechar as aspas na função lambda. \n",
        "\n",
        "O código correto seria: \n",
        "\n",
        "`provedor_da_google = lambda email: 'gmail' in email`\n",
        "\n",
        "E só por uma questão de boa prática, seria bacana colocar em parenteses também: \n",
        "\n",
        "`provedor_da_google = (lambda email: 'gmail' in email)`"
      ],
      "metadata": {
        "id": "gl3D6eG5d0dd"
      }
    },
    {
      "cell_type": "markdown",
      "source": [
        "### 1.4"
      ],
      "metadata": {
        "id": "igomYR8vYSfA"
      }
    },
    {
      "cell_type": "code",
      "source": [
        "class Pessoa(object):\n",
        "\n",
        "  def __init__(self nome: str, idade: int, documento: str):\n",
        "    self.nome = nome\n",
        "    self.idade = idade\n",
        "    self.documento = documento\n",
        "\n",
        "andre = Pessoa(nome=\"Andre\", idade=30, document=\"123\")"
      ],
      "metadata": {
        "id": "OFXW3FL8c6lQ"
      },
      "execution_count": 14,
      "outputs": []
    },
    {
      "cell_type": "markdown",
      "source": [
        "Nesse trecho de código, tem dois erros: \n",
        "1. Na definição do método __init__ não foi separado com vírgula o atributo self, e o atributo nome. O código correto seria: \n",
        "\n",
        "`def __init__(self nome: str, idade: int, documento: str):`\n",
        "\n",
        "2. Na chamada da classe Pessoa, um dos parâmetros foi digitado incorretamente. Foi digitado 'document' ao invés de 'documento' como definido no método. O código correto seria: \n",
        "\n",
        "`andre = Pessoa(nome=\"Andre\", idade=30, documento=\"123\")`"
      ],
      "metadata": {
        "id": "D8RsbLxkfK5X"
      }
    },
    {
      "cell_type": "markdown",
      "source": [
        "## Exercício 2"
      ],
      "metadata": {
        "id": "yaD-4QsuYgZo"
      }
    },
    {
      "cell_type": "markdown",
      "source": [
        "Neste exercício vamos trabalhar com o arquivo csv com dados de crédito, definido\n",
        "abaixo."
      ],
      "metadata": {
        "id": "xHhYWu5MYi2p"
      }
    },
    {
      "cell_type": "code",
      "source": [
        "%%writefile credito.csv\n",
        "id_vendedor,valor_emprestimos,quantidade_emprestimos,data\n",
        "104271,448.0,1,20161208\n",
        "21476,826.7,3,20161208\n",
        "87440,313.6,3,20161208\n",
        "15980,808.0,6,20161208\n",
        "215906,2212.0,5,20161208\n",
        "33696,2771.3,2,20161208\n",
        "33893,2240.0,3,20161208\n",
        "214946,\"4151.0\",18,20161208\n",
        "123974,2021.95,2,20161208\n",
        "225870,4039.0,2,20161208"
      ],
      "metadata": {
        "colab": {
          "base_uri": "https://localhost:8080/",
          "height": 0
        },
        "id": "4_j3B8mPYhWp",
        "outputId": "cbb44989-30d3-4ed6-c6fe-2bc0ad164053"
      },
      "execution_count": 1,
      "outputs": [
        {
          "output_type": "stream",
          "name": "stdout",
          "text": [
            "Writing credito.csv\n"
          ]
        }
      ]
    },
    {
      "cell_type": "markdown",
      "source": [
        "O código abaixo deve calcular o total emprestado por cada vendedor mas está\n",
        "\"estourando\" a exceção ValueError devido a um erro no conjunto de dados. Utilize a estrutura try-catch para garantir que o código seja executado com sucesso."
      ],
      "metadata": {
        "id": "PqSHB2GNYqZc"
      }
    },
    {
      "cell_type": "code",
      "source": [
        "from os import replace\n",
        "from re import split\n",
        "def valor_total_emprestimo(valor: float, quantidade: int) -> float:\n",
        "  return valor * quantidade\n",
        "\n",
        "emprestimos = []\n",
        "\n",
        "with open(file='./credito.csv', mode='r', encoding='utf8') as fp:\n",
        "  fp.readline() # cabeçalho\n",
        "  linha = fp.readline()\n",
        "  while linha:\n",
        "    linha_emprestimo = {}\n",
        "    linha_elementos = linha.strip().split(sep=',')\n",
        "    linha_emprestimo['id_vendedor'] = linha_elementos[0]\n",
        "\n",
        "    try:\n",
        "      linha_emprestimo['valor_emprestimos'] = float(linha_elementos[1])\n",
        "    except ValueError as exc:\n",
        "       # Tem que fazer a remoção das aspas duplas\n",
        "        linha_elementos[1] = linha_elementos[1].replace('\"', ' ')\n",
        "        float(linha_elementos[1])\n",
        "    finally:\n",
        "      linha_emprestimo['valor_emprestimos'] = float(linha_elementos[1])\n",
        "\n",
        "    linha_emprestimo['quantidade_emprestimos'] = int(linha_elementos[2])\n",
        "    linha_emprestimo['data'] = linha_elementos[3]\n",
        "    emprestimos.append(linha_emprestimo)\n",
        "\n",
        "    linha = fp.readline()\n",
        "\n",
        "emprestimos_total = []\n",
        "\n",
        "for emprestimo in emprestimos:\n",
        "  valor_total = valor_total_emprestimo(valor=emprestimo['valor_emprestimos'], quantidade=emprestimo['quantidade_emprestimos'])\n",
        "  emprestimos_total.append({emprestimo['id_vendedor']: valor_total})\n",
        "\n",
        "for emprestimo_total in emprestimos_total:\n",
        "  print(emprestimo_total)"
      ],
      "metadata": {
        "colab": {
          "base_uri": "https://localhost:8080/",
          "height": 0
        },
        "id": "5J8SPiOXm0DM",
        "outputId": "b1ea2cdc-945e-482b-dd1a-53933f3b9d83"
      },
      "execution_count": 53,
      "outputs": [
        {
          "output_type": "stream",
          "name": "stdout",
          "text": [
            "{'104271': 448.0}\n",
            "{'21476': 2480.1000000000004}\n",
            "{'87440': 940.8000000000001}\n",
            "{'15980': 4848.0}\n",
            "{'215906': 11060.0}\n",
            "{'33696': 5542.6}\n",
            "{'33893': 6720.0}\n",
            "{'214946': 74718.0}\n",
            "{'123974': 4043.9}\n",
            "{'225870': 8078.0}\n"
          ]
        }
      ]
    }
  ]
}