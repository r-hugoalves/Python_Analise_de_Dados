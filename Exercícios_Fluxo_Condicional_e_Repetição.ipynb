{
  "nbformat": 4,
  "nbformat_minor": 0,
  "metadata": {
    "colab": {
      "provenance": [],
      "toc_visible": true,
      "authorship_tag": "ABX9TyM33GcqpJ9rAhVF9RSC3Gnb",
      "include_colab_link": true
    },
    "kernelspec": {
      "name": "python3",
      "display_name": "Python 3"
    },
    "language_info": {
      "name": "python"
    }
  },
  "cells": [
    {
      "cell_type": "markdown",
      "metadata": {
        "id": "view-in-github",
        "colab_type": "text"
      },
      "source": [
        "<a href=\"https://colab.research.google.com/github/r-hugoalves/Python_Analise_de_Dados/blob/Fluxo_Condicional_Repeticao/Exerc%C3%ADcios_Fluxo_Condicional_e_Repeti%C3%A7%C3%A3o.ipynb\" target=\"_parent\"><img src=\"https://colab.research.google.com/assets/colab-badge.svg\" alt=\"Open In Colab\"/></a>"
      ]
    },
    {
      "cell_type": "markdown",
      "source": [
        "# Exercícios: Fluxo Condicional e Repetição"
      ],
      "metadata": {
        "id": "B962iGbqoWLM"
      }
    },
    {
      "cell_type": "markdown",
      "source": [
        "Notebook exclusivo para a resolução dos exercícios. Todo o material está disponível [nesse notebook](https://colab.research.google.com/drive/1x8dywjDapAwcZG9PT-KCl5SahWTvk6V3?usp=sharing)"
      ],
      "metadata": {
        "id": "-MgCqJSUoi35"
      }
    },
    {
      "cell_type": "markdown",
      "source": [
        "## **Introdução**\n",
        "\n",
        "Na lista `propaganda_online` abaixo, estão presente os dados de usuários que acessaram um determinado site e se o mesmo clicou em uma propaganda.\n"
      ],
      "metadata": {
        "id": "vOykdIs5ontF"
      }
    },
    {
      "cell_type": "code",
      "source": [
        "propaganda_online = [\n",
        " {'tempo_gasto_site': 68.95, 'idade': 35, 'renda_area': 61833.90,\n",
        " 'tempo_gasto_internet': 256.09, 'cidade': 'Wrightburgh',\n",
        " 'pais': 'Tunisia', 'clicou_no_ad': 0\n",
        " },\n",
        " {'tempo_gasto_site': 80.23, 'idade': 31, 'renda_area': 68441.85,\n",
        " 'tempo_gasto_internet': 193.77, 'cidade': 'West Jodi',\n",
        " 'pais': 'Nauru', 'clicou_no_ad': 0\n",
        " },\n",
        " {'tempo_gasto_site': 69.47, 'idade': 26, 'renda_area': 59785.94,\n",
        " 'tempo_gasto_internet': 236.50, 'cidade': 'Davidton',\n",
        " 'pais': 'San Marino', 'clicou_no_ad': 0\n",
        " },\n",
        " {'tempo_gasto_site': 68.37, 'idade': 35, 'renda_area': 73889.99,\n",
        " 'tempo_gasto_internet': 225.58, 'cidade': 'South Manuel',\n",
        " 'pais': 'Iceland', 'clicou_no_ad': 0\n",
        " },\n",
        " {'tempo_gasto_site': 88.91, 'idade': 33, 'renda_area': 53852.85,\n",
        "  'tempo_gasto_internet': 208.36, 'cidade': 'Brandonstad',\n",
        " 'pais': 'Myanmar', 'clicou_no_ad': 0\n",
        " },\n",
        " {'tempo_gasto_site': None, 'idade': 48, 'renda_area': 24593.33,\n",
        " 'tempo_gasto_internet': 131.76, 'cidade': 'Port Jefferybury',\n",
        " 'pais': 'Australia', 'clicou_no_ad': 1\n",
        " },\n",
        " {'tempo_gasto_site': 74.53, 'idade': 30, 'renda_area': 68862.00,\n",
        " 'tempo_gasto_internet': 221.51, 'cidade': 'West Colin',\n",
        " 'pais': 'Grenada'},\n",
        " {'tempo_gasto_site': 69.88, 'idade': 20, 'renda_area': 55642.32,\n",
        " 'tempo_gasto_internet': 183.82, 'cidade': 'Ramirezton',\n",
        " 'pais': 'Ghana', 'clicou_no_ad': 0\n",
        " }\n",
        "]"
      ],
      "metadata": {
        "id": "Qal-BGnotIht"
      },
      "execution_count": 19,
      "outputs": []
    },
    {
      "cell_type": "markdown",
      "source": [
        "## **Exercício 1)**"
      ],
      "metadata": {
        "id": "eLsWT_7LowNv"
      }
    },
    {
      "cell_type": "markdown",
      "source": [
        "Crie uma lista chamada `paises` com o país dos usuários com mais de 30 anos.\n",
        "\n"
      ],
      "metadata": {
        "id": "IDxNJ5RAstl-"
      }
    },
    {
      "cell_type": "code",
      "source": [
        "paises = []\n",
        "\n",
        "for dado_de_usuario in propaganda_online:\n",
        "  if dado_de_usuario['idade'] > 30:\n",
        "    paises.append(dado_de_usuario['pais'])\n",
        "print(paises)"
      ],
      "metadata": {
        "id": "1lUHh-bmsun9",
        "colab": {
          "base_uri": "https://localhost:8080/",
          "height": 0
        },
        "outputId": "faa32bba-25f2-46a2-9413-1668bb91c6c6"
      },
      "execution_count": 7,
      "outputs": [
        {
          "output_type": "stream",
          "name": "stdout",
          "text": [
            "['Tunisia', 'Nauru', 'Iceland', 'Myanmar', 'Australia']\n"
          ]
        }
      ]
    },
    {
      "cell_type": "markdown",
      "source": [
        "## **Exercício 2)**"
      ],
      "metadata": {
        "id": "SYRVtTz5oxmS"
      }
    },
    {
      "cell_type": "markdown",
      "source": [
        "Crie uma lista chamada `leads` com a renda dos usuários que clicaram na propaganda."
      ],
      "metadata": {
        "id": "7jf2rx7DtxhC"
      }
    },
    {
      "cell_type": "code",
      "source": [
        "# Nesse caso temos que tratar um possível erro, pois no usuário de 30 anos, de West Colin, Grenada... Não temos a coluna 'clicou_no_ad'\n",
        "leads = []\n",
        "\n",
        "for dado_de_usuario in propaganda_online:\n",
        "  try:\n",
        "    if dado_de_usuario['clicou_no_ad'] == 1:\n",
        "        leads.append(dado_de_usuario['renda_area'])\n",
        "  except KeyError:\n",
        "    print(f'Usuário {dado_de_usuario} não clicou na propaganda')\n",
        "  except Exception as exc:\n",
        "    print(exc)\n",
        "    print('Erro genérico')\n",
        "\n",
        "print(leads)"
      ],
      "metadata": {
        "colab": {
          "base_uri": "https://localhost:8080/",
          "height": 0
        },
        "id": "ZUznApipJ4DT",
        "outputId": "1370e771-7f48-4ad9-9c30-a28e69dceec0"
      },
      "execution_count": 21,
      "outputs": [
        {
          "output_type": "stream",
          "name": "stdout",
          "text": [
            "Usuário {'tempo_gasto_site': 74.53, 'idade': 30, 'renda_area': 68862.0, 'tempo_gasto_internet': 221.51, 'cidade': 'West Colin', 'pais': 'Grenada'} não clicou na propaganda\n",
            "[24593.33]\n"
          ]
        }
      ]
    },
    {
      "cell_type": "markdown",
      "source": [
        "## **Exercício 3)**"
      ],
      "metadata": {
        "id": "ug5MWstToz98"
      }
    },
    {
      "cell_type": "markdown",
      "source": [
        "Crie uma lista chamada `cidades` com a cidade dos usuários que passaram mais de 70 segundos no site."
      ],
      "metadata": {
        "id": "IjKydtpUt0dH"
      }
    },
    {
      "cell_type": "code",
      "source": [
        "# Aqui temos um problema parecido com o Exercício 2, pois o usuário: 'tempo_gasto_site': None, 'idade': 48, 'renda_area': 24593.33,'tempo_gasto_internet': 131.76, 'cidade': 'Port Jefferybury', 'pais': 'Australia', 'clicou_no_ad': 1\n",
        "#   não teve tempo gasto no site\n",
        "\n",
        "cidades = []\n",
        "\n",
        "for dado_de_usuario in propaganda_online:\n",
        "  try:\n",
        "    if dado_de_usuario['tempo_gasto_site'] > 70:\n",
        "      cidades.append(dado_de_usuario['cidade'])\n",
        "  except TypeError:\n",
        "    print(f'Usuário não entrou no site {dado_de_usuario}')\n",
        "\n",
        "print(cidades)"
      ],
      "metadata": {
        "colab": {
          "base_uri": "https://localhost:8080/",
          "height": 0
        },
        "id": "xGVaCH3TOPzl",
        "outputId": "6c088bd0-e2f4-4e7e-e387-3e602dbe03a7"
      },
      "execution_count": 24,
      "outputs": [
        {
          "output_type": "stream",
          "name": "stdout",
          "text": [
            "Usuário não entrou no site {'tempo_gasto_site': None, 'idade': 48, 'renda_area': 24593.33, 'tempo_gasto_internet': 131.76, 'cidade': 'Port Jefferybury', 'pais': 'Australia', 'clicou_no_ad': 1}\n",
            "['West Jodi', 'Brandonstad', 'West Colin']\n"
          ]
        }
      ]
    }
  ]
}