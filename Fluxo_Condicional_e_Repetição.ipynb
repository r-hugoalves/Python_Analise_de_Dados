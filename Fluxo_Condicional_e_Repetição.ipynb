{
  "nbformat": 4,
  "nbformat_minor": 0,
  "metadata": {
    "colab": {
      "provenance": [],
      "toc_visible": true,
      "authorship_tag": "ABX9TyMEbyytk9XbO05CIm2mL38i",
      "include_colab_link": true
    },
    "kernelspec": {
      "name": "python3",
      "display_name": "Python 3"
    },
    "language_info": {
      "name": "python"
    }
  },
  "cells": [
    {
      "cell_type": "markdown",
      "metadata": {
        "id": "view-in-github",
        "colab_type": "text"
      },
      "source": [
        "<a href=\"https://colab.research.google.com/github/r-hugoalves/Python_Analise_de_Dados/blob/Fluxo_Condicional_Repeticao/Fluxo_Condicional_e_Repeti%C3%A7%C3%A3o.ipynb\" target=\"_parent\"><img src=\"https://colab.research.google.com/assets/colab-badge.svg\" alt=\"Open In Colab\"/></a>"
      ]
    },
    {
      "cell_type": "markdown",
      "source": [
        "# Fluxo Condicional e Repetição"
      ],
      "metadata": {
        "id": "V1P4LC6q8lqM"
      }
    },
    {
      "cell_type": "markdown",
      "source": [
        "## Tópicos"
      ],
      "metadata": {
        "id": "cqbq44c48ljf"
      }
    },
    {
      "cell_type": "markdown",
      "source": [
        "1. Estrutura condicional if / else / elif\n",
        "2. Estrutura condicional try / except / finally\n",
        "3. Estrutura condicional for / in\n",
        "4. Exercicios"
      ],
      "metadata": {
        "id": "-TrzOLCj8r6y"
      }
    },
    {
      "cell_type": "markdown",
      "source": [
        "## **1.Estrutura condicional if / else / elif**"
      ],
      "metadata": {
        "id": "la8sb-To85VX"
      }
    },
    {
      "cell_type": "markdown",
      "source": [
        "Estrutura de alteração do fluxo lógico do código. Ou seja, ela avalia o valor booleano ou uma comparação lógica. \n",
        "\n",
        "**Obs.: a identação do código é muito importante!**\n",
        "\n",
        "```\n",
        "if <booleano / comparação lógica> == True: \n",
        "  <execute esse código>\n",
        "else:\n",
        "  <senão, execute esse código>\n",
        "```"
      ],
      "metadata": {
        "id": "IEnL8p9CADXk"
      }
    },
    {
      "cell_type": "code",
      "source": [
        "if False:\n",
        "  print('Verdadeiro')\n",
        "else: \n",
        "  print('Falso')"
      ],
      "metadata": {
        "id": "oBmuFCa1ACd-"
      },
      "execution_count": null,
      "outputs": []
    },
    {
      "cell_type": "code",
      "source": [
        "# Código de segurança de um cartão de crédito\n",
        "\n",
        "codigo_de_seguranca = '215'\n",
        "codigo_de_seguranca_cadastro = '010'\n",
        "\n",
        "# Podemos trabalhar de duas formas:\n",
        "\n",
        "pode_efetuar_pagamento = (codigo_de_seguranca == codigo_de_seguranca_cadastro)\n",
        "\n",
        "if pode_efetuar_pagamento:\n",
        "  print('Pagamento efetuado')\n",
        "else:\n",
        "  print('ERRO: Código de segurança inválido')\n",
        "\n",
        "# OU:\n",
        "\n",
        "if codigo_de_seguranca == codigo_de_seguranca_cadastro:\n",
        "   print('Pagamento efetuado')\n",
        "else:\n",
        "  print('ERRO: Código de segurança inválido')"
      ],
      "metadata": {
        "id": "Bxdhbl2TBxJ5"
      },
      "execution_count": null,
      "outputs": []
    },
    {
      "cell_type": "code",
      "source": [
        "# Código e senha de segurança de um cartão de crédito\n",
        "\n",
        "codigo_de_seguranca = '852'\n",
        "codigo_de_seguranca_cadastro = '852'\n",
        "\n",
        "senha = '7783'\n",
        "senha_cadastro = '7783'\n",
        "\n",
        "# Podemos trabalhar de duas formas: \n",
        "\n",
        "if ( codigo_de_seguranca == codigo_de_seguranca_cadastro) & (senha == senha_cadastro):\n",
        " print(\"Pagamento efetuado\")\n",
        "else:\n",
        " print(\"Erro: Pagamento não efetuado\")\n",
        "\n",
        "# OU: \n",
        "\n",
        "if ( codigo_de_seguranca != codigo_de_seguranca_cadastro) | (senha != senha_cadastro):\n",
        " print(\"Erro: Pagamento não efetuado\")\n",
        "else:\n",
        " print(\"Pagamento efetuado\")"
      ],
      "metadata": {
        "id": "WpDnHsKzJRBA"
      },
      "execution_count": null,
      "outputs": []
    },
    {
      "cell_type": "code",
      "source": [
        "# Podemos avaliar também, múltiplas condições com elif\n",
        "\n",
        "codigo_de_seguranca = '8512'\n",
        "codigo_de_seguranca_cadastro = '852'\n",
        "\n",
        "senha = '783'\n",
        "senha_cadastro = '7783'\n",
        "\n",
        "if ( codigo_de_seguranca == codigo_de_seguranca_cadastro) & (senha == senha_cadastro):\n",
        " print(\"Pagamento efetuado\")\n",
        "elif ( codigo_de_seguranca != codigo_de_seguranca_cadastro) & (senha == senha_cadastro):\n",
        " print(\"Erro: Código de segurança inválido\")\n",
        "elif ( codigo_de_seguranca == codigo_de_seguranca_cadastro) & (senha != senha_cadastro):\n",
        " print(\"Erro: Senha inválida inválida\")\n",
        "else:\n",
        " print(\"Erro: Código de segurança e senha inválidos\")"
      ],
      "metadata": {
        "id": "wSzp4U8ym5Yf"
      },
      "execution_count": null,
      "outputs": []
    },
    {
      "cell_type": "markdown",
      "source": [
        "## **2.Estrutura condicional try / except / finally**"
      ],
      "metadata": {
        "id": "lmQ_I8-R8-7C"
      }
    },
    {
      "cell_type": "markdown",
      "source": [
        "Exceções são erros que podem acontecer durante a execução do nosso código. "
      ],
      "metadata": {
        "id": "yQSJf0qvKD6M"
      }
    },
    {
      "cell_type": "markdown",
      "source": [
        "###**2.1 Exemplos de erros**"
      ],
      "metadata": {
        "id": "LpsEfr1jKOpb"
      }
    },
    {
      "cell_type": "code",
      "source": [
        "# Erro de operações numéricas impossíveis\n",
        "\n",
        "preco = 132.85\n",
        "pessoas = 0\n",
        "\n",
        "valor_por_pessoa = preco/pessoas\n",
        "  #ZeroDivisionError: float division by zero"
      ],
      "metadata": {
        "id": "4GEQUMFjKJ7M"
      },
      "execution_count": null,
      "outputs": []
    },
    {
      "cell_type": "code",
      "source": [
        "# Erro por combinação de tipos diferentes\n",
        "\n",
        "nome = 'Hugo Alves'\n",
        "idade = 19\n",
        "\n",
        "apresentacao = 'Oi, meu nome é' + nome + 'e eu tenho' + idade + 'anos'\n",
        "  #TypeError: can only concatenate str (not \"int\") to str\n",
        "  # O mesmo serve para qualquer outro tipo diferente de string"
      ],
      "metadata": {
        "id": "WKMDbfaRKbeU"
      },
      "execution_count": null,
      "outputs": []
    },
    {
      "cell_type": "code",
      "source": [
        "# Erro de indexação\n",
        "\n",
        "anos = [2019, 2020, 2021, 2022]\n",
        "ano_atual = anos[4]\n",
        "  # IndexError: list index out of range"
      ],
      "metadata": {
        "id": "noHs-O1lLTWE"
      },
      "execution_count": null,
      "outputs": []
    },
    {
      "cell_type": "code",
      "source": [
        "# Erro de indexação\n",
        "\n",
        "cursos = {\n",
        "    'python': {\n",
        "        'nome': 'Pyhton para Análise de Dados', 'duracao': 2.5\n",
        "    }, \n",
        "    'sql': {\n",
        "        'nome': 'SQL para Análise de Dados', 'duracao': 2\n",
        "    }\n",
        "}\n",
        "\n",
        "curso_atual = cursos['analista']\n",
        "  # KeyError: 'analista'"
      ],
      "metadata": {
        "id": "lZHIYxxnLpme"
      },
      "execution_count": null,
      "outputs": []
    },
    {
      "cell_type": "markdown",
      "source": [
        "### **2.2 try/except**"
      ],
      "metadata": {
        "id": "fAg0KBIkMh0b"
      }
    },
    {
      "cell_type": "code",
      "source": [
        "# Nesse exemplo, sabemos exatamente o tipo de erro que vai acontecer, por isso que já informamos o nome no except\n",
        "preco = 132.85\n",
        "pessoas = 0\n",
        "\n",
        "try:\n",
        "  valor_por_pessoa = preco/pessoas\n",
        "  print(valor_por_pessoa)\n",
        "except ZeroDivisionError:\n",
        "  print('Espera-se um número de pessoas maior que 0 (zero)')"
      ],
      "metadata": {
        "id": "PSV5CLeeMoV_"
      },
      "execution_count": null,
      "outputs": []
    },
    {
      "cell_type": "code",
      "source": [
        "# Nesse caso, não sabemos o tipo de erro que pode acontecer, por isso usamos um exemplo genérico no except\n",
        "\n",
        "anos = [2019, 2020, 2021, 2022]\n",
        "\n",
        "try: \n",
        "  ano_atual = anos[3]\n",
        "  print(ano_atual)\n",
        "except Exception:\n",
        "  print('Lista de anos é menor que o valor escolhido. Espera-se um valor entre 0 (zero) e ' + str(len(anos) - 1))"
      ],
      "metadata": {
        "id": "-xkYXv_YNkoy"
      },
      "execution_count": null,
      "outputs": []
    },
    {
      "cell_type": "code",
      "source": [
        "# Podemos explorar um pouco mais o erro do Exception\n",
        "\n",
        "anos = [2019, 2020, 2021, 2022]\n",
        "\n",
        "try: \n",
        "  ano_atual = anos[4]\n",
        "  print(ano_atual)\n",
        "except Exception as exc:\n",
        "  print('Descrição da exceção: ' + str(exc))\n",
        "  print ('Tipo da exceção: ' + str(type(exc)))\n",
        "  print('Lista de anos é menor que o valor escolhido. Espera-se um valor entre 0 (zero) e ' + str(len(anos) - 1))"
      ],
      "metadata": {
        "id": "DOYt3zMlOe5i"
      },
      "execution_count": null,
      "outputs": []
    },
    {
      "cell_type": "markdown",
      "source": [
        "Uma boa prática na captura de erros, é capturar o erro específico, e não de forma genérica. Então, continuando o nosso último exemplo, já identificamos o erro, por isso podemos tratá-lo direto, e deixar o erro genérico para algum outro erro que não identificamos nos primeiros testes, conforme o código abaixo: "
      ],
      "metadata": {
        "id": "7mVCmNc0PjrF"
      }
    },
    {
      "cell_type": "code",
      "source": [
        "anos = [2019, 2020, 2021, 2022]\n",
        "\n",
        "try: \n",
        "  ano_atual = anos[9]\n",
        "  print(ano_atual)\n",
        "except IndexError: \n",
        "    print('Lista de anos é menor que o valor escolhido. Espera-se um valor entre 0 (zero) e ' + str(len(anos) - 1))\n",
        "except Exception as exc:\n",
        "  print(exc)\n",
        "  print('Erro genérico')"
      ],
      "metadata": {
        "id": "Dx7ZoB-XP2No"
      },
      "execution_count": null,
      "outputs": []
    },
    {
      "cell_type": "markdown",
      "source": [
        "### **2.2 try/except/finally**"
      ],
      "metadata": {
        "id": "grFlynILQsKG"
      }
    },
    {
      "cell_type": "code",
      "source": [
        "nome = 'Hugo Alves'\n",
        "idade = 19\n",
        "\n",
        "try:\n",
        "  apresentacao = 'Oi, meu nome é ' + nome + ' e eu tenho ' + idade + ' anos'\n",
        "  print(apresentacao)\n",
        "except TypeError:\n",
        "  idade = str(idade)\n",
        "finally:\n",
        "  print('Segunda chance')\n",
        "  apresentacao = 'Oi, meu nome é ' + nome + ' e eu tenho ' + idade + ' anos'\n",
        "  print(apresentacao)"
      ],
      "metadata": {
        "id": "ZCUunDNuRB2Q"
      },
      "execution_count": null,
      "outputs": []
    },
    {
      "cell_type": "markdown",
      "source": [
        "## **3.Estrutura condicional for / in**"
      ],
      "metadata": {
        "id": "AydMW4Ol8-nW"
      }
    },
    {
      "cell_type": "markdown",
      "source": [
        "### **3.1 for / in**"
      ],
      "metadata": {
        "id": "_Jsdt4ythRpY"
      }
    },
    {
      "cell_type": "markdown",
      "source": [
        "Estrutura que permite a execução repetida de um bloco de código repetidas vezes\n",
        "\n",
        "**Estrutura:** \n",
        "```\n",
        "for variável_temporaria in coleção:\n",
        "  <execute esse código>\n",
        "```\n",
        "\n"
      ],
      "metadata": {
        "id": "PueXnYXThtXn"
      }
    },
    {
      "cell_type": "markdown",
      "source": [
        "### **3.2 for / in / range**"
      ],
      "metadata": {
        "id": "9UtUWIoDhUvx"
      }
    },
    {
      "cell_type": "code",
      "source": [
        "for valor in range(8):\n",
        "  print(valor)"
      ],
      "metadata": {
        "id": "DMv_VRnihUYW"
      },
      "execution_count": null,
      "outputs": []
    },
    {
      "cell_type": "code",
      "source": [
        "soma = 0 \n",
        "\n",
        "for valor in range(0, 10):\n",
        "  soma += valor\n",
        "\n",
        "print(soma)"
      ],
      "metadata": {
        "id": "E4rh73c-jZmW"
      },
      "execution_count": null,
      "outputs": []
    },
    {
      "cell_type": "code",
      "source": [
        "# Nesse caso o range vai andar de duas em duas casas, o passo\n",
        "for multiplos_dois in range(2,10,2):\n",
        "  print(multiplos_dois)"
      ],
      "metadata": {
        "id": "Td88Vh73kkXs"
      },
      "execution_count": null,
      "outputs": []
    },
    {
      "cell_type": "markdown",
      "source": [
        "### **3.3 for / in / list**"
      ],
      "metadata": {
        "id": "JuS_s1IxhXAW"
      }
    },
    {
      "cell_type": "code",
      "source": [
        "frutas = ['maca', 'banana', 'laranja', 'uva', 'pera']\n",
        "\n",
        "for fruta in frutas:\n",
        " print(fruta)"
      ],
      "metadata": {
        "id": "r4ij6-HVhZQq"
      },
      "execution_count": null,
      "outputs": []
    },
    {
      "cell_type": "code",
      "source": [
        "frase = 'Fala pessoal, meu nome é André Perez.'\n",
        "\n",
        "for caracter in frase:\n",
        " if (caracter == 'A') | (caracter == 'z'):\n",
        "  print(f\"A letra '{caracter}' está presente na frase.\" )"
      ],
      "metadata": {
        "id": "LscBOy5BlHIz"
      },
      "execution_count": null,
      "outputs": []
    },
    {
      "cell_type": "markdown",
      "source": [
        "### **3.4 for / in / dict**"
      ],
      "metadata": {
        "id": "7WeWK0IKhbTp"
      }
    },
    {
      "cell_type": "code",
      "source": [
        "credito = {'123': 750, '456': 812, '789': 980}"
      ],
      "metadata": {
        "id": "qNuW2o0nhd1d"
      },
      "execution_count": 42,
      "outputs": []
    },
    {
      "cell_type": "code",
      "source": [
        "for chave, valor in credito.items():\n",
        " print( f'Para o documento {chave}, ' + 'o valor do escore de crédito é {valor}.' )\n",
        " print('\\n')"
      ],
      "metadata": {
        "id": "wzxayL25l5YN"
      },
      "execution_count": null,
      "outputs": []
    },
    {
      "cell_type": "code",
      "source": [
        "for chave in credito.keys():\n",
        " print(chave)\n",
        " print(credito[chave])\n",
        " print( f'Para o documento {chave}, ' + 'o valor do escore de crédito é {credito[chave]}.' )\n",
        " print('\\n')"
      ],
      "metadata": {
        "id": "JWSda9dhl8B2"
      },
      "execution_count": null,
      "outputs": []
    },
    {
      "cell_type": "code",
      "source": [
        "for valor in credito.values():\n",
        " print(valor)\n",
        " print( f'O valor do escore de crédito é ' + '{valor}, mas não temos mais as chaves :(' )\n",
        " print('\\n')"
      ],
      "metadata": {
        "id": "JRUVgb2nmB_S"
      },
      "execution_count": null,
      "outputs": []
    },
    {
      "cell_type": "markdown",
      "source": [
        "### **3.5 break / continue**"
      ],
      "metadata": {
        "id": "oyWWZ2UZhe-o"
      }
    },
    {
      "cell_type": "code",
      "source": [
        "for i in range(0, 10*10*10):\n",
        " print(i)\n",
        " if i == 10:\n",
        "    break"
      ],
      "metadata": {
        "id": "NeuzrJKIhher"
      },
      "execution_count": null,
      "outputs": []
    },
    {
      "cell_type": "code",
      "source": [
        "# Exemplo com um único número\n",
        "\n",
        "numero = 3\n",
        "\n",
        "if numero % 2 == 0:\n",
        " print(f'O numero {numero} é par')\n",
        "else:\n",
        " print(f'O numero {numero} é impar')"
      ],
      "metadata": {
        "id": "iLZFsKuTmxt4"
      },
      "execution_count": null,
      "outputs": []
    },
    {
      "cell_type": "code",
      "source": [
        "# Exemplo com vários números\n",
        "\n",
        "numeros = [361, 553, 194, 13, 510, 33, 135]\n",
        "\n",
        "for numero in numeros:\n",
        " if numero % 2 == 0:\n",
        "  print(f'O numero {numero} é par')\n",
        "  break\n",
        "else:\n",
        "  print(f'O numero {numero} é impar')"
      ],
      "metadata": {
        "id": "cN1YbJ-Vm58s"
      },
      "execution_count": null,
      "outputs": []
    },
    {
      "cell_type": "code",
      "source": [
        "# Usando o continue\n",
        "\n",
        "numeros = [361, 553, 194, 13, 510, 33, 135]\n",
        "\n",
        "for numero in numeros:\n",
        "  if numero % 2 == 0:\n",
        "    print(f'O numero {numero} é par')\n",
        "    break\n",
        "  else:\n",
        "    continue\n",
        "    print(f'O numero {numero} é impar')"
      ],
      "metadata": {
        "id": "Jo1-mmoYnLmu"
      },
      "execution_count": null,
      "outputs": []
    },
    {
      "cell_type": "markdown",
      "source": [
        "## **4.Exercícios**\n",
        "\n"
      ],
      "metadata": {
        "id": "FBUSSprZpM6z"
      }
    },
    {
      "cell_type": "markdown",
      "source": [
        "Os exercícios foram separados em um notebook específico, que pode ser acessado [aqui](https://colab.research.google.com/drive/1ngEIlgpBMmIPxOqIofJmMj9BggcXfC7h?usp=sharing)"
      ],
      "metadata": {
        "id": "dl2nt8LZpZR4"
      }
    }
  ]
}