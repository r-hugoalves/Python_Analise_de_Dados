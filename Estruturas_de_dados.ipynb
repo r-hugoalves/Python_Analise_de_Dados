{
  "nbformat": 4,
  "nbformat_minor": 0,
  "metadata": {
    "colab": {
      "provenance": [],
      "toc_visible": true,
      "authorship_tag": "ABX9TyP4Jt3akoqam0JnPWiVn7nE",
      "include_colab_link": true
    },
    "kernelspec": {
      "name": "python3",
      "display_name": "Python 3"
    },
    "language_info": {
      "name": "python"
    }
  },
  "cells": [
    {
      "cell_type": "markdown",
      "metadata": {
        "id": "view-in-github",
        "colab_type": "text"
      },
      "source": [
        "<a href=\"https://colab.research.google.com/github/r-hugoalves/Python_Analise_de_Dados/blob/Estrutura_de_Dados/Estruturas_de_dados.ipynb\" target=\"_parent\"><img src=\"https://colab.research.google.com/assets/colab-badge.svg\" alt=\"Open In Colab\"/></a>"
      ]
    },
    {
      "cell_type": "markdown",
      "source": [
        "#Estruturas de dados"
      ],
      "metadata": {
        "id": "8GsiEy3X5O1s"
      }
    },
    {
      "cell_type": "markdown",
      "source": [
        "## Tópicos"
      ],
      "metadata": {
        "id": "lTPftWqd6gUm"
      }
    },
    {
      "cell_type": "markdown",
      "source": [
        "1. Listas\n",
        "2. Conjuntos\n",
        "3. Dicionários\n",
        "4. Exercícios"
      ],
      "metadata": {
        "id": "I4VPj6IV6iWx"
      }
    },
    {
      "cell_type": "markdown",
      "source": [
        "## 1.Listas"
      ],
      "metadata": {
        "id": "5krK_Pk26o6H"
      }
    },
    {
      "cell_type": "markdown",
      "source": [
        "### **1.1 Motivação**"
      ],
      "metadata": {
        "id": "F8sln9eJ6sbe"
      }
    },
    {
      "cell_type": "markdown",
      "source": [
        "O aplicativo do seu banco registra toda a sua movimentação financeira. No final do dia, o app consolida o saldo final para que você possa controlar sua vida financeira."
      ],
      "metadata": {
        "id": "JKS8A4tY6ziy"
      }
    },
    {
      "cell_type": "code",
      "source": [
        "dia_11_saldo_inicial = 1000"
      ],
      "metadata": {
        "id": "YDO00vCy6qNH"
      },
      "execution_count": null,
      "outputs": []
    },
    {
      "cell_type": "code",
      "source": [
        "dia_11_transacao_1 = 243\n",
        "dia_11_transacao_2 = -798.58\n",
        "dia_11_transacao_3 = 427.12\n",
        "dia_11_transacao_4 = -10.91"
      ],
      "metadata": {
        "id": "Lki6yWa_7Fil"
      },
      "execution_count": null,
      "outputs": []
    },
    {
      "cell_type": "code",
      "source": [
        "dia_11_saldo_final = dia_11_saldo_inicial + \\\n",
        "dia_11_transacao_1 + \\\n",
        "dia_11_transacao_2 + \\\n",
        "dia_11_transacao_3 + \\\n",
        "dia_11_transacao_4"
      ],
      "metadata": {
        "id": "Rk2Ojsro7JYm"
      },
      "execution_count": null,
      "outputs": []
    },
    {
      "cell_type": "code",
      "source": [
        "print(dia_11_saldo_final)"
      ],
      "metadata": {
        "id": "mBONCcmU7LPc"
      },
      "execution_count": null,
      "outputs": []
    },
    {
      "cell_type": "markdown",
      "source": [
        "Existe alguma maneira melhor de armazenar as transações diárias? "
      ],
      "metadata": {
        "id": "yf55ZMxl7X0O"
      }
    },
    {
      "cell_type": "markdown",
      "source": [
        "### **1.2 Definição**"
      ],
      "metadata": {
        "id": "WeMS02db7g1e"
      }
    },
    {
      "cell_type": "markdown",
      "source": [
        "Armazenam sequencias mutáveis e ordenadas de valores. E são do tipo `list`"
      ],
      "metadata": {
        "id": "xlmvWiaR7kQ5"
      }
    },
    {
      "cell_type": "code",
      "source": [
        "usuario_web = [ 'Hugo Alves', 'hugo.alves', 'hugo123', 'hugo@gmail.com']\n",
        "\n",
        "print(usuario_web)\n",
        "print(type(usuario_web))"
      ],
      "metadata": {
        "id": "44JdV3Ed7Nj9"
      },
      "execution_count": null,
      "outputs": []
    },
    {
      "cell_type": "code",
      "source": [
        "idade = 21\n",
        "saldo_em_conta = 759.56\n",
        "usuario_loggedin = True\n",
        "\n",
        "usuario_web = [ 'Hugo Alves', idade, 'hugo.alves', 'hugo123', 'hugo@gmail.com', saldo_em_conta, usuario_loggedin]\n",
        "print(usuario_web)\n",
        "print(type(usuario_web))"
      ],
      "metadata": {
        "id": "TvfIKj1_8uIl"
      },
      "execution_count": null,
      "outputs": []
    },
    {
      "cell_type": "markdown",
      "source": [
        "### **1.3 Operações**"
      ],
      "metadata": {
        "id": "E4a4ig4e9eNa"
      }
    },
    {
      "cell_type": "markdown",
      "source": [
        "As operações da estrutura do tipo `list` são: \n",
        "* `+` (concatenação)"
      ],
      "metadata": {
        "id": "4rG7fVa99ipO"
      }
    },
    {
      "cell_type": "code",
      "source": [
        "# Fabricantes de hardware mobile\n",
        "\n",
        "fabricantes_mobile_china = ['xiaomi', 'huawei']\n",
        "fabricantes_mobile_eua = ['apple', 'samsung']\n",
        "\n",
        "fabricantes_mobile = fabricantes_mobile_china + fabricantes_mobile_eua\n",
        "\n",
        "print(fabricantes_mobile)\n",
        "print(fabricantes_mobile_china)\n",
        "print(fabricantes_mobile_eua)"
      ],
      "metadata": {
        "id": "augdoP989R4m"
      },
      "execution_count": null,
      "outputs": []
    },
    {
      "cell_type": "markdown",
      "source": [
        "Outra operação muito conhecida e utilizada também é o `slicing`"
      ],
      "metadata": {
        "id": "ZQOI4KVE-jt-"
      }
    },
    {
      "cell_type": "code",
      "source": [
        "# Fatiamento fixo\n",
        "\n",
        "print(f'0.: {fabricantes_mobile[0]}')\n",
        "print(f'3.: {fabricantes_mobile[3]}')\n",
        "print(f'-1.: {fabricantes_mobile[-1]}')\n",
        "\n",
        "#Fatiamento por intervalo\n",
        "\n",
        "fabricantes_mobile_china = fabricantes_mobile[0:2]\n",
        "fabricantes_mobile_eua = fabricantes_mobile[2:4]\n",
        "\n",
        "print('\\nChina.: ' + str(fabricantes_mobile_china))\n",
        "print('EUA.: ' + str(fabricantes_mobile_eua))\n",
        "                                            "
      ],
      "metadata": {
        "id": "Y1fjd5Rv-WgE"
      },
      "execution_count": null,
      "outputs": []
    },
    {
      "cell_type": "markdown",
      "source": [
        "Podemos também substituir elementos a uma posição específica da lista"
      ],
      "metadata": {
        "id": "Z46j5Ol0AGiz"
      }
    },
    {
      "cell_type": "code",
      "source": [
        "print(fabricantes_mobile)\n",
        "\n",
        "# alterando um elemento da lista (mutável)\n",
        "\n",
        "fabricantes_mobile[2] = 'motorola'\n",
        "print(fabricantes_mobile)"
      ],
      "metadata": {
        "id": "HmJUTu6tALNq"
      },
      "execution_count": null,
      "outputs": []
    },
    {
      "cell_type": "markdown",
      "source": [
        "### **1.4 Métodos**"
      ],
      "metadata": {
        "id": "aFLNbMygArrk"
      }
    },
    {
      "cell_type": "code",
      "source": [
        "juros = [0.05, 0.07, 0.02, 0.09, 1.5]"
      ],
      "metadata": {
        "id": "wVmy83E0AeKf"
      },
      "execution_count": null,
      "outputs": []
    },
    {
      "cell_type": "code",
      "source": [
        "# inserir um elemento sem substituir: list.insert(index, val)\n",
        "\n",
        "juros.insert(0, 0.009)\n",
        "juros.insert(len(juros), 2 )\n",
        "print(juros)"
      ],
      "metadata": {
        "id": "897muysaBGj6"
      },
      "execution_count": null,
      "outputs": []
    },
    {
      "cell_type": "code",
      "source": [
        "# adicionar elementos no final da lista\n",
        "\n",
        "juros.append(2.5)\n",
        "print(juros)"
      ],
      "metadata": {
        "id": "3zpaLksLBii_"
      },
      "execution_count": null,
      "outputs": []
    },
    {
      "cell_type": "code",
      "source": [
        "# remover elementos específicos da lista\n",
        "\n",
        "juros.remove(0.02)\n",
        "print(juros)"
      ],
      "metadata": {
        "id": "ESMMCqHaCIwR"
      },
      "execution_count": null,
      "outputs": []
    },
    {
      "cell_type": "code",
      "source": [
        "# remover um elemento pelo índice da lista\n",
        "\n",
        "primeiro_juros = juros.pop(0)\n",
        "\n",
        "print(juros)\n",
        "print(primeiro_juros)"
      ],
      "metadata": {
        "id": "0Gpm_TtlCjnW"
      },
      "execution_count": null,
      "outputs": []
    },
    {
      "cell_type": "markdown",
      "source": [
        "### **1.5 Conversão**"
      ],
      "metadata": {
        "id": "4IMlQr-wDvnp"
      }
    },
    {
      "cell_type": "markdown",
      "source": [
        "A conversão `string` <> list é um caminho de duas vias, por contas das características semelhantes que possuem. "
      ],
      "metadata": {
        "id": "8swt7thpD31N"
      }
    },
    {
      "cell_type": "code",
      "source": [
        "email = 'hugo@gmail.com'\n",
        "caracteres_email = list(email)\n",
        "\n",
        "print(email)\n",
        "print(caracteres_email)"
      ],
      "metadata": {
        "id": "JgyCsDNmDrro"
      },
      "execution_count": null,
      "outputs": []
    },
    {
      "cell_type": "markdown",
      "source": [
        "### **1.6 Revisitando a motivação**"
      ],
      "metadata": {
        "id": "5GJ4VtFtEbYW"
      }
    },
    {
      "cell_type": "code",
      "source": [
        "saldo_em_conta = 1000\n",
        "\n",
        "transacoes_diarias = []\n",
        "\n",
        "nova_transacao = transacoes_diarias.append(243)\n",
        "nova_transacao = transacoes_diarias.append(-798.58)\n",
        "nova_transacao = transacoes_diarias.append(427.12)\n",
        "nova_transacao = transacoes_diarias.append(-10.91)\n",
        "\n",
        "print(transacoes_diarias)\n",
        "\n",
        "# O saldo final pode ser exibido da seguinte forma (trabalhando apenas com a lista)\n",
        "\n",
        "saldo_final = saldo_em_conta + transacoes_diarias[0] + transacoes_diarias[1] + transacoes_diarias[2] + transacoes_diarias[3]\n",
        "print(saldo_final)"
      ],
      "metadata": {
        "id": "2fU-QZmXEOyW"
      },
      "execution_count": null,
      "outputs": []
    },
    {
      "cell_type": "markdown",
      "source": [
        "## 2.Conjuntos"
      ],
      "metadata": {
        "id": "_tTCQpTTH3Ky"
      }
    },
    {
      "cell_type": "markdown",
      "source": [
        "### **2.1 Motivacação**"
      ],
      "metadata": {
        "id": "VKVhkpzgK0IM"
      }
    },
    {
      "cell_type": "markdown",
      "source": [
        "Você trabalha como analista de dados de mídias sociais e precisa descobrir todas as hashtags que alcançaram o top trending no Twitter duranta uma semana. Você já conseguiu as hashtags por dia da semana"
      ],
      "metadata": {
        "id": "gXY7DPfgLIIx"
      }
    },
    {
      "cell_type": "code",
      "source": [
        "hashtags_seg = ['#tiago', '#joao', '#bbb']\n",
        "hashtags_ter = ['#sarah', '#bbb', '#fiuk']\n",
        "hashtags_qua = ['#gil', '#thelma', '#lourdes']\n",
        "hashtags_qui = ['#rafa', '#fora', '#danilo']\n",
        "hashtags_sex = ['#juliete', '#arthur', '#bbb']\n"
      ],
      "metadata": {
        "id": "O7ZeJ0l6LXLg"
      },
      "execution_count": null,
      "outputs": []
    },
    {
      "cell_type": "markdown",
      "source": [
        "Uma simples concatenação das listas, faz com que alguns valores fiquem duplicados: "
      ],
      "metadata": {
        "id": "UZeuqfXOLe1T"
      }
    },
    {
      "cell_type": "code",
      "source": [
        "hashtags_semana = hashtags_seg + hashtags_ter + hashtags_qua + hashtags_qui + hashtags_sex\n",
        "print(hashtags_semana)"
      ],
      "metadata": {
        "id": "D9fTvhiXLnKq"
      },
      "execution_count": null,
      "outputs": []
    },
    {
      "cell_type": "markdown",
      "source": [
        "Como melhorar, e apresentar os dados sem duplicar? "
      ],
      "metadata": {
        "id": "l6zDtZ2rLu10"
      }
    },
    {
      "cell_type": "markdown",
      "source": [
        "### **2.2 Definição**"
      ],
      "metadata": {
        "id": "r0FATXWYK4Kf"
      }
    },
    {
      "cell_type": "markdown",
      "source": [
        "Armazenam sequênias imutáveis e desornadadas, com valores sem repetição. São do tipo: `set`"
      ],
      "metadata": {
        "id": "P82cwEDvLzJ0"
      }
    },
    {
      "cell_type": "code",
      "source": [
        "frutas = {'banana', 'maçã', 'uva', 'melancia', 'uva'}\n",
        "\n",
        "print(frutas)\n",
        "print(type(frutas))"
      ],
      "metadata": {
        "id": "ufMfTc6QMJhZ"
      },
      "execution_count": null,
      "outputs": []
    },
    {
      "cell_type": "markdown",
      "source": [
        "### **2.3 Operações**"
      ],
      "metadata": {
        "id": "JrPskr1kK6jT"
      }
    },
    {
      "cell_type": "markdown",
      "source": [
        "As operações da estrutura do tipo `set` são:\n",
        "\n",
        "* `-` (diferença)"
      ],
      "metadata": {
        "id": "PuzKBH0LMmPa"
      }
    },
    {
      "cell_type": "code",
      "source": [
        "#Países da europa\n",
        "\n",
        "norte_europa = {'Reino Unido', 'Suécia', 'Rússia', 'Noruega', 'Dinamarca'}\n",
        "escandinavia = {'Noruega', 'Dinamarca', 'Suécia'}"
      ],
      "metadata": {
        "id": "lB6gNSlcMsvK"
      },
      "execution_count": null,
      "outputs": []
    },
    {
      "cell_type": "code",
      "source": [
        "norte_europa_nao_escandinava = norte_europa - escandinavia\n",
        "print(norte_europa_nao_escandinava)"
      ],
      "metadata": {
        "id": "D6N7eqLRNOoH"
      },
      "execution_count": null,
      "outputs": []
    },
    {
      "cell_type": "code",
      "source": [
        "escandinavo_nao_norte_europa = escandinavia - norte_europa\n",
        "print(escandinavo_nao_norte_europa)"
      ],
      "metadata": {
        "id": "iPJAhzIQNaXK"
      },
      "execution_count": null,
      "outputs": []
    },
    {
      "cell_type": "markdown",
      "source": [
        "### **2.4 Métodos**"
      ],
      "metadata": {
        "id": "Fq155VzlK89_"
      }
    },
    {
      "cell_type": "code",
      "source": [
        "cursos = {'Exatas', 'Humanas', 'Biológicas'}\n",
        "print(cursos)"
      ],
      "metadata": {
        "id": "0IqiyKf5N7UG"
      },
      "execution_count": null,
      "outputs": []
    },
    {
      "cell_type": "code",
      "source": [
        "# inserir um elemento no conjunto: set.add(val)\n",
        "\n",
        "cursos.add('Saúde')\n",
        "print(cursos)"
      ],
      "metadata": {
        "id": "K7i7QdKhOQno"
      },
      "execution_count": null,
      "outputs": []
    },
    {
      "cell_type": "code",
      "source": [
        "#remover um elemento do conjunto: set.remove(val)\n",
        "\n",
        "cursos.remove('Saúde')\n",
        "print(cursos)"
      ],
      "metadata": {
        "id": "TECBJN3WOafH"
      },
      "execution_count": null,
      "outputs": []
    },
    {
      "cell_type": "markdown",
      "source": [
        "### **2.5 Conversão**"
      ],
      "metadata": {
        "id": "o4GgKYbmLAiU"
      }
    },
    {
      "cell_type": "markdown",
      "source": [
        "Podemos converter: conjuntos <> listas (caminho de mão dupla)"
      ],
      "metadata": {
        "id": "IwfNgTtYO07w"
      }
    },
    {
      "cell_type": "code",
      "source": [
        "times_paulistas = {'São Paulo', 'Corinthians', 'Palmeiras', 'Santos'}\n",
        "\n",
        "print(times_paulistas)\n",
        "print(type(times_paulistas))"
      ],
      "metadata": {
        "id": "vlQ1Uqe_O7mU"
      },
      "execution_count": null,
      "outputs": []
    },
    {
      "cell_type": "code",
      "source": [
        "# Fazendo a conversão\n",
        "\n",
        "print(list(times_paulistas))\n",
        "print(type(list(times_paulistas)))\n",
        "\n",
        "print(set(list(times_paulistas)))\n",
        "print(type(set(list(times_paulistas))))\n"
      ],
      "metadata": {
        "id": "r8ihU0E7PIy4"
      },
      "execution_count": null,
      "outputs": []
    },
    {
      "cell_type": "markdown",
      "source": [
        "### **2.6 Revisitando a motivação**"
      ],
      "metadata": {
        "id": "THwr5WtHLDUG"
      }
    },
    {
      "cell_type": "code",
      "source": [
        "print(hashtags_semana)\n",
        "print(len(hashtags_semana))"
      ],
      "metadata": {
        "id": "kYJXqT19PZl_"
      },
      "execution_count": null,
      "outputs": []
    },
    {
      "cell_type": "code",
      "source": [
        "hashtags_semana = list(set(hashtags_seg + hashtags_ter + hashtags_qua + hashtags_qui + hashtags_sex))\n",
        "\n",
        "print(hashtags_semana)\n",
        "print(len(hashtags_semana))"
      ],
      "metadata": {
        "id": "mw_-wRA7Plv4"
      },
      "execution_count": null,
      "outputs": []
    },
    {
      "cell_type": "markdown",
      "source": [
        "# 3.Dicionários"
      ],
      "metadata": {
        "id": "YRDdBHAyQjDa"
      }
    },
    {
      "cell_type": "markdown",
      "source": [
        "### **3.1 Motivação**"
      ],
      "metadata": {
        "id": "ojj2XpZCZyYm"
      }
    },
    {
      "cell_type": "markdown",
      "source": [
        "Para se conectar a uma rede wi-fi, você precisa de duas informações: o nome da rede e a senha de acesso. Quando você vai acessar uma nova rede, você encontra uma lista de redes disponíveis: "
      ],
      "metadata": {
        "id": "htoVT5r3aFXc"
      }
    },
    {
      "cell_type": "code",
      "source": [
        "wifi_disponiveis = ['rede1', 'cnx_cnx', 'uai-fi', 'r3d3']\n",
        "print(wifi_disponiveis)"
      ],
      "metadata": {
        "id": "7pE2HIHMafb6"
      },
      "execution_count": null,
      "outputs": []
    },
    {
      "cell_type": "markdown",
      "source": [
        "Conseguimos identificar quais são os nomes de redes e suas respectivas senhas? Talvez uma `list` não seja a melhor opção para armazenar esse tipo de dado"
      ],
      "metadata": {
        "id": "3__9EjwNanI0"
      }
    },
    {
      "cell_type": "markdown",
      "source": [
        "### **3.2 Definição**"
      ],
      "metadata": {
        "id": "-gfWcfm5Z213"
      }
    },
    {
      "cell_type": "markdown",
      "source": [
        "Armazenam sequências no formato chave-valor. São do tipo `dict`\n",
        "\n",
        "Não são permitidas chaves duplicadas!"
      ],
      "metadata": {
        "id": "J7ZwtMUQbGu1"
      }
    },
    {
      "cell_type": "code",
      "source": [
        "brasil = {\n",
        "    'capital': 'Brasília', \n",
        "    'idioma': 'Português', \n",
        "    'populacao': 210\n",
        "}\n",
        "\n",
        "print(brasil)\n",
        "print(type(brasil))\n",
        "\n",
        "print(brasil['capital'])\n",
        "print(brasil['idioma'])\n",
        "print(brasil['populacao'])"
      ],
      "metadata": {
        "id": "dNfXWDVxbO9P"
      },
      "execution_count": null,
      "outputs": []
    },
    {
      "cell_type": "markdown",
      "source": [
        "Podemos criar também, dicionários compostos: "
      ],
      "metadata": {
        "id": "G8amc606csMc"
      }
    },
    {
      "cell_type": "code",
      "source": [
        "cadastro = {\n",
        "    'hugo':{\n",
        "        'nome': 'Hugo Alves',\n",
        "        'ano_nascimento': 2001,\n",
        "        'pais': {\n",
        "            'pai': {\n",
        "                'nome_do_pai': '<nome-do-pai>',\n",
        "                'ano_nascimento': 1964\n",
        "            },\n",
        "            'mae': {\n",
        "                'nome_da_mae': '<nome-da-mae>',\n",
        "                'ano_nascimento': 1968\n",
        "            },\n",
        "        }\n",
        "    }\n",
        "}\n",
        "\n",
        "print(cadastro)\n",
        "print(cadastro['hugo']['nome'])\n",
        "print(cadastro['hugo']['pais']['pai'])\n",
        "print(cadastro['hugo']['pais']['mae']['ano_nascimento'])"
      ],
      "metadata": {
        "id": "FF85CuaVcrKK"
      },
      "execution_count": null,
      "outputs": []
    },
    {
      "cell_type": "markdown",
      "source": [
        "### **3.3 Operações**"
      ],
      "metadata": {
        "id": "b7--HfWwZ5r2"
      }
    },
    {
      "cell_type": "code",
      "source": [
        "# credito = {'CPF_cliente': score_disponível}\n",
        "credito = {'123': 750, '789': 980}"
      ],
      "metadata": {
        "id": "kpXu3AS3eYGe"
      },
      "execution_count": 17,
      "outputs": []
    },
    {
      "cell_type": "code",
      "source": [
        "# Acessando elementos do dicionário\n",
        "\n",
        "score_123 = credito['123']\n",
        "score_789 = credito['789']\n",
        "\n",
        "print(score_123)\n",
        "print(score_789)"
      ],
      "metadata": {
        "id": "dLQi9KtTeq_k"
      },
      "execution_count": null,
      "outputs": []
    },
    {
      "cell_type": "code",
      "source": [
        "# Atualizando elementos do dicionário\n",
        "\n",
        "credito['123'] = 435\n",
        "print(credito)"
      ],
      "metadata": {
        "id": "5CIbPinWe-8F"
      },
      "execution_count": null,
      "outputs": []
    },
    {
      "cell_type": "code",
      "source": [
        "# Adicionando um novo elemento: basta criar um novo elemento chave-valor\n",
        "\n",
        "credito['456'] = 855\n",
        "print(credito)"
      ],
      "metadata": {
        "id": "Gx5UEmqZfHTm"
      },
      "execution_count": null,
      "outputs": []
    },
    {
      "cell_type": "markdown",
      "source": [
        "### **3.4 Métodos**"
      ],
      "metadata": {
        "id": "pHeuDHf2Z7_U"
      }
    },
    {
      "cell_type": "code",
      "source": [
        "artigo = dict(\n",
        " titulo='Modulo 02 | Python: Estruturas de Dados',\n",
        " corpo='Topicos, Aulas, Listas, Conjuntos, Dicionários, ...',\n",
        " total_caracteres=1530\n",
        ")"
      ],
      "metadata": {
        "id": "sWXP8PyKfZYK"
      },
      "execution_count": 22,
      "outputs": []
    },
    {
      "cell_type": "code",
      "source": [
        "# adicionar / atualizar um elemento pela chave-valor: dict.update(dict)\n",
        "\n",
        "print(artigo)\n",
        "\n",
        "artigo.update({'total_caracteres': 7850})\n",
        "print(artigo)"
      ],
      "metadata": {
        "id": "JpNsVStpf7Uo"
      },
      "execution_count": null,
      "outputs": []
    },
    {
      "cell_type": "code",
      "source": [
        "# remover um elemento pela chave: dict.pop(key)\n",
        "\n",
        "print(artigo)\n",
        "\n",
        "remocao = artigo.pop('total_caracteres')\n",
        "print(artigo)"
      ],
      "metadata": {
        "id": "LY4xf9JxgaM5"
      },
      "execution_count": null,
      "outputs": []
    },
    {
      "cell_type": "markdown",
      "source": [
        "### **3.5 Conversão**"
      ],
      "metadata": {
        "id": "Youuof9qZ-VC"
      }
    },
    {
      "cell_type": "markdown",
      "source": [
        "Podemos converter as chaves e os itens de um dicionário em uma lista. \n",
        "\n",
        "**`Obs.: não é uma via de mão dupla, pois não existem dados suficientes em uma lista para converter em um dicionário`**"
      ],
      "metadata": {
        "id": "M1PwVqYphIG8"
      }
    },
    {
      "cell_type": "code",
      "source": [
        "artigo = dict(\n",
        " titulo='Modulo 02 | Python: Estruturas de Dados',\n",
        " corpo='Topicos, Aulas, Listas, Conjuntos, Dicionários, ...',\n",
        " total_caracteres=1530\n",
        ")"
      ],
      "metadata": {
        "id": "VHezdveNhQlY"
      },
      "execution_count": 30,
      "outputs": []
    },
    {
      "cell_type": "code",
      "source": [
        "chaves = list(artigo.keys())\n",
        "\n",
        "print(chaves)\n",
        "print(type(chaves))\n"
      ],
      "metadata": {
        "id": "9Z1vaIelsj0s"
      },
      "execution_count": null,
      "outputs": []
    },
    {
      "cell_type": "code",
      "source": [
        "valores = list(artigo.values())\n",
        "\n",
        "print(valores)\n",
        "print(type(valores))"
      ],
      "metadata": {
        "id": "05TbIXpns6CP"
      },
      "execution_count": null,
      "outputs": []
    },
    {
      "cell_type": "markdown",
      "source": [
        "### **3.6 Revisitando a motivação**"
      ],
      "metadata": {
        "id": "U3vheZRWaAqw"
      }
    },
    {
      "cell_type": "code",
      "source": [
        "wifi_disponiveis = []\n",
        "\n",
        "rede = {'nome': 'rede1', 'senha': 'cnx_cnx'}\n",
        "wifi_disponiveis.append(rede)\n",
        "\n",
        "rede = {'nome': 'uai-fi', 'senha': 'r3d3'}\n",
        "wifi_disponiveis.append(rede)\n",
        "\n",
        "print(wifi_disponiveis)"
      ],
      "metadata": {
        "id": "1F8CGxjTZ2OY"
      },
      "execution_count": null,
      "outputs": []
    },
    {
      "cell_type": "markdown",
      "source": [
        "## 4.Exercícios"
      ],
      "metadata": {
        "id": "ri3SqQ6wy8Fq"
      }
    },
    {
      "cell_type": "markdown",
      "source": [
        "Foi criado um notebook específico para a resolução dos exercícios, que pode ser consultado [por aqui](https://colab.research.google.com/drive/1VErTpwRFmRogSdz1p1c9XbXJtxtlcfPH?usp=sharing)"
      ],
      "metadata": {
        "id": "gju9Fplhy-P1"
      }
    },
    {
      "cell_type": "code",
      "source": [],
      "metadata": {
        "id": "10deN-DnO8YD"
      },
      "execution_count": null,
      "outputs": []
    }
  ]
}