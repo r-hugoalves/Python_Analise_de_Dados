{
  "nbformat": 4,
  "nbformat_minor": 0,
  "metadata": {
    "colab": {
      "provenance": [],
      "toc_visible": true,
      "authorship_tag": "ABX9TyPtuaTIfIQjnLsL6D4WO90u",
      "include_colab_link": true
    },
    "kernelspec": {
      "name": "python3",
      "display_name": "Python 3"
    },
    "language_info": {
      "name": "python"
    }
  },
  "cells": [
    {
      "cell_type": "markdown",
      "metadata": {
        "id": "view-in-github",
        "colab_type": "text"
      },
      "source": [
        "<a href=\"https://colab.research.google.com/github/r-hugoalves/Python_Analise_de_Dados/blob/Arquivos_Funcoes/Arquivos_e_Fun%C3%A7%C3%B5es.ipynb\" target=\"_parent\"><img src=\"https://colab.research.google.com/assets/colab-badge.svg\" alt=\"Open In Colab\"/></a>"
      ]
    },
    {
      "cell_type": "markdown",
      "source": [
        "# Arquivos e Funções"
      ],
      "metadata": {
        "id": "77RqUiQCW4Pq"
      }
    },
    {
      "cell_type": "markdown",
      "source": [
        "## Tópicos"
      ],
      "metadata": {
        "id": "F3k5yrrAW7jn"
      }
    },
    {
      "cell_type": "markdown",
      "source": [
        "1.Leitura <br>\n",
        "2.Escrita <br>\n",
        "3.Funções <br>\n",
        "4.Exercícios <br>"
      ],
      "metadata": {
        "id": "dD8vzNyZW_Lk"
      }
    },
    {
      "cell_type": "markdown",
      "source": [
        "## **1.Leitura**"
      ],
      "metadata": {
        "id": "90EjTloJXSB6"
      }
    },
    {
      "cell_type": "markdown",
      "source": [
        "### **1.1 Configuração Inicial**"
      ],
      "metadata": {
        "id": "UshQdtTVXmC-"
      }
    },
    {
      "cell_type": "markdown",
      "source": [
        "Para trabalhar com os arquivos, vamos utilizar uma função do Google Colab para criar arquivos. Ou seja, isso não é uma função do Pyhton, mas do Colab!"
      ],
      "metadata": {
        "id": "o7s4cOnVYgPN"
      }
    },
    {
      "cell_type": "code",
      "source": [
        "%%writefile banco.csv\n",
        "\n",
        "age,job,marital,education,default,balance,housing,loan\n",
        "30,unemployed,married,primary,no,1787,no,no\n",
        "33,services,married,secondary,no,4789,yes,yes\n",
        "35,management,single,tertiary,no,1350,yes,no\n",
        "30,management,married,tertiary,no,1476,yes,yes\n",
        "59,blue-collar,married,secondary,no,0,yes,no\n",
        "35,management,single,tertiary,no,747,no,no\n",
        "36,self-employed,married,tertiary,no,307,yes,no\n",
        "39,technician,married,secondary,no,147,yes,no\n",
        "41,entrepreneur,married,tertiary,no,221,yes,no\n",
        "43,services,married,primary,no,-88,yes,yes"
      ],
      "metadata": {
        "id": "uHPEAQDWYtK7"
      },
      "execution_count": null,
      "outputs": []
    },
    {
      "cell_type": "markdown",
      "source": [
        "### **1.2 with / open**"
      ],
      "metadata": {
        "id": "llx1zF08Xo80"
      }
    },
    {
      "cell_type": "markdown",
      "source": [
        "Comando para ler arquivos\n",
        "\n",
        "```\n",
        "with open(file='<caminho do arquivo>', mode='<modo de leitura>', encoding='<decodificador>') as <apelido>:\n",
        "  bloco de código\n",
        "```\n",
        "\n",
        "Chamamos o modo de leitura como: \n",
        "* **r**: Abrir o arquivo para leitura (padrão)\n"
      ],
      "metadata": {
        "id": "RwSLAQccb9GD"
      }
    },
    {
      "cell_type": "markdown",
      "source": [
        "### **1.3 read**"
      ],
      "metadata": {
        "id": "eD4c6M6PXo00"
      }
    },
    {
      "cell_type": "code",
      "source": [
        "# Ler todo o conteúdo do arquivo\n",
        "\n",
        "conteudo = None\n",
        "\n",
        "with open(file='./banco.csv', mode='r', encoding='utf8') as arquivo:\n",
        "  conteudo = arquivo.read()\n",
        "\n",
        "print(conteudo)"
      ],
      "metadata": {
        "id": "aPU0rOWfcjJz"
      },
      "execution_count": null,
      "outputs": []
    },
    {
      "cell_type": "markdown",
      "source": [
        "### **1.4 readline**"
      ],
      "metadata": {
        "id": "3RoZbz2VXv4c"
      }
    },
    {
      "cell_type": "code",
      "source": [
        "# Ler o conteúdo do arquivo uma linha por vez\n",
        "\n",
        "conteudo = []\n",
        "\n",
        "with open(file='./banco.csv', mode='r', encoding='utf8') as arquivo:\n",
        "  linha = arquivo.readline() # leitura da primeira linha\n",
        "  while linha:\n",
        "    conteudo.append(linha)\n",
        "    linha = arquivo.readline() # lê uma nova linha, se a linha não existir, salva o valor None\n",
        "\n",
        "for linha in conteudo:\n",
        "  print(linha)"
      ],
      "metadata": {
        "id": "IxrV7lF5dVbs"
      },
      "execution_count": null,
      "outputs": []
    },
    {
      "cell_type": "code",
      "source": [
        "idades = []\n",
        "\n",
        "with open(file='./banco.csv', mode='r', encoding='utf8')as arquivo:\n",
        " linha = arquivo.readline() # lê o cabeçalho\n",
        " linha = arquivo.readline() # lê a primeira linha\n",
        " while linha:\n",
        "  linha_separada = linha.split(sep=',') # quebra a string nas virgulas e # salva os resultados em uma lista\n",
        "  idade = linha_separada[0] # seleciona o primeiro elemento da lista\n",
        "  idade = int(idade) # converte o valor de string para integer (inteiro)\n",
        "  idades.append(idade) # salva o valor na lista de idades\n",
        "  linha = arquivo.readline() # lê uma nova linha, se a linha não existir, # salva o valor None\n",
        "print(idades)"
      ],
      "metadata": {
        "id": "Ec4H9S_7fpan"
      },
      "execution_count": null,
      "outputs": []
    },
    {
      "cell_type": "markdown",
      "source": [
        "## **2.Escrita**"
      ],
      "metadata": {
        "id": "1vSj6qliXXqW"
      }
    },
    {
      "cell_type": "markdown",
      "source": [
        "### **2.1 with / open**"
      ],
      "metadata": {
        "id": "xxA9qc7vXzVy"
      }
    },
    {
      "cell_type": "markdown",
      "source": [
        "Comando para ler/escrever arquivos.\n",
        "\n",
        "```\n",
        "with open(file='<caminho do arquivo do arquivo>', mode='<modo de\n",
        "leitura/escrita>', encoding='<decodificador>') as <apelido>:\n",
        " bloco de código\n",
        "```\n",
        "Os modos de leitura são:\n",
        "* r: Abrir o arquivo para leitura (padrão);\n",
        "* w: Abrir o arquivo para escrita (sobreescreve o arquivo original).\n",
        "* a: Abrir o arquivo para acrescentar (não sobreescreve o arquivo original)"
      ],
      "metadata": {
        "id": "n9rDlGIIicBr"
      }
    },
    {
      "cell_type": "markdown",
      "source": [
        "### **2.2 write**"
      ],
      "metadata": {
        "id": "z3mtw-MmX5lS"
      }
    },
    {
      "cell_type": "code",
      "source": [
        "# Usando o modo de escrita (w)\n",
        "# Se o arquivo não existir, ele será criado\n",
        "\n",
        "with open(file='idades.csv', mode='w', encoding='utf8') as fp:\n",
        "  linha = 'idade' + '\\n'\n",
        "  fp.write(linha)\n",
        "  for idade in idades:\n",
        "    linha = str(idade) + '\\n'\n",
        "    fp.write(linha)\n"
      ],
      "metadata": {
        "id": "1AZpR99TiwAM"
      },
      "execution_count": null,
      "outputs": []
    },
    {
      "cell_type": "code",
      "source": [
        "# Usando o modo de acréscimo (a)\n",
        "\n",
        "with open(file='idades.csv', mode='a', encoding='utf8') as fp:\n",
        "  for idade in idades:\n",
        "    linha = str(idade + 100) + '\\n'\n",
        "    fp.write(linha)"
      ],
      "metadata": {
        "id": "imernUeujlhn"
      },
      "execution_count": null,
      "outputs": []
    },
    {
      "cell_type": "markdown",
      "source": [
        "### **2.3 Covertendo a extensão de um arquivo**"
      ],
      "metadata": {
        "id": "n6_68zM1k3vg"
      }
    },
    {
      "cell_type": "code",
      "source": [
        "%%writefile banco-texto.txt\n",
        "age,job,marital,education,default,balance,housing,loan\n",
        "30,unemployed,married,primary,no,1787,no,no\n",
        "33,services,married,secondary,no,4789,yes,yes\n",
        "35,management,single,tertiary,no,1350,yes,no\n",
        "30,management,married,tertiary,no,1476,yes,yes\n",
        "59,blue-collar,married,secondary,no,0,yes,no\n",
        "35,management,single,tertiary,no,747,no,no\n",
        "36,self-employed,married,tertiary,no,307,yes,no\n",
        "39,technician,married,secondary,no,147,yes,no\n",
        "41,entrepreneur,married,tertiary,no,221,yes,no\n",
        "43,services,married,primary,no,-88,yes,yes"
      ],
      "metadata": {
        "id": "m1aW5IRnk3Bi"
      },
      "execution_count": null,
      "outputs": []
    },
    {
      "cell_type": "code",
      "source": [
        "with open(file='./banco-texto.txt', mode='r', encoding='utf8') as leitura:\n",
        " with open(file='banco-csv.csv', mode='w', encoding='utf8') as escrita:\n",
        "  linha = leitura.readline()\n",
        "  while linha:\n",
        "    escrita.write(linha)\n",
        "    linha = leitura.readline()"
      ],
      "metadata": {
        "id": "PmenYrHzlFHH"
      },
      "execution_count": null,
      "outputs": []
    },
    {
      "cell_type": "markdown",
      "source": [
        "## **3.Funções**"
      ],
      "metadata": {
        "id": "examR7oJXXFp"
      }
    },
    {
      "cell_type": "markdown",
      "source": [
        "### **3.1 Motivação**"
      ],
      "metadata": {
        "id": "2vk_yJgaX8Ux"
      }
    },
    {
      "cell_type": "markdown",
      "source": [
        "Você trabalha na bolsa de valores e precisa simular o retorno de um investimento para diversos cenários"
      ],
      "metadata": {
        "id": "ijyhCyQo8VmQ"
      }
    },
    {
      "cell_type": "code",
      "source": [
        "valor_inicial, taxa_juros_anual, anos = 1000.00, 0.05, 10\n",
        "valor_final = valor_inicial\n",
        "for ano in range(1, anos+1):\n",
        " valor_final = valor_final * (1 + taxa_juros_anual)\n",
        "valor_final = round(valor_final, 2)\n",
        "print( f'Para um valor inicial de R$ {valor_inicial} ' + ' e uma taxa de juros anual de {taxa_juros_anual}, ' + 'em {anos} anos você terá R$ {valor_final}')\n",
        "\n",
        "valor_inicial, taxa_juros_anual, anos = 1020.00, 0.03, 10\n",
        "valor_final = valor_inicial\n",
        "for ano in range(1, anos+1):\n",
        " valor_final = valor_final * (1 + taxa_juros_anual)\n",
        "valor_final = round(valor_final, 2)\n",
        "\n",
        "print( f'Para um valor inicial de R$ {valor_inicial} ' + 'e uma taxa de juros anual de {taxa_juros_anual}, ' + 'em {anos} anos você terá R$ {valor_final}')"
      ],
      "metadata": {
        "id": "LYcCj7Hw8aQC"
      },
      "execution_count": null,
      "outputs": []
    },
    {
      "cell_type": "markdown",
      "source": [
        "Como podemos fazer para reaproveitar o código e evitar repetições?"
      ],
      "metadata": {
        "id": "MsPuF1X98q6E"
      }
    },
    {
      "cell_type": "markdown",
      "source": [
        "### **3.2 Definição**"
      ],
      "metadata": {
        "id": "-_xvrI1YYBPO"
      }
    },
    {
      "cell_type": "markdown",
      "source": [
        "Um bloco de código que é executado apenas quando é chamado.\n",
        "\n",
        "```\n",
        "def <nome>(<param1>, <param2>, ...)\n",
        "  bloco de codigo\n",
        "  return <valor de retorno>\n",
        "```\n",
        "\n",
        "Para chamar a função, fazemos da seguinte forma: \n",
        "\n",
        "```\n",
        "var = <nome da funcao>(param1, param2, ...)\n",
        "```"
      ],
      "metadata": {
        "id": "aS8m7hq182Ap"
      }
    },
    {
      "cell_type": "code",
      "source": [
        "def imprime(mensagem: str):\n",
        "  print(mensagem)"
      ],
      "metadata": {
        "id": "AYZB8Cnec2Y5"
      },
      "execution_count": 1,
      "outputs": []
    },
    {
      "cell_type": "code",
      "source": [
        "texto = 'Olá, meu nome é Hugo :)'"
      ],
      "metadata": {
        "id": "AfHZxduYdDFj"
      },
      "execution_count": 4,
      "outputs": []
    },
    {
      "cell_type": "code",
      "source": [
        "# Podemos chamar a função de algumas formas: \n",
        "\n",
        "imprime(texto)\n",
        "imprime(mensagem=texto)\n",
        "imprime(mensagem='Olá, meu nome é Hugo :)')"
      ],
      "metadata": {
        "id": "_Q6v72M7dzv4"
      },
      "execution_count": null,
      "outputs": []
    },
    {
      "cell_type": "markdown",
      "source": [
        "### **3.3 Retorno**"
      ],
      "metadata": {
        "id": "KSgchNd1YBGm"
      }
    },
    {
      "cell_type": "markdown",
      "source": [
        "Toda função retorna pelo menos um valor, se não específicado, retorna o valor nulo."
      ],
      "metadata": {
        "id": "KSnR-dY2eKfb"
      }
    },
    {
      "cell_type": "code",
      "source": [
        "def maiusculo(texto: str) -> str:\n",
        "  text_maiusculo = texto.upper()\n",
        "  return text_maiusculo"
      ],
      "metadata": {
        "id": "JXXZUVKWeMlx"
      },
      "execution_count": 9,
      "outputs": []
    },
    {
      "cell_type": "code",
      "source": [
        "nome = 'Hugo Alves'\n",
        "print(nome)\n",
        "\n",
        "nome_maiusculo = maiusculo(nome)\n",
        "print(nome_maiusculo)"
      ],
      "metadata": {
        "id": "LWkWy6P_fSvx"
      },
      "execution_count": null,
      "outputs": []
    },
    {
      "cell_type": "code",
      "source": [
        "# Podemos também, retornar mais de um valor\n",
        "\n",
        "def extrair_usuario_email_provedor(email: str) -> str:\n",
        "  email_separado = email.split(sep='@') # aqui ele vai quebrar o e-mail informado em uma lista com dois valores\n",
        "  usuario = email_separado[0] # acessa o primeiro elemento da lista\n",
        "  provedor = email_separado[1] # acessa o segundo elemento da lista\n",
        "  print(email_separado)\n",
        "  return usuario, provedor"
      ],
      "metadata": {
        "id": "foJcA1mkfnDJ"
      },
      "execution_count": 13,
      "outputs": []
    },
    {
      "cell_type": "code",
      "source": [
        "email = 'hugo.alves@gmail.com'\n",
        "\n",
        "usuario, provedor = extrair_usuario_email_provedor(email=email)\n",
        "\n",
        "print(usuario)\n",
        "print(provedor)"
      ],
      "metadata": {
        "id": "tKheb-wklieI"
      },
      "execution_count": null,
      "outputs": []
    },
    {
      "cell_type": "markdown",
      "source": [
        "### **3.4 Parâmetros**"
      ],
      "metadata": {
        "id": "3wCIZh_lYA5O"
      }
    },
    {
      "cell_type": "markdown",
      "source": [
        "Função sem parâmetro"
      ],
      "metadata": {
        "id": "4npfFfdWrjvz"
      }
    },
    {
      "cell_type": "code",
      "source": [
        "def pi() -> float:\n",
        "  return 3.1415926"
      ],
      "metadata": {
        "id": "7XRxRDTWrnPP"
      },
      "execution_count": 17,
      "outputs": []
    },
    {
      "cell_type": "code",
      "source": [
        "pi = pi()\n",
        "print(pi)"
      ],
      "metadata": {
        "id": "_yEtyZKtrtFr"
      },
      "execution_count": null,
      "outputs": []
    },
    {
      "cell_type": "markdown",
      "source": [
        "Função com parâmetro"
      ],
      "metadata": {
        "id": "PdOOcA9TsT0P"
      }
    },
    {
      "cell_type": "code",
      "source": [
        "def escreve_arquivo(nome: str, cabecalho: str, conteudos: list) -> bool:\n",
        "\n",
        "  try:\n",
        "    with open(file=nome, mode='w', encoding='utf8') as fp:\n",
        "      linha = cabecalho + '\\n'\n",
        "      fp.write(linha)\n",
        "      for conteudo in conteudos:\n",
        "        linha = str(conteudo) + '\\n'\n",
        "        fp.write(linha)\n",
        "  \n",
        "  except Exception as exc:\n",
        "    print(exc)\n",
        "    print('Erro genérico')\n",
        "    return False\n",
        "  \n",
        "  return True"
      ],
      "metadata": {
        "id": "kFL0uCH3sWxT"
      },
      "execution_count": 20,
      "outputs": []
    },
    {
      "cell_type": "code",
      "source": [
        "nome = 'idades-funcao.csv'\n",
        "cabecalho = 'idade'\n",
        "conteudos = [30, 56, 37, 12, 23, 98, 75, 29, 39]\n",
        "\n",
        "criacao = escreve_arquivo(nome=nome, cabecalho=cabecalho, conteudos=conteudos)\n",
        "print(criacao)"
      ],
      "metadata": {
        "id": "lf197u2rtHO0"
      },
      "execution_count": null,
      "outputs": []
    },
    {
      "cell_type": "markdown",
      "source": [
        "### **3.5 Revisitando a motivação**"
      ],
      "metadata": {
        "id": "hf6B_0-9YAXx"
      }
    },
    {
      "cell_type": "code",
      "source": [
        "def juros_compostos_anual( valor_inicial: float, taxa_juros_anual: float, anos: int) -> float: \n",
        " valor_final = valor_inicial\n",
        " for ano in range(1, anos+1):\n",
        "   valor_final =valor_final * (1 + taxa_juros_anual)\n",
        " valor_final = round(valor_final, 2)\n",
        " print( f'Para um valor inicial de R$ {valor_inicial} e uma taxa de juros anual de {taxa_juros_anual} + em {anos} anos você terá R$ {valor_final}')\n",
        " return valor_final\n",
        "\n",
        "valor_inicial, taxa_juros_anual, anos = 1000.00, 0.05, 10\n",
        "valor_final = juros_compostos_anual( valor_inicial=valor_inicial, taxa_juros_anual=taxa_juros_anual, anos=anos)\n",
        "\n",
        "valor_inicial, taxa_juros_anual, anos = 1020.00, 0.03, 10\n",
        "valor_final = juros_compostos_anual( valor_inicial=valor_inicial, taxa_juros_anual=taxa_juros_anual, anos=anos)"
      ],
      "metadata": {
        "id": "egpxD7fEuniK"
      },
      "execution_count": null,
      "outputs": []
    },
    {
      "cell_type": "markdown",
      "source": [
        "## **4.Exercícios**"
      ],
      "metadata": {
        "id": "0ZfnyymnXf_G"
      }
    },
    {
      "cell_type": "markdown",
      "source": [
        "Para os exercícios, foi criado um notebook específico que pode ser acessado [aqui](https://colab.research.google.com/drive/1BHyLAkFC1Rjaa75IHgHAQlV02jj1O-sD?usp=sharing)"
      ],
      "metadata": {
        "id": "4uV-w6vOzqwW"
      }
    }
  ]
}