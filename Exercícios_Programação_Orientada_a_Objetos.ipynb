{
  "nbformat": 4,
  "nbformat_minor": 0,
  "metadata": {
    "colab": {
      "provenance": [],
      "toc_visible": true,
      "authorship_tag": "ABX9TyNoOnd9FL15SbYpV6XU8Htm",
      "include_colab_link": true
    },
    "kernelspec": {
      "name": "python3",
      "display_name": "Python 3"
    },
    "language_info": {
      "name": "python"
    }
  },
  "cells": [
    {
      "cell_type": "markdown",
      "metadata": {
        "id": "view-in-github",
        "colab_type": "text"
      },
      "source": [
        "<a href=\"https://colab.research.google.com/github/r-hugoalves/Python_Analise_de_Dados/blob/Programacao_Orientada_a_Objetos/Exerc%C3%ADcios_Programa%C3%A7%C3%A3o_Orientada_a_Objetos.ipynb\" target=\"_parent\"><img src=\"https://colab.research.google.com/assets/colab-badge.svg\" alt=\"Open In Colab\"/></a>"
      ]
    },
    {
      "cell_type": "markdown",
      "source": [
        "## Exercícios: Programação Orientada a Objetos"
      ],
      "metadata": {
        "id": "BCtBqI1oTYMv"
      }
    },
    {
      "cell_type": "markdown",
      "source": [
        "Notebook específico para a resolução de exercícios. Todo o material teórico se encontra [aqui](https://colab.research.google.com/drive/1dvMdoIHuP6u-gKMOyBkQzW-BRmefgA7_?usp=sharing)"
      ],
      "metadata": {
        "id": "u4XEDTmYTbZK"
      }
    },
    {
      "cell_type": "markdown",
      "source": [
        "### Preparando o ambiente"
      ],
      "metadata": {
        "id": "0WjCDSgOTs7S"
      }
    },
    {
      "cell_type": "code",
      "source": [
        "%%writefile carros.csv\n",
        "id,valor_venda,valor_manutencao,portas,pessoas,porta_malas\n",
        "1,vhigh,med,2,2,small\n",
        "2,med,vhigh,2,2,small\n",
        "3,low,vhigh,2,2,small\n",
        "4,low,high,2,2,small\n",
        "5,low,high,2,2,small\n",
        "6,low,high,4,4,big\n",
        "7,low,high,4,4,big\n",
        "8,low,med,2,2,small\n",
        "9,low,med,2,2,small\n",
        "10,low,med,2,2,small\n",
        "11,low,med,4,4,big\n",
        "12,low,low,2,2,small\n",
        "13,low,low,4,4,small\n",
        "14,low,low,4,4,med"
      ],
      "metadata": {
        "colab": {
          "base_uri": "https://localhost:8080/",
          "height": 0
        },
        "id": "u7Uo1_jtUIUS",
        "outputId": "595c4721-34b6-4308-974b-d61b7143026b"
      },
      "execution_count": 4,
      "outputs": [
        {
          "output_type": "stream",
          "name": "stdout",
          "text": [
            "Writing carros.csv\n"
          ]
        }
      ]
    },
    {
      "cell_type": "code",
      "source": [
        "%%writefile musica.txt\n",
        "Roda Viva\n",
        "Chico Buarque\n",
        "Tem dias que a gente se sente\n",
        "Como quem partiu ou morreu\n",
        "A gente estancou de repente\n",
        "Ou foi o mundo então que cresceu\n",
        "A gente quer ter voz ativa\n",
        "No nosso destino mandar \n",
        "Mas eis que chega a roda viva\n",
        "E carrega o destino pra lá\n",
        "Roda mundo, roda-gigante\n",
        "Roda moinho, roda pião\n",
        "O tempo rodou num instante\n",
        "Nas voltas do meu coração\n",
        "A gente vai contra a corrente\n",
        "Até não poder resistir\n",
        "Na volta do barco é que sente\n",
        "O quanto deixou de cumprir\n",
        "Faz tempo que a gente cultiva\n",
        "A mais linda roseira que há\n",
        "Mas eis que chega a roda viva\n",
        "E carrega a roseira pra lá\n",
        "Roda mundo, roda-gigante\n",
        "Roda moinho, roda pião"
      ],
      "metadata": {
        "colab": {
          "base_uri": "https://localhost:8080/",
          "height": 0
        },
        "id": "3jKGVvOFZAhI",
        "outputId": "0f286cd7-42be-4fcc-bee9-747c3b5e9e33"
      },
      "execution_count": 5,
      "outputs": [
        {
          "output_type": "stream",
          "name": "stdout",
          "text": [
            "Writing musica.txt\n"
          ]
        }
      ]
    },
    {
      "cell_type": "markdown",
      "source": [
        "### Exercício 1"
      ],
      "metadata": {
        "id": "vtiuuQ5bTtD4"
      }
    },
    {
      "cell_type": "markdown",
      "source": [
        "Crie a classe ArquivoTexto . Ela deve conter os seguintes atributos:\n",
        "* self.arquivo : Atributo do tipo str com o nome do arquivo;\n",
        "* self.conteudo : Atributo do tipo list onde cada elemento é uma linha do\n",
        "arquivo;\n",
        "\n",
        "A classe também deve conter o seguinte método:\n",
        "* self.extrair_linha : Método que recebe como parâmetro o número da linha e retorna o seu conteúdo.\n"
      ],
      "metadata": {
        "id": "Schrih0jZFfG"
      }
    },
    {
      "cell_type": "code",
      "source": [
        "from os import remove\n",
        "class ArquivoTexto(object):\n",
        "\n",
        "  def __init__(self, arquivo: str):\n",
        "    self.arquivo = arquivo\n",
        "    self.conteudo = self._ler_conteudo()\n",
        "  \n",
        "  def _ler_conteudo(self):\n",
        "\n",
        "    conteudo = None\n",
        "\n",
        "    with open(file=self.arquivo, mode='r', encoding='utf8') as arquivo:\n",
        "      conteudo = arquivo.readlines()\n",
        "\n",
        "    return conteudo \n",
        "  \n",
        "  def extrair_linha(self, numero_linha: int):\n",
        "    self.numero_linha = numero_linha\n",
        "    conteudo_linha = []\n",
        "    for linha in self.conteudo:\n",
        "      novo_valor = linha.strip()\n",
        "      separador = ''\n",
        "      limpando_valor = [separador.join(novo_valor)]\n",
        "      conteudo_linha.append(limpando_valor)\n",
        "\n",
        "    #print(conteudo_linha[numero_linha-1])\n",
        "    return conteudo_linha[numero_linha-1]"
      ],
      "metadata": {
        "id": "tZsNQEfVZq1L"
      },
      "execution_count": 96,
      "outputs": []
    },
    {
      "cell_type": "code",
      "source": [
        "# Testando a implementação da classe\n",
        "\n",
        "numero_linha = 1\n",
        "arquivo_texto = ArquivoTexto(arquivo='./musica.txt')\n",
        "\n",
        "print(arquivo_texto.extrair_linha(numero_linha=numero_linha))\n",
        "\n",
        "numero_linha = 10\n",
        "print( arquivo_texto.extrair_linha(numero_linha=numero_linha))"
      ],
      "metadata": {
        "colab": {
          "base_uri": "https://localhost:8080/",
          "height": 0
        },
        "id": "Hnm7XScyfVlH",
        "outputId": "61f43065-9a2d-4f8e-fa17-23522cef38ff"
      },
      "execution_count": 33,
      "outputs": [
        {
          "output_type": "stream",
          "name": "stdout",
          "text": [
            "['Roda Viva']\n",
            "['E carrega o destino pra lá']\n"
          ]
        }
      ]
    },
    {
      "cell_type": "markdown",
      "source": [
        "### Exercício 2"
      ],
      "metadata": {
        "id": "bfO8IMU-TtMW"
      }
    },
    {
      "cell_type": "markdown",
      "source": [
        "Crie a classe ArquivoCSV. Ela deve extender (herdar) a classe ArquivoTexto para reaproveitar os seus atributos (self.arquivo e self.conteudo) e método (self.extrair_linha). Além disso, adicione o seguinte atributo:\n",
        "* self.colunas: Atributo do tipo list onde os elementos são os nome das\n",
        "colunas;\n",
        "\n",
        "A classe também deve conter o seguinte método:\n",
        "\n",
        "* self.extrair_coluna_da_linha: Método que recebe como parâmetro o\n",
        "numero da linha e o indice da coluna e retorna o valor em questão."
      ],
      "metadata": {
        "id": "w94--zGYZWcb"
      }
    },
    {
      "cell_type": "code",
      "source": [
        "class ArquivoCSV(ArquivoTexto):\n",
        "  def __init__(self, arquivo: str):\n",
        "    super().__init__(arquivo)\n",
        "    self.coluna = self.conteudo[0] # sempre exibir o nome das colunas\n",
        "\n",
        "  def extrair_coluna_da_linha(self, numero_linha: int, numero_coluna: int):\n",
        "    self.numero_linha = numero_linha\n",
        "    self.numero_coluna = numero_coluna\n",
        "\n",
        "    valor_linha = str(self.extrair_linha(numero_linha+1))\n",
        "    valor_coluna = valor_linha.split(sep=',')\n",
        "\n",
        "    extracao_coluna = valor_coluna[numero_coluna-1]\n",
        "\n",
        "    print(valor_coluna)\n",
        "    return extracao_coluna"
      ],
      "metadata": {
        "id": "rYT6-mWHUiRT"
      },
      "execution_count": 92,
      "outputs": []
    },
    {
      "cell_type": "code",
      "source": [
        "arquivo_csv = ArquivoCSV(arquivo='carros.csv')\n",
        "numero_linha = 1\n",
        "\n",
        "#print(arquivo_csv.extrair_linha( numero_linha=numero_linha)) # OKAY id,valor_venda,valor_manutencao,portas,pessoas,porta_malas\n",
        "#print(arquivo_csv.coluna) # ['id', 'valor_venda', 'valor_manutencao', 'portas', 'pessoas', 'porta_malas']\n",
        "\n",
        "numero_linha = 10\n",
        "numero_coluna = 2\n",
        "\n",
        "print(arquivo_csv.extrair_coluna_da_linha(numero_linha=numero_linha, numero_coluna=numero_coluna)) # low"
      ],
      "metadata": {
        "colab": {
          "base_uri": "https://localhost:8080/",
          "height": 0
        },
        "id": "9RxpbbbJA44s",
        "outputId": "bf05a091-a795-4bcc-e750-2fc708a01344"
      },
      "execution_count": 95,
      "outputs": [
        {
          "output_type": "stream",
          "name": "stdout",
          "text": [
            "[\"['10\", 'low', 'med', '2', '2', \"small']\"]\n",
            "low\n"
          ]
        }
      ]
    }
  ]
}