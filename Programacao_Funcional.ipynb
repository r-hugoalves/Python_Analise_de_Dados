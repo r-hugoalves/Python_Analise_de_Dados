{
  "nbformat": 4,
  "nbformat_minor": 0,
  "metadata": {
    "colab": {
      "provenance": [],
      "toc_visible": true,
      "authorship_tag": "ABX9TyPye0ss2GPUYY6/SH8M6V6R",
      "include_colab_link": true
    },
    "kernelspec": {
      "name": "python3",
      "display_name": "Python 3"
    },
    "language_info": {
      "name": "python"
    }
  },
  "cells": [
    {
      "cell_type": "markdown",
      "metadata": {
        "id": "view-in-github",
        "colab_type": "text"
      },
      "source": [
        "<a href=\"https://colab.research.google.com/github/r-hugoalves/Python_Analise_de_Dados/blob/Programacao_Funcional/Programacao_Funcional.ipynb\" target=\"_parent\"><img src=\"https://colab.research.google.com/assets/colab-badge.svg\" alt=\"Open In Colab\"/></a>"
      ]
    },
    {
      "cell_type": "markdown",
      "source": [
        "# Programação funcional"
      ],
      "metadata": {
        "id": "LpFhPGicwz40"
      }
    },
    {
      "cell_type": "markdown",
      "source": [
        "Estilo de programação que busca manipular os dados com muitas e pequenas funções"
      ],
      "metadata": {
        "id": "-gSu4wya1Ygi"
      }
    },
    {
      "cell_type": "markdown",
      "source": [
        "## **Tópicos**"
      ],
      "metadata": {
        "id": "HDHaPJdJwzwy"
      }
    },
    {
      "cell_type": "markdown",
      "source": [
        "\n",
        "\n",
        "1.   Função Lambda\n",
        "2.   Função Map\n",
        "3.   Função Filter\n",
        "4.   Função Reduce\n",
        "5.   Exercícios"
      ],
      "metadata": {
        "id": "qAia483H0ogd"
      }
    },
    {
      "cell_type": "markdown",
      "source": [
        "## **1. Função Lambda**"
      ],
      "metadata": {
        "id": "eZ578n2QwznF"
      }
    },
    {
      "cell_type": "markdown",
      "source": [
        "### **1.1 Definição**"
      ],
      "metadata": {
        "id": "5F2JRjy_0Bpv"
      }
    },
    {
      "cell_type": "markdown",
      "source": [
        "Função anônima (sem nome) com bloco de código super enxuto, e que pode ser salva em uma variável. Em geral é utilizada com outros métodos funcionais\n",
        "\n",
        "``` \n",
        "variavel = lambda params: expressao\n",
        "```"
      ],
      "metadata": {
        "id": "8NM4p_ya19GF"
      }
    },
    {
      "cell_type": "code",
      "source": [
        "# Exemplo de função lambda para extrair provedor de e-mail\n",
        "\n",
        "extrair_provedor_email = lambda email: email.split(sep='@')[-1]\n",
        "\n",
        "email = 'hugo@gmail.com'\n",
        "\n",
        "provedor_email = extrair_provedor_email(email)\n",
        "print(provedor_email)"
      ],
      "metadata": {
        "id": "Hs6IP88LDZRW"
      },
      "execution_count": null,
      "outputs": []
    },
    {
      "cell_type": "code",
      "source": [
        "# Exemplo de função lambda com estruturas condicionais\n",
        "\n",
        "numero_e_par = lambda numero: True if numero % 2 == 0 else False\n",
        "\n",
        "numeros = range(0,10)\n",
        "\n",
        "for numero in numeros:\n",
        "  if numero_e_par(numero) == True:\n",
        "    print(f'O número {numero} é par!')"
      ],
      "metadata": {
        "id": "04YWXBWcEkfM"
      },
      "execution_count": null,
      "outputs": []
    },
    {
      "cell_type": "markdown",
      "source": [
        "### **1.2 Função de alta ordem**"
      ],
      "metadata": {
        "id": "qbbf2LHD0Biq"
      }
    },
    {
      "cell_type": "markdown",
      "source": [
        "São funções que recebem outras funções como parâmetro ou retornam outra função"
      ],
      "metadata": {
        "id": "CNurnd9QFO1G"
      }
    },
    {
      "cell_type": "code",
      "source": [
        "# Definição da função\n",
        "\n",
        "def retorno(juros: float):\n",
        "  return lambda investimento: investimento * (1 + juros)"
      ],
      "metadata": {
        "id": "2Hpb741DFltr"
      },
      "execution_count": null,
      "outputs": []
    },
    {
      "cell_type": "code",
      "source": [
        "# Instanciação\n",
        "\n",
        "retorno_5_porcento = retorno(juros=0.05)\n",
        "retorno_10_porcento = retorno(juros=0.10)\n",
        "\n",
        "#print(retorno_5_porcento)\n",
        "\n",
        "valor_final = retorno_5_porcento(investimento=1000)\n",
        "print(valor_final)\n",
        "\n",
        "valor_final = retorno_10_porcento(investimento=1000)\n",
        "print(valor_final)"
      ],
      "metadata": {
        "id": "zrbM_4bUFt50"
      },
      "execution_count": null,
      "outputs": []
    },
    {
      "cell_type": "code",
      "source": [
        "# Uso da função\n",
        "\n",
        "anos = 10\n",
        "valor_inicial = 1000\n",
        "valor_final = valor_inicial\n",
        "\n",
        "for ano in range(1, anos+1):\n",
        "  valor_final = retorno_5_porcento(investimento=valor_final)\n",
        "\n",
        "valor_inicial = round(valor_final, 2)\n",
        "print(round(valor_final, 2))"
      ],
      "metadata": {
        "id": "BsPqDfqhG9QE"
      },
      "execution_count": null,
      "outputs": []
    },
    {
      "cell_type": "markdown",
      "source": [
        "## **2. Função map**"
      ],
      "metadata": {
        "id": "puviWJEOwzbV"
      }
    },
    {
      "cell_type": "markdown",
      "source": [
        "### **2.1 Definição**"
      ],
      "metadata": {
        "id": "eDBzqR-O0UfD"
      }
    },
    {
      "cell_type": "markdown",
      "source": [
        "Aplica uma função em todos os elementos de uma coleção (list, dict, etc) e retorna todos os elementos transformados.\n",
        "\n",
        "``` variavel = map(função, coleção) ```"
      ],
      "metadata": {
        "id": "x0Pnhqu7t9LQ"
      }
    },
    {
      "cell_type": "code",
      "source": [
        "numeros = [1, 2, 3]\n",
        "\n",
        "numeros_ao_cubo = map(lambda num: num ** 3, numeros)\n",
        "print(list(numeros_ao_cubo))"
      ],
      "metadata": {
        "id": "eYULlDszuEU5"
      },
      "execution_count": null,
      "outputs": []
    },
    {
      "cell_type": "markdown",
      "source": [
        "Ou seja, nesse exemplo acima, o que fizemos foi: \n",
        "\n",
        "1. criar a variável ```numeros_ao_cubo```\n",
        "2. na função `` map `` passamos como parâmetros a função `` lambda `` que eleva qualquer numero ao cubo, e vamos aplicar essa função lambda na coleção `` numeros `` que passamos como parâmetro também dentro da função map"
      ],
      "metadata": {
        "id": "y10s8oeAusP3"
      }
    },
    {
      "cell_type": "markdown",
      "source": [
        "### **2.2 Função de alta ordem**"
      ],
      "metadata": {
        "id": "GVidt6Lb0Uaj"
      }
    },
    {
      "cell_type": "code",
      "source": [
        "# Trabalhando com 1 parâmetro\n",
        "\n",
        "emails = ['hugo.alves@gmail.com', 'hugo@hotmail.com', 'hugoalves@outlook.com']\n",
        "extrair_provedor_email = lambda email: email.split(sep='@')[-1]\n",
        "\n",
        "provedores = map(extrair_provedor_email, emails)\n",
        "\n",
        "print(provedores) # aqui ele ainda está aguardando uma execução da função, ou seja, ele registra a intenção de executar a função\n",
        "print(list(provedores))"
      ],
      "metadata": {
        "id": "b1-74anMvcYG"
      },
      "execution_count": null,
      "outputs": []
    },
    {
      "cell_type": "code",
      "source": [
        "# Uma boa prática é aplicar a função lambda direto na função map\n",
        "\n",
        "provedores = list(map(lambda email: email.split(sep='@')[-1], emails))\n",
        "print(provedores)"
      ],
      "metadata": {
        "id": "9jVLNwWRyOmp"
      },
      "execution_count": null,
      "outputs": []
    },
    {
      "cell_type": "code",
      "source": [
        "# Trabalhado com +1 parâmetro\n",
        "\n",
        "anos = [10, 10, 10]\n",
        "taxas_juros = [0.05, 0.10, 0.15]\n",
        "valores_iniciais = [1000, 1000, 1000]\n",
        "def retorno( valor_inicial: float, taxa_juros: float, anos: int) -> float: \n",
        "  valor_final = valor_inicial\n",
        "  for ano in range(1,anos+1):\n",
        "    valor_final = valor_final * (1+taxa_juros)\n",
        "  return round(valor_final, 2)\n",
        "\n",
        "cenarios = list( map(retorno, valores_iniciais, taxas_juros, anos))\n",
        "print(cenarios)"
      ],
      "metadata": {
        "id": "qYGxtockzoTo"
      },
      "execution_count": null,
      "outputs": []
    },
    {
      "cell_type": "markdown",
      "source": [
        "## **3. Função Filter**"
      ],
      "metadata": {
        "id": "qQMhOP67wzIz"
      }
    },
    {
      "cell_type": "markdown",
      "source": [
        "### **3.1 Definição**"
      ],
      "metadata": {
        "id": "20YJRHuz0as_"
      }
    },
    {
      "cell_type": "markdown",
      "source": [
        "Aplica uma função lógica, que retorna um booleano, em todos os elementos de uma coleção e retorna apenas aqueles que resultaram em verdadeiro (True)\n",
        "\n",
        "```\n",
        "variavel = filter(função, coleção)\n",
        "```\n",
        "\n"
      ],
      "metadata": {
        "id": "2TYY_rNq7Hkt"
      }
    },
    {
      "cell_type": "code",
      "source": [
        "numeros = [1, 2, 3]\n",
        "\n",
        "numeros_impares = filter(lambda num: num % 2 !=0, numeros)\n",
        "print(list(numeros_impares))\n",
        "\n",
        "numeros_pares = filter(lambda num: num % 2 ==0, numeros)\n",
        "print(list(numeros_pares))"
      ],
      "metadata": {
        "id": "PW08oNGY8Pf4"
      },
      "execution_count": null,
      "outputs": []
    },
    {
      "cell_type": "markdown",
      "source": [
        "### **3.2 Função de alta ordem**"
      ],
      "metadata": {
        "id": "NkJqdZg10anH"
      }
    },
    {
      "cell_type": "code",
      "source": [
        "emails = ['hugo.alves@gmail.com', 'hugo@hotmail.com', 'hugoalves@outlook.com']\n",
        "\n",
        "emails_google = list(filter(lambda email: 'gmail' in email, emails))\n",
        "print(emails_google)\n",
        "\n",
        "emails_outlook = list(filter(lambda email: 'outlook' in email, emails))\n",
        "print(emails_outlook)"
      ],
      "metadata": {
        "id": "OL3nU6j0_l4r"
      },
      "execution_count": null,
      "outputs": []
    },
    {
      "cell_type": "markdown",
      "source": [
        "## **4. Função reduce**"
      ],
      "metadata": {
        "id": "7LGEqVJgwyrF"
      }
    },
    {
      "cell_type": "markdown",
      "source": [
        "### **4.1 Definição**"
      ],
      "metadata": {
        "id": "wpfkLTfr0gjW"
      }
    },
    {
      "cell_type": "markdown",
      "source": [
        "Aplica uma função a todos os elementos de uma coleção, dois a dois, e retorna apenas um elemento.\n",
        "\n",
        "```\n",
        "variavel = reduce(função, coleção)\n",
        "```"
      ],
      "metadata": {
        "id": "22O-2crNBobv"
      }
    },
    {
      "cell_type": "code",
      "source": [
        "from functools import reduce\n",
        "\n",
        "numeros = [1, 2, 3]\n",
        "\n",
        "soma = reduce(lambda x,y: x+y, numeros)\n",
        "print(soma)\n",
        "\n",
        "# Ele está fazendo o seguinte: \n",
        "# f(1,2) = 3\n",
        "# f(3, 3) / resultado da operação anterior + o próximo elemento"
      ],
      "metadata": {
        "id": "IxhTpWxlB_tT"
      },
      "execution_count": null,
      "outputs": []
    },
    {
      "cell_type": "markdown",
      "source": [
        "### **4.2 Função de alta ordem**"
      ],
      "metadata": {
        "id": "G-CYsUsM0geg"
      }
    },
    {
      "cell_type": "code",
      "source": [
        "from random import random\n",
        "\n",
        "numeros = [round(100 * random()) for _ in range(0, 100)]\n",
        "print(numeros)\n",
        "\n",
        "maior_numero = reduce(lambda primeiro, segundo: primeiro if primeiro >= segundo else segundo, numeros)\n",
        "print(maior_numero)"
      ],
      "metadata": {
        "id": "ASugw_AJEwN1"
      },
      "execution_count": null,
      "outputs": []
    },
    {
      "cell_type": "markdown",
      "source": [
        "### **4.3 Compossibilidade**"
      ],
      "metadata": {
        "id": "qWx4yoYt0gYs"
      }
    },
    {
      "cell_type": "markdown",
      "source": [
        "Combinação de métodos funcionais"
      ],
      "metadata": {
        "id": "YJ-0TggTJhpC"
      }
    },
    {
      "cell_type": "code",
      "source": [
        "soma_numeros = reduce(lambda x, y: x + y, filter(lambda numero: numero % 2 != 0, map(lambda numero: numero ** 2, numeros)))\n",
        "print(soma_numeros)\n",
        "\n",
        "# Aqui, utilizamos todas as funções que demonstradas de uma única vez. Ou seja, passamos como parâmetro no reduce\n",
        "# as duas funções filter, e map para serem aplicadas na coleção numeros\n",
        "\n",
        "# Ele começa de trás pra frente, ou seja: map -> filter -> reduce"
      ],
      "metadata": {
        "id": "KoFoTeiiJkQq"
      },
      "execution_count": null,
      "outputs": []
    },
    {
      "cell_type": "markdown",
      "source": [
        "## **5. Exercícios**"
      ],
      "metadata": {
        "id": "QF5fvOYGwyKZ"
      }
    },
    {
      "cell_type": "markdown",
      "source": [
        "Para os exercícios foi criado um notebook específico que pode ser acessado clicando [aqui](https://colab.research.google.com/drive/1DvFNGYoUXY0DFx2OP83Cj242V7M97XIh?usp=sharing)"
      ],
      "metadata": {
        "id": "H1TM8vhfMqGG"
      }
    }
  ]
}